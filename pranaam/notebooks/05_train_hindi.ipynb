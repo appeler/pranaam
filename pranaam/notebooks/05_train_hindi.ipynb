{
 "cells": [
  {
   "cell_type": "code",
   "execution_count": 1,
   "metadata": {
    "colab": {
     "base_uri": "https://localhost:8080/"
    },
    "executionInfo": {
     "elapsed": 6,
     "status": "ok",
     "timestamp": 1643240809063,
     "user": {
      "displayName": "Rajashekar Chintalapati",
      "photoUrl": "https://lh3.googleusercontent.com/a-/AOh14GhvaKS4oQw2sBCyEe0cxq9rGBNCg4w2UoWOgVaD660=s64",
      "userId": "03596288833202137831"
     },
     "user_tz": 480
    },
    "id": "n0B8Mlj-nEm-",
    "outputId": "69971d1f-9e07-4fb0-b437-ef59e515dda3"
   },
   "outputs": [
    {
     "name": "stdout",
     "output_type": "stream",
     "text": [
      "/content/drive/MyDrive/Colab/islampy\n"
     ]
    }
   ],
   "source": [
    "%cd /content/drive/MyDrive/Colab/islampy/"
   ]
  },
  {
   "cell_type": "code",
   "execution_count": 2,
   "metadata": {
    "executionInfo": {
     "elapsed": 3,
     "status": "ok",
     "timestamp": 1643240814713,
     "user": {
      "displayName": "Rajashekar Chintalapati",
      "photoUrl": "https://lh3.googleusercontent.com/a-/AOh14GhvaKS4oQw2sBCyEe0cxq9rGBNCg4w2UoWOgVaD660=s64",
      "userId": "03596288833202137831"
     },
     "user_tz": 480
    },
    "id": "YiK1aINz2psV"
   },
   "outputs": [],
   "source": [
    "import matplotlib.pyplot as plt\n",
    "import numpy as np\n",
    "import pandas as pd\n",
    "import tensorflow as tf\n",
    "from sklearn.model_selection import train_test_split"
   ]
  },
  {
   "cell_type": "markdown",
   "metadata": {
    "id": "Defdt9084Hnl"
   },
   "source": [
    "# Load Data"
   ]
  },
  {
   "cell_type": "code",
   "execution_count": 3,
   "metadata": {
    "executionInfo": {
     "elapsed": 3836,
     "status": "ok",
     "timestamp": 1643240821578,
     "user": {
      "displayName": "Rajashekar Chintalapati",
      "photoUrl": "https://lh3.googleusercontent.com/a-/AOh14GhvaKS4oQw2sBCyEe0cxq9rGBNCg4w2UoWOgVaD660=s64",
      "userId": "03596288833202137831"
     },
     "user_tz": 480
    },
    "id": "NjMdC1722xOw"
   },
   "outputs": [],
   "source": [
    "data = pd.read_csv('data/muslim_non_muslim.csv')"
   ]
  },
  {
   "cell_type": "code",
   "execution_count": 4,
   "metadata": {
    "colab": {
     "base_uri": "https://localhost:8080/",
     "height": 206
    },
    "executionInfo": {
     "elapsed": 29,
     "status": "ok",
     "timestamp": 1643240821588,
     "user": {
      "displayName": "Rajashekar Chintalapati",
      "photoUrl": "https://lh3.googleusercontent.com/a-/AOh14GhvaKS4oQw2sBCyEe0cxq9rGBNCg4w2UoWOgVaD660=s64",
      "userId": "03596288833202137831"
     },
     "user_tz": 480
    },
    "id": "VlD2TRI32xog",
    "outputId": "429a7238-b133-4262-e83d-4145b9f6a7d0"
   },
   "outputs": [
    {
     "data": {
      "text/html": [
       "\n",
       "  <div id=\"df-3f585e63-7e70-4032-b2b2-a41c7a5100c0\">\n",
       "    <div class=\"colab-df-container\">\n",
       "      <div>\n",
       "<style scoped>\n",
       "    .dataframe tbody tr th:only-of-type {\n",
       "        vertical-align: middle;\n",
       "    }\n",
       "\n",
       "    .dataframe tbody tr th {\n",
       "        vertical-align: top;\n",
       "    }\n",
       "\n",
       "    .dataframe thead th {\n",
       "        text-align: right;\n",
       "    }\n",
       "</style>\n",
       "<table border=\"1\" class=\"dataframe\">\n",
       "  <thead>\n",
       "    <tr style=\"text-align: right;\">\n",
       "      <th></th>\n",
       "      <th>name</th>\n",
       "      <th>muslim</th>\n",
       "    </tr>\n",
       "  </thead>\n",
       "  <tbody>\n",
       "    <tr>\n",
       "      <th>0</th>\n",
       "      <td>कृष्णमनी झा</td>\n",
       "      <td>0.0</td>\n",
       "    </tr>\n",
       "    <tr>\n",
       "      <th>1</th>\n",
       "      <td>पति परमानन्द मंडल</td>\n",
       "      <td>0.0</td>\n",
       "    </tr>\n",
       "    <tr>\n",
       "      <th>2</th>\n",
       "      <td>डोमन मंडल</td>\n",
       "      <td>0.0</td>\n",
       "    </tr>\n",
       "    <tr>\n",
       "      <th>3</th>\n",
       "      <td>गुनानन्द झा</td>\n",
       "      <td>0.0</td>\n",
       "    </tr>\n",
       "    <tr>\n",
       "      <th>4</th>\n",
       "      <td>मुकुन्द लाल झा</td>\n",
       "      <td>0.0</td>\n",
       "    </tr>\n",
       "  </tbody>\n",
       "</table>\n",
       "</div>\n",
       "      <button class=\"colab-df-convert\" onclick=\"convertToInteractive('df-3f585e63-7e70-4032-b2b2-a41c7a5100c0')\"\n",
       "              title=\"Convert this dataframe to an interactive table.\"\n",
       "              style=\"display:none;\">\n",
       "        \n",
       "  <svg xmlns=\"http://www.w3.org/2000/svg\" height=\"24px\"viewBox=\"0 0 24 24\"\n",
       "       width=\"24px\">\n",
       "    <path d=\"M0 0h24v24H0V0z\" fill=\"none\"/>\n",
       "    <path d=\"M18.56 5.44l.94 2.06.94-2.06 2.06-.94-2.06-.94-.94-2.06-.94 2.06-2.06.94zm-11 1L8.5 8.5l.94-2.06 2.06-.94-2.06-.94L8.5 2.5l-.94 2.06-2.06.94zm10 10l.94 2.06.94-2.06 2.06-.94-2.06-.94-.94-2.06-.94 2.06-2.06.94z\"/><path d=\"M17.41 7.96l-1.37-1.37c-.4-.4-.92-.59-1.43-.59-.52 0-1.04.2-1.43.59L10.3 9.45l-7.72 7.72c-.78.78-.78 2.05 0 2.83L4 21.41c.39.39.9.59 1.41.59.51 0 1.02-.2 1.41-.59l7.78-7.78 2.81-2.81c.8-.78.8-2.07 0-2.86zM5.41 20L4 18.59l7.72-7.72 1.47 1.35L5.41 20z\"/>\n",
       "  </svg>\n",
       "      </button>\n",
       "      \n",
       "  <style>\n",
       "    .colab-df-container {\n",
       "      display:flex;\n",
       "      flex-wrap:wrap;\n",
       "      gap: 12px;\n",
       "    }\n",
       "\n",
       "    .colab-df-convert {\n",
       "      background-color: #E8F0FE;\n",
       "      border: none;\n",
       "      border-radius: 50%;\n",
       "      cursor: pointer;\n",
       "      display: none;\n",
       "      fill: #1967D2;\n",
       "      height: 32px;\n",
       "      padding: 0 0 0 0;\n",
       "      width: 32px;\n",
       "    }\n",
       "\n",
       "    .colab-df-convert:hover {\n",
       "      background-color: #E2EBFA;\n",
       "      box-shadow: 0px 1px 2px rgba(60, 64, 67, 0.3), 0px 1px 3px 1px rgba(60, 64, 67, 0.15);\n",
       "      fill: #174EA6;\n",
       "    }\n",
       "\n",
       "    [theme=dark] .colab-df-convert {\n",
       "      background-color: #3B4455;\n",
       "      fill: #D2E3FC;\n",
       "    }\n",
       "\n",
       "    [theme=dark] .colab-df-convert:hover {\n",
       "      background-color: #434B5C;\n",
       "      box-shadow: 0px 1px 3px 1px rgba(0, 0, 0, 0.15);\n",
       "      filter: drop-shadow(0px 1px 2px rgba(0, 0, 0, 0.3));\n",
       "      fill: #FFFFFF;\n",
       "    }\n",
       "  </style>\n",
       "\n",
       "      <script>\n",
       "        const buttonEl =\n",
       "          document.querySelector('#df-3f585e63-7e70-4032-b2b2-a41c7a5100c0 button.colab-df-convert');\n",
       "        buttonEl.style.display =\n",
       "          google.colab.kernel.accessAllowed ? 'block' : 'none';\n",
       "\n",
       "        async function convertToInteractive(key) {\n",
       "          const element = document.querySelector('#df-3f585e63-7e70-4032-b2b2-a41c7a5100c0');\n",
       "          const dataTable =\n",
       "            await google.colab.kernel.invokeFunction('convertToInteractive',\n",
       "                                                     [key], {});\n",
       "          if (!dataTable) return;\n",
       "\n",
       "          const docLinkHtml = 'Like what you see? Visit the ' +\n",
       "            '<a target=\"_blank\" href=https://colab.research.google.com/notebooks/data_table.ipynb>data table notebook</a>'\n",
       "            + ' to learn more about interactive tables.';\n",
       "          element.innerHTML = '';\n",
       "          dataTable['output_type'] = 'display_data';\n",
       "          await google.colab.output.renderOutput(dataTable, element);\n",
       "          const docLink = document.createElement('div');\n",
       "          docLink.innerHTML = docLinkHtml;\n",
       "          element.appendChild(docLink);\n",
       "        }\n",
       "      </script>\n",
       "    </div>\n",
       "  </div>\n",
       "  "
      ],
      "text/plain": [
       "                name  muslim\n",
       "0        कृष्णमनी झा     0.0\n",
       "1  पति परमानन्द मंडल     0.0\n",
       "2          डोमन मंडल     0.0\n",
       "3        गुनानन्द झा     0.0\n",
       "4     मुकुन्द लाल झा     0.0"
      ]
     },
     "execution_count": 4,
     "metadata": {},
     "output_type": "execute_result"
    }
   ],
   "source": [
    "data.head()"
   ]
  },
  {
   "cell_type": "code",
   "execution_count": 5,
   "metadata": {
    "colab": {
     "base_uri": "https://localhost:8080/"
    },
    "executionInfo": {
     "elapsed": 28,
     "status": "ok",
     "timestamp": 1643240821589,
     "user": {
      "displayName": "Rajashekar Chintalapati",
      "photoUrl": "https://lh3.googleusercontent.com/a-/AOh14GhvaKS4oQw2sBCyEe0cxq9rGBNCg4w2UoWOgVaD660=s64",
      "userId": "03596288833202137831"
     },
     "user_tz": 480
    },
    "id": "tQipEKd324Cy",
    "outputId": "5096233a-a781-4a9c-84b0-9e2ed934f1f4"
   },
   "outputs": [
    {
     "data": {
      "text/plain": [
       "(3043736, 2)"
      ]
     },
     "execution_count": 5,
     "metadata": {},
     "output_type": "execute_result"
    }
   ],
   "source": [
    "data.shape"
   ]
  },
  {
   "cell_type": "code",
   "execution_count": 6,
   "metadata": {
    "colab": {
     "base_uri": "https://localhost:8080/"
    },
    "executionInfo": {
     "elapsed": 1153,
     "status": "ok",
     "timestamp": 1643240822717,
     "user": {
      "displayName": "Rajashekar Chintalapati",
      "photoUrl": "https://lh3.googleusercontent.com/a-/AOh14GhvaKS4oQw2sBCyEe0cxq9rGBNCg4w2UoWOgVaD660=s64",
      "userId": "03596288833202137831"
     },
     "user_tz": 480
    },
    "id": "yGtlfQZ5bHsj",
    "outputId": "a7da2a10-4886-4e4d-a6f1-2e6f7da43808"
   },
   "outputs": [
    {
     "data": {
      "text/plain": [
       "30"
      ]
     },
     "execution_count": 6,
     "metadata": {},
     "output_type": "execute_result"
    }
   ],
   "source": [
    "data['name'].str.len().max()"
   ]
  },
  {
   "cell_type": "code",
   "execution_count": 7,
   "metadata": {
    "colab": {
     "base_uri": "https://localhost:8080/",
     "height": 175
    },
    "executionInfo": {
     "elapsed": 9,
     "status": "ok",
     "timestamp": 1643240822718,
     "user": {
      "displayName": "Rajashekar Chintalapati",
      "photoUrl": "https://lh3.googleusercontent.com/a-/AOh14GhvaKS4oQw2sBCyEe0cxq9rGBNCg4w2UoWOgVaD660=s64",
      "userId": "03596288833202137831"
     },
     "user_tz": 480
    },
    "id": "Bw7vfsXG2BD7",
    "outputId": "d93b2b6e-f6bd-47cc-ecd2-ce150bfe27d7"
   },
   "outputs": [
    {
     "data": {
      "text/html": [
       "\n",
       "  <div id=\"df-9563e905-1ce4-4cd4-bbf4-5db189d4d003\">\n",
       "    <div class=\"colab-df-container\">\n",
       "      <div>\n",
       "<style scoped>\n",
       "    .dataframe tbody tr th:only-of-type {\n",
       "        vertical-align: middle;\n",
       "    }\n",
       "\n",
       "    .dataframe tbody tr th {\n",
       "        vertical-align: top;\n",
       "    }\n",
       "\n",
       "    .dataframe thead th {\n",
       "        text-align: right;\n",
       "    }\n",
       "</style>\n",
       "<table border=\"1\" class=\"dataframe\">\n",
       "  <thead>\n",
       "    <tr style=\"text-align: right;\">\n",
       "      <th></th>\n",
       "      <th>name</th>\n",
       "    </tr>\n",
       "    <tr>\n",
       "      <th>muslim</th>\n",
       "      <th></th>\n",
       "    </tr>\n",
       "  </thead>\n",
       "  <tbody>\n",
       "    <tr>\n",
       "      <th>0.0</th>\n",
       "      <td>2565378</td>\n",
       "    </tr>\n",
       "    <tr>\n",
       "      <th>1.0</th>\n",
       "      <td>349603</td>\n",
       "    </tr>\n",
       "    <tr>\n",
       "      <th>9.0</th>\n",
       "      <td>128755</td>\n",
       "    </tr>\n",
       "  </tbody>\n",
       "</table>\n",
       "</div>\n",
       "      <button class=\"colab-df-convert\" onclick=\"convertToInteractive('df-9563e905-1ce4-4cd4-bbf4-5db189d4d003')\"\n",
       "              title=\"Convert this dataframe to an interactive table.\"\n",
       "              style=\"display:none;\">\n",
       "        \n",
       "  <svg xmlns=\"http://www.w3.org/2000/svg\" height=\"24px\"viewBox=\"0 0 24 24\"\n",
       "       width=\"24px\">\n",
       "    <path d=\"M0 0h24v24H0V0z\" fill=\"none\"/>\n",
       "    <path d=\"M18.56 5.44l.94 2.06.94-2.06 2.06-.94-2.06-.94-.94-2.06-.94 2.06-2.06.94zm-11 1L8.5 8.5l.94-2.06 2.06-.94-2.06-.94L8.5 2.5l-.94 2.06-2.06.94zm10 10l.94 2.06.94-2.06 2.06-.94-2.06-.94-.94-2.06-.94 2.06-2.06.94z\"/><path d=\"M17.41 7.96l-1.37-1.37c-.4-.4-.92-.59-1.43-.59-.52 0-1.04.2-1.43.59L10.3 9.45l-7.72 7.72c-.78.78-.78 2.05 0 2.83L4 21.41c.39.39.9.59 1.41.59.51 0 1.02-.2 1.41-.59l7.78-7.78 2.81-2.81c.8-.78.8-2.07 0-2.86zM5.41 20L4 18.59l7.72-7.72 1.47 1.35L5.41 20z\"/>\n",
       "  </svg>\n",
       "      </button>\n",
       "      \n",
       "  <style>\n",
       "    .colab-df-container {\n",
       "      display:flex;\n",
       "      flex-wrap:wrap;\n",
       "      gap: 12px;\n",
       "    }\n",
       "\n",
       "    .colab-df-convert {\n",
       "      background-color: #E8F0FE;\n",
       "      border: none;\n",
       "      border-radius: 50%;\n",
       "      cursor: pointer;\n",
       "      display: none;\n",
       "      fill: #1967D2;\n",
       "      height: 32px;\n",
       "      padding: 0 0 0 0;\n",
       "      width: 32px;\n",
       "    }\n",
       "\n",
       "    .colab-df-convert:hover {\n",
       "      background-color: #E2EBFA;\n",
       "      box-shadow: 0px 1px 2px rgba(60, 64, 67, 0.3), 0px 1px 3px 1px rgba(60, 64, 67, 0.15);\n",
       "      fill: #174EA6;\n",
       "    }\n",
       "\n",
       "    [theme=dark] .colab-df-convert {\n",
       "      background-color: #3B4455;\n",
       "      fill: #D2E3FC;\n",
       "    }\n",
       "\n",
       "    [theme=dark] .colab-df-convert:hover {\n",
       "      background-color: #434B5C;\n",
       "      box-shadow: 0px 1px 3px 1px rgba(0, 0, 0, 0.15);\n",
       "      filter: drop-shadow(0px 1px 2px rgba(0, 0, 0, 0.3));\n",
       "      fill: #FFFFFF;\n",
       "    }\n",
       "  </style>\n",
       "\n",
       "      <script>\n",
       "        const buttonEl =\n",
       "          document.querySelector('#df-9563e905-1ce4-4cd4-bbf4-5db189d4d003 button.colab-df-convert');\n",
       "        buttonEl.style.display =\n",
       "          google.colab.kernel.accessAllowed ? 'block' : 'none';\n",
       "\n",
       "        async function convertToInteractive(key) {\n",
       "          const element = document.querySelector('#df-9563e905-1ce4-4cd4-bbf4-5db189d4d003');\n",
       "          const dataTable =\n",
       "            await google.colab.kernel.invokeFunction('convertToInteractive',\n",
       "                                                     [key], {});\n",
       "          if (!dataTable) return;\n",
       "\n",
       "          const docLinkHtml = 'Like what you see? Visit the ' +\n",
       "            '<a target=\"_blank\" href=https://colab.research.google.com/notebooks/data_table.ipynb>data table notebook</a>'\n",
       "            + ' to learn more about interactive tables.';\n",
       "          element.innerHTML = '';\n",
       "          dataTable['output_type'] = 'display_data';\n",
       "          await google.colab.output.renderOutput(dataTable, element);\n",
       "          const docLink = document.createElement('div');\n",
       "          docLink.innerHTML = docLinkHtml;\n",
       "          element.appendChild(docLink);\n",
       "        }\n",
       "      </script>\n",
       "    </div>\n",
       "  </div>\n",
       "  "
      ],
      "text/plain": [
       "           name\n",
       "muslim         \n",
       "0.0     2565378\n",
       "1.0      349603\n",
       "9.0      128755"
      ]
     },
     "execution_count": 7,
     "metadata": {},
     "output_type": "execute_result"
    }
   ],
   "source": [
    "data.groupby('muslim').count()"
   ]
  },
  {
   "cell_type": "code",
   "execution_count": 8,
   "metadata": {
    "colab": {
     "base_uri": "https://localhost:8080/",
     "height": 206
    },
    "executionInfo": {
     "elapsed": 8,
     "status": "ok",
     "timestamp": 1643240828022,
     "user": {
      "displayName": "Rajashekar Chintalapati",
      "photoUrl": "https://lh3.googleusercontent.com/a-/AOh14GhvaKS4oQw2sBCyEe0cxq9rGBNCg4w2UoWOgVaD660=s64",
      "userId": "03596288833202137831"
     },
     "user_tz": 480
    },
    "id": "KtejHGPU2U0B",
    "outputId": "f70d9dca-ac96-4729-aa51-1a676cc07c45"
   },
   "outputs": [
    {
     "data": {
      "text/html": [
       "\n",
       "  <div id=\"df-815bb3f2-72ae-4794-920a-0bc1cfca4f9a\">\n",
       "    <div class=\"colab-df-container\">\n",
       "      <div>\n",
       "<style scoped>\n",
       "    .dataframe tbody tr th:only-of-type {\n",
       "        vertical-align: middle;\n",
       "    }\n",
       "\n",
       "    .dataframe tbody tr th {\n",
       "        vertical-align: top;\n",
       "    }\n",
       "\n",
       "    .dataframe thead th {\n",
       "        text-align: right;\n",
       "    }\n",
       "</style>\n",
       "<table border=\"1\" class=\"dataframe\">\n",
       "  <thead>\n",
       "    <tr style=\"text-align: right;\">\n",
       "      <th></th>\n",
       "      <th>name</th>\n",
       "      <th>muslim</th>\n",
       "    </tr>\n",
       "  </thead>\n",
       "  <tbody>\n",
       "    <tr>\n",
       "      <th>111</th>\n",
       "      <td>ज्ञानी साहु</td>\n",
       "      <td>9.0</td>\n",
       "    </tr>\n",
       "    <tr>\n",
       "      <th>200</th>\n",
       "      <td>जसरथ साह</td>\n",
       "      <td>9.0</td>\n",
       "    </tr>\n",
       "    <tr>\n",
       "      <th>203</th>\n",
       "      <td>नसरत साह</td>\n",
       "      <td>9.0</td>\n",
       "    </tr>\n",
       "    <tr>\n",
       "      <th>443</th>\n",
       "      <td>ठीठरु साह</td>\n",
       "      <td>9.0</td>\n",
       "    </tr>\n",
       "    <tr>\n",
       "      <th>494</th>\n",
       "      <td>बगघु साह</td>\n",
       "      <td>9.0</td>\n",
       "    </tr>\n",
       "  </tbody>\n",
       "</table>\n",
       "</div>\n",
       "      <button class=\"colab-df-convert\" onclick=\"convertToInteractive('df-815bb3f2-72ae-4794-920a-0bc1cfca4f9a')\"\n",
       "              title=\"Convert this dataframe to an interactive table.\"\n",
       "              style=\"display:none;\">\n",
       "        \n",
       "  <svg xmlns=\"http://www.w3.org/2000/svg\" height=\"24px\"viewBox=\"0 0 24 24\"\n",
       "       width=\"24px\">\n",
       "    <path d=\"M0 0h24v24H0V0z\" fill=\"none\"/>\n",
       "    <path d=\"M18.56 5.44l.94 2.06.94-2.06 2.06-.94-2.06-.94-.94-2.06-.94 2.06-2.06.94zm-11 1L8.5 8.5l.94-2.06 2.06-.94-2.06-.94L8.5 2.5l-.94 2.06-2.06.94zm10 10l.94 2.06.94-2.06 2.06-.94-2.06-.94-.94-2.06-.94 2.06-2.06.94z\"/><path d=\"M17.41 7.96l-1.37-1.37c-.4-.4-.92-.59-1.43-.59-.52 0-1.04.2-1.43.59L10.3 9.45l-7.72 7.72c-.78.78-.78 2.05 0 2.83L4 21.41c.39.39.9.59 1.41.59.51 0 1.02-.2 1.41-.59l7.78-7.78 2.81-2.81c.8-.78.8-2.07 0-2.86zM5.41 20L4 18.59l7.72-7.72 1.47 1.35L5.41 20z\"/>\n",
       "  </svg>\n",
       "      </button>\n",
       "      \n",
       "  <style>\n",
       "    .colab-df-container {\n",
       "      display:flex;\n",
       "      flex-wrap:wrap;\n",
       "      gap: 12px;\n",
       "    }\n",
       "\n",
       "    .colab-df-convert {\n",
       "      background-color: #E8F0FE;\n",
       "      border: none;\n",
       "      border-radius: 50%;\n",
       "      cursor: pointer;\n",
       "      display: none;\n",
       "      fill: #1967D2;\n",
       "      height: 32px;\n",
       "      padding: 0 0 0 0;\n",
       "      width: 32px;\n",
       "    }\n",
       "\n",
       "    .colab-df-convert:hover {\n",
       "      background-color: #E2EBFA;\n",
       "      box-shadow: 0px 1px 2px rgba(60, 64, 67, 0.3), 0px 1px 3px 1px rgba(60, 64, 67, 0.15);\n",
       "      fill: #174EA6;\n",
       "    }\n",
       "\n",
       "    [theme=dark] .colab-df-convert {\n",
       "      background-color: #3B4455;\n",
       "      fill: #D2E3FC;\n",
       "    }\n",
       "\n",
       "    [theme=dark] .colab-df-convert:hover {\n",
       "      background-color: #434B5C;\n",
       "      box-shadow: 0px 1px 3px 1px rgba(0, 0, 0, 0.15);\n",
       "      filter: drop-shadow(0px 1px 2px rgba(0, 0, 0, 0.3));\n",
       "      fill: #FFFFFF;\n",
       "    }\n",
       "  </style>\n",
       "\n",
       "      <script>\n",
       "        const buttonEl =\n",
       "          document.querySelector('#df-815bb3f2-72ae-4794-920a-0bc1cfca4f9a button.colab-df-convert');\n",
       "        buttonEl.style.display =\n",
       "          google.colab.kernel.accessAllowed ? 'block' : 'none';\n",
       "\n",
       "        async function convertToInteractive(key) {\n",
       "          const element = document.querySelector('#df-815bb3f2-72ae-4794-920a-0bc1cfca4f9a');\n",
       "          const dataTable =\n",
       "            await google.colab.kernel.invokeFunction('convertToInteractive',\n",
       "                                                     [key], {});\n",
       "          if (!dataTable) return;\n",
       "\n",
       "          const docLinkHtml = 'Like what you see? Visit the ' +\n",
       "            '<a target=\"_blank\" href=https://colab.research.google.com/notebooks/data_table.ipynb>data table notebook</a>'\n",
       "            + ' to learn more about interactive tables.';\n",
       "          element.innerHTML = '';\n",
       "          dataTable['output_type'] = 'display_data';\n",
       "          await google.colab.output.renderOutput(dataTable, element);\n",
       "          const docLink = document.createElement('div');\n",
       "          docLink.innerHTML = docLinkHtml;\n",
       "          element.appendChild(docLink);\n",
       "        }\n",
       "      </script>\n",
       "    </div>\n",
       "  </div>\n",
       "  "
      ],
      "text/plain": [
       "            name  muslim\n",
       "111  ज्ञानी साहु     9.0\n",
       "200     जसरथ साह     9.0\n",
       "203     नसरत साह     9.0\n",
       "443    ठीठरु साह     9.0\n",
       "494     बगघु साह     9.0"
      ]
     },
     "execution_count": 8,
     "metadata": {},
     "output_type": "execute_result"
    }
   ],
   "source": [
    "data[data['muslim'] == 9.0].head()"
   ]
  },
  {
   "cell_type": "code",
   "execution_count": 9,
   "metadata": {
    "executionInfo": {
     "elapsed": 7,
     "status": "ok",
     "timestamp": 1643240828022,
     "user": {
      "displayName": "Rajashekar Chintalapati",
      "photoUrl": "https://lh3.googleusercontent.com/a-/AOh14GhvaKS4oQw2sBCyEe0cxq9rGBNCg4w2UoWOgVaD660=s64",
      "userId": "03596288833202137831"
     },
     "user_tz": 480
    },
    "id": "O5ZtYWtT2pan"
   },
   "outputs": [],
   "source": [
    "data = data.drop(data[data['muslim'] == 9.0].index)"
   ]
  },
  {
   "cell_type": "code",
   "execution_count": 10,
   "metadata": {
    "colab": {
     "base_uri": "https://localhost:8080/",
     "height": 143
    },
    "executionInfo": {
     "elapsed": 579,
     "status": "ok",
     "timestamp": 1643240828595,
     "user": {
      "displayName": "Rajashekar Chintalapati",
      "photoUrl": "https://lh3.googleusercontent.com/a-/AOh14GhvaKS4oQw2sBCyEe0cxq9rGBNCg4w2UoWOgVaD660=s64",
      "userId": "03596288833202137831"
     },
     "user_tz": 480
    },
    "id": "A3ctRPqr2_lP",
    "outputId": "930873b3-6170-45ad-ef75-3efd677519d1"
   },
   "outputs": [
    {
     "data": {
      "text/html": [
       "\n",
       "  <div id=\"df-43fcd681-c8f1-4994-99cd-c2f2c688dd14\">\n",
       "    <div class=\"colab-df-container\">\n",
       "      <div>\n",
       "<style scoped>\n",
       "    .dataframe tbody tr th:only-of-type {\n",
       "        vertical-align: middle;\n",
       "    }\n",
       "\n",
       "    .dataframe tbody tr th {\n",
       "        vertical-align: top;\n",
       "    }\n",
       "\n",
       "    .dataframe thead th {\n",
       "        text-align: right;\n",
       "    }\n",
       "</style>\n",
       "<table border=\"1\" class=\"dataframe\">\n",
       "  <thead>\n",
       "    <tr style=\"text-align: right;\">\n",
       "      <th></th>\n",
       "      <th>name</th>\n",
       "    </tr>\n",
       "    <tr>\n",
       "      <th>muslim</th>\n",
       "      <th></th>\n",
       "    </tr>\n",
       "  </thead>\n",
       "  <tbody>\n",
       "    <tr>\n",
       "      <th>0.0</th>\n",
       "      <td>2565378</td>\n",
       "    </tr>\n",
       "    <tr>\n",
       "      <th>1.0</th>\n",
       "      <td>349603</td>\n",
       "    </tr>\n",
       "  </tbody>\n",
       "</table>\n",
       "</div>\n",
       "      <button class=\"colab-df-convert\" onclick=\"convertToInteractive('df-43fcd681-c8f1-4994-99cd-c2f2c688dd14')\"\n",
       "              title=\"Convert this dataframe to an interactive table.\"\n",
       "              style=\"display:none;\">\n",
       "        \n",
       "  <svg xmlns=\"http://www.w3.org/2000/svg\" height=\"24px\"viewBox=\"0 0 24 24\"\n",
       "       width=\"24px\">\n",
       "    <path d=\"M0 0h24v24H0V0z\" fill=\"none\"/>\n",
       "    <path d=\"M18.56 5.44l.94 2.06.94-2.06 2.06-.94-2.06-.94-.94-2.06-.94 2.06-2.06.94zm-11 1L8.5 8.5l.94-2.06 2.06-.94-2.06-.94L8.5 2.5l-.94 2.06-2.06.94zm10 10l.94 2.06.94-2.06 2.06-.94-2.06-.94-.94-2.06-.94 2.06-2.06.94z\"/><path d=\"M17.41 7.96l-1.37-1.37c-.4-.4-.92-.59-1.43-.59-.52 0-1.04.2-1.43.59L10.3 9.45l-7.72 7.72c-.78.78-.78 2.05 0 2.83L4 21.41c.39.39.9.59 1.41.59.51 0 1.02-.2 1.41-.59l7.78-7.78 2.81-2.81c.8-.78.8-2.07 0-2.86zM5.41 20L4 18.59l7.72-7.72 1.47 1.35L5.41 20z\"/>\n",
       "  </svg>\n",
       "      </button>\n",
       "      \n",
       "  <style>\n",
       "    .colab-df-container {\n",
       "      display:flex;\n",
       "      flex-wrap:wrap;\n",
       "      gap: 12px;\n",
       "    }\n",
       "\n",
       "    .colab-df-convert {\n",
       "      background-color: #E8F0FE;\n",
       "      border: none;\n",
       "      border-radius: 50%;\n",
       "      cursor: pointer;\n",
       "      display: none;\n",
       "      fill: #1967D2;\n",
       "      height: 32px;\n",
       "      padding: 0 0 0 0;\n",
       "      width: 32px;\n",
       "    }\n",
       "\n",
       "    .colab-df-convert:hover {\n",
       "      background-color: #E2EBFA;\n",
       "      box-shadow: 0px 1px 2px rgba(60, 64, 67, 0.3), 0px 1px 3px 1px rgba(60, 64, 67, 0.15);\n",
       "      fill: #174EA6;\n",
       "    }\n",
       "\n",
       "    [theme=dark] .colab-df-convert {\n",
       "      background-color: #3B4455;\n",
       "      fill: #D2E3FC;\n",
       "    }\n",
       "\n",
       "    [theme=dark] .colab-df-convert:hover {\n",
       "      background-color: #434B5C;\n",
       "      box-shadow: 0px 1px 3px 1px rgba(0, 0, 0, 0.15);\n",
       "      filter: drop-shadow(0px 1px 2px rgba(0, 0, 0, 0.3));\n",
       "      fill: #FFFFFF;\n",
       "    }\n",
       "  </style>\n",
       "\n",
       "      <script>\n",
       "        const buttonEl =\n",
       "          document.querySelector('#df-43fcd681-c8f1-4994-99cd-c2f2c688dd14 button.colab-df-convert');\n",
       "        buttonEl.style.display =\n",
       "          google.colab.kernel.accessAllowed ? 'block' : 'none';\n",
       "\n",
       "        async function convertToInteractive(key) {\n",
       "          const element = document.querySelector('#df-43fcd681-c8f1-4994-99cd-c2f2c688dd14');\n",
       "          const dataTable =\n",
       "            await google.colab.kernel.invokeFunction('convertToInteractive',\n",
       "                                                     [key], {});\n",
       "          if (!dataTable) return;\n",
       "\n",
       "          const docLinkHtml = 'Like what you see? Visit the ' +\n",
       "            '<a target=\"_blank\" href=https://colab.research.google.com/notebooks/data_table.ipynb>data table notebook</a>'\n",
       "            + ' to learn more about interactive tables.';\n",
       "          element.innerHTML = '';\n",
       "          dataTable['output_type'] = 'display_data';\n",
       "          await google.colab.output.renderOutput(dataTable, element);\n",
       "          const docLink = document.createElement('div');\n",
       "          docLink.innerHTML = docLinkHtml;\n",
       "          element.appendChild(docLink);\n",
       "        }\n",
       "      </script>\n",
       "    </div>\n",
       "  </div>\n",
       "  "
      ],
      "text/plain": [
       "           name\n",
       "muslim         \n",
       "0.0     2565378\n",
       "1.0      349603"
      ]
     },
     "execution_count": 10,
     "metadata": {},
     "output_type": "execute_result"
    }
   ],
   "source": [
    "data.groupby('muslim').count()"
   ]
  },
  {
   "cell_type": "code",
   "execution_count": 11,
   "metadata": {
    "executionInfo": {
     "elapsed": 5,
     "status": "ok",
     "timestamp": 1643240828595,
     "user": {
      "displayName": "Rajashekar Chintalapati",
      "photoUrl": "https://lh3.googleusercontent.com/a-/AOh14GhvaKS4oQw2sBCyEe0cxq9rGBNCg4w2UoWOgVaD660=s64",
      "userId": "03596288833202137831"
     },
     "user_tz": 480
    },
    "id": "AyXuQ0VW5M4I"
   },
   "outputs": [],
   "source": [
    "X = data['name'].values\n",
    "y = data['muslim'].values"
   ]
  },
  {
   "cell_type": "markdown",
   "metadata": {
    "id": "CAMV_gK54Kn9"
   },
   "source": [
    "# Split Data"
   ]
  },
  {
   "cell_type": "code",
   "execution_count": 12,
   "metadata": {
    "executionInfo": {
     "elapsed": 677,
     "status": "ok",
     "timestamp": 1643240832447,
     "user": {
      "displayName": "Rajashekar Chintalapati",
      "photoUrl": "https://lh3.googleusercontent.com/a-/AOh14GhvaKS4oQw2sBCyEe0cxq9rGBNCg4w2UoWOgVaD660=s64",
      "userId": "03596288833202137831"
     },
     "user_tz": 480
    },
    "id": "2pRqWUQi5aa9"
   },
   "outputs": [],
   "source": [
    "X_train, X_rem, y_train, y_rem = train_test_split(X, y, test_size=0.3)"
   ]
  },
  {
   "cell_type": "code",
   "execution_count": 13,
   "metadata": {
    "colab": {
     "base_uri": "https://localhost:8080/"
    },
    "executionInfo": {
     "elapsed": 4,
     "status": "ok",
     "timestamp": 1643240832448,
     "user": {
      "displayName": "Rajashekar Chintalapati",
      "photoUrl": "https://lh3.googleusercontent.com/a-/AOh14GhvaKS4oQw2sBCyEe0cxq9rGBNCg4w2UoWOgVaD660=s64",
      "userId": "03596288833202137831"
     },
     "user_tz": 480
    },
    "id": "6DM0-MEV6-ui",
    "outputId": "e6298f3f-a4bc-4eae-cce7-bb4dedeecf31"
   },
   "outputs": [
    {
     "data": {
      "text/plain": [
       "2040486"
      ]
     },
     "execution_count": 13,
     "metadata": {},
     "output_type": "execute_result"
    }
   ],
   "source": [
    "X_train.size"
   ]
  },
  {
   "cell_type": "code",
   "execution_count": 14,
   "metadata": {
    "colab": {
     "base_uri": "https://localhost:8080/"
    },
    "executionInfo": {
     "elapsed": 4,
     "status": "ok",
     "timestamp": 1643240833301,
     "user": {
      "displayName": "Rajashekar Chintalapati",
      "photoUrl": "https://lh3.googleusercontent.com/a-/AOh14GhvaKS4oQw2sBCyEe0cxq9rGBNCg4w2UoWOgVaD660=s64",
      "userId": "03596288833202137831"
     },
     "user_tz": 480
    },
    "id": "riY-uuYm7BV6",
    "outputId": "51673fac-50dc-4128-95e1-1632ce21ec29"
   },
   "outputs": [
    {
     "data": {
      "text/plain": [
       "874495"
      ]
     },
     "execution_count": 14,
     "metadata": {},
     "output_type": "execute_result"
    }
   ],
   "source": [
    "X_rem.size"
   ]
  },
  {
   "cell_type": "code",
   "execution_count": 15,
   "metadata": {
    "executionInfo": {
     "elapsed": 3,
     "status": "ok",
     "timestamp": 1643240833301,
     "user": {
      "displayName": "Rajashekar Chintalapati",
      "photoUrl": "https://lh3.googleusercontent.com/a-/AOh14GhvaKS4oQw2sBCyEe0cxq9rGBNCg4w2UoWOgVaD660=s64",
      "userId": "03596288833202137831"
     },
     "user_tz": 480
    },
    "id": "kaiNBBnM3AEx"
   },
   "outputs": [],
   "source": [
    "X_val, X_test, y_val, y_test = train_test_split(X_rem, y_rem, test_size=0.5)"
   ]
  },
  {
   "cell_type": "code",
   "execution_count": 16,
   "metadata": {
    "colab": {
     "base_uri": "https://localhost:8080/"
    },
    "executionInfo": {
     "elapsed": 5,
     "status": "ok",
     "timestamp": 1643240833938,
     "user": {
      "displayName": "Rajashekar Chintalapati",
      "photoUrl": "https://lh3.googleusercontent.com/a-/AOh14GhvaKS4oQw2sBCyEe0cxq9rGBNCg4w2UoWOgVaD660=s64",
      "userId": "03596288833202137831"
     },
     "user_tz": 480
    },
    "id": "6jBvp5cX7TkX",
    "outputId": "5642bfb7-738f-4673-dcad-68883792bff5"
   },
   "outputs": [
    {
     "data": {
      "text/plain": [
       "437247"
      ]
     },
     "execution_count": 16,
     "metadata": {},
     "output_type": "execute_result"
    }
   ],
   "source": [
    "X_val.size"
   ]
  },
  {
   "cell_type": "code",
   "execution_count": 17,
   "metadata": {
    "colab": {
     "base_uri": "https://localhost:8080/"
    },
    "executionInfo": {
     "elapsed": 5,
     "status": "ok",
     "timestamp": 1643240833939,
     "user": {
      "displayName": "Rajashekar Chintalapati",
      "photoUrl": "https://lh3.googleusercontent.com/a-/AOh14GhvaKS4oQw2sBCyEe0cxq9rGBNCg4w2UoWOgVaD660=s64",
      "userId": "03596288833202137831"
     },
     "user_tz": 480
    },
    "id": "Mnm7p7j17WQ_",
    "outputId": "8fdff453-0203-4e6c-c8ab-02d5af7b645a"
   },
   "outputs": [
    {
     "data": {
      "text/plain": [
       "437248"
      ]
     },
     "execution_count": 17,
     "metadata": {},
     "output_type": "execute_result"
    }
   ],
   "source": [
    "X_test.size"
   ]
  },
  {
   "cell_type": "code",
   "execution_count": 21,
   "metadata": {
    "executionInfo": {
     "elapsed": 551,
     "status": "ok",
     "timestamp": 1643240978063,
     "user": {
      "displayName": "Rajashekar Chintalapati",
      "photoUrl": "https://lh3.googleusercontent.com/a-/AOh14GhvaKS4oQw2sBCyEe0cxq9rGBNCg4w2UoWOgVaD660=s64",
      "userId": "03596288833202137831"
     },
     "user_tz": 480
    },
    "id": "oxv2q5AGy2p4"
   },
   "outputs": [],
   "source": [
    "from tensorflow.keras.utils import to_categorical\n",
    "\n",
    "y_train = to_categorical(y_train, 2)\n",
    "y_val = to_categorical(y_val, 2)\n",
    "y_test = to_categorical(y_test, 2)"
   ]
  },
  {
   "cell_type": "markdown",
   "metadata": {
    "id": "T0GeHt5o7kT9"
   },
   "source": [
    "# Creating Dataset"
   ]
  },
  {
   "cell_type": "code",
   "execution_count": 22,
   "metadata": {
    "executionInfo": {
     "elapsed": 1,
     "status": "ok",
     "timestamp": 1643240983938,
     "user": {
      "displayName": "Rajashekar Chintalapati",
      "photoUrl": "https://lh3.googleusercontent.com/a-/AOh14GhvaKS4oQw2sBCyEe0cxq9rGBNCg4w2UoWOgVaD660=s64",
      "userId": "03596288833202137831"
     },
     "user_tz": 480
    },
    "id": "1LD3L-h2Wy3M"
   },
   "outputs": [],
   "source": [
    "BATCH_SIZE = 64\n",
    "BUFFER_SIZE = 2100000"
   ]
  },
  {
   "cell_type": "code",
   "execution_count": 23,
   "metadata": {
    "executionInfo": {
     "elapsed": 542,
     "status": "ok",
     "timestamp": 1643240985066,
     "user": {
      "displayName": "Rajashekar Chintalapati",
      "photoUrl": "https://lh3.googleusercontent.com/a-/AOh14GhvaKS4oQw2sBCyEe0cxq9rGBNCg4w2UoWOgVaD660=s64",
      "userId": "03596288833202137831"
     },
     "user_tz": 480
    },
    "id": "iDUq_WMt7ZYl"
   },
   "outputs": [],
   "source": [
    "train_dataset = tf.data.Dataset.from_tensor_slices((X_train, y_train))\n",
    "train_dataset = train_dataset.shuffle(BUFFER_SIZE).batch(BATCH_SIZE)\n",
    "\n",
    "val_dataset = tf.data.Dataset.from_tensor_slices((X_val, y_val))\n",
    "val_dataset = val_dataset.batch(BATCH_SIZE)\n",
    "\n",
    "test_dataset = tf.data.Dataset.from_tensor_slices((X_test, y_test))\n",
    "test_dataset = test_dataset.batch(BATCH_SIZE)"
   ]
  },
  {
   "cell_type": "code",
   "execution_count": 24,
   "metadata": {
    "colab": {
     "base_uri": "https://localhost:8080/"
    },
    "executionInfo": {
     "elapsed": 5583,
     "status": "ok",
     "timestamp": 1643240990647,
     "user": {
      "displayName": "Rajashekar Chintalapati",
      "photoUrl": "https://lh3.googleusercontent.com/a-/AOh14GhvaKS4oQw2sBCyEe0cxq9rGBNCg4w2UoWOgVaD660=s64",
      "userId": "03596288833202137831"
     },
     "user_tz": 480
    },
    "id": "FsdOyInb_UDk",
    "outputId": "3df37d03-c4a3-4bdb-cfe4-6948c83f2ffd"
   },
   "outputs": [
    {
     "name": "stdout",
     "output_type": "stream",
     "text": [
      "Name दुख दवन सीह\n",
      "Label tf.Tensor([1. 0.], shape=(2,), dtype=float32)\n"
     ]
    }
   ],
   "source": [
    "text_batch, label_batch = next(iter(train_dataset))\n",
    "first_name, first_label = text_batch[0], label_batch[0]\n",
    "print(\"Name\", first_name.numpy().decode())\n",
    "print(\"Label\", first_label)"
   ]
  },
  {
   "cell_type": "markdown",
   "metadata": {
    "id": "qTwXHS0bZtvm"
   },
   "source": [
    "# Vectorization"
   ]
  },
  {
   "cell_type": "code",
   "execution_count": 25,
   "metadata": {
    "executionInfo": {
     "elapsed": 812,
     "status": "ok",
     "timestamp": 1643241011064,
     "user": {
      "displayName": "Rajashekar Chintalapati",
      "photoUrl": "https://lh3.googleusercontent.com/a-/AOh14GhvaKS4oQw2sBCyEe0cxq9rGBNCg4w2UoWOgVaD660=s64",
      "userId": "03596288833202137831"
     },
     "user_tz": 480
    },
    "id": "DTgYNrhbZpTo"
   },
   "outputs": [],
   "source": [
    "max_features = 300000\n",
    "sequence_length = 50\n",
    "\n",
    "vectorize_layer = tf.keras.layers.TextVectorization(\n",
    "    max_tokens=max_features,\n",
    "    output_mode='int',\n",
    "    output_sequence_length=sequence_length)"
   ]
  },
  {
   "cell_type": "code",
   "execution_count": 26,
   "metadata": {
    "executionInfo": {
     "elapsed": 37161,
     "status": "ok",
     "timestamp": 1643241048988,
     "user": {
      "displayName": "Rajashekar Chintalapati",
      "photoUrl": "https://lh3.googleusercontent.com/a-/AOh14GhvaKS4oQw2sBCyEe0cxq9rGBNCg4w2UoWOgVaD660=s64",
      "userId": "03596288833202137831"
     },
     "user_tz": 480
    },
    "id": "dlMZLKo4dx4r"
   },
   "outputs": [],
   "source": [
    "# Make a text-only dataset (without labels), then call adapt\n",
    "train_text = train_dataset.map(lambda x, y: x)\n",
    "vectorize_layer.adapt(train_text)"
   ]
  },
  {
   "cell_type": "code",
   "execution_count": 27,
   "metadata": {
    "executionInfo": {
     "elapsed": 8,
     "status": "ok",
     "timestamp": 1643241048989,
     "user": {
      "displayName": "Rajashekar Chintalapati",
      "photoUrl": "https://lh3.googleusercontent.com/a-/AOh14GhvaKS4oQw2sBCyEe0cxq9rGBNCg4w2UoWOgVaD660=s64",
      "userId": "03596288833202137831"
     },
     "user_tz": 480
    },
    "id": "_KqSXSk4dPO3"
   },
   "outputs": [],
   "source": [
    "def vectorize_text(text, label):\n",
    "  text = tf.expand_dims(text, -1)\n",
    "  return vectorize_layer(text), label"
   ]
  },
  {
   "cell_type": "code",
   "execution_count": 28,
   "metadata": {
    "colab": {
     "base_uri": "https://localhost:8080/"
    },
    "executionInfo": {
     "elapsed": 6,
     "status": "ok",
     "timestamp": 1643241048989,
     "user": {
      "displayName": "Rajashekar Chintalapati",
      "photoUrl": "https://lh3.googleusercontent.com/a-/AOh14GhvaKS4oQw2sBCyEe0cxq9rGBNCg4w2UoWOgVaD660=s64",
      "userId": "03596288833202137831"
     },
     "user_tz": 480
    },
    "id": "v8pVwNLzdDom",
    "outputId": "618da253-1db2-4bb5-cc6b-720d9402fac5"
   },
   "outputs": [
    {
     "name": "stdout",
     "output_type": "stream",
     "text": [
      "Vectorized data (<tf.Tensor: shape=(1, 50), dtype=int64, numpy=\n",
      "array([[1355, 3486,  482,    0,    0,    0,    0,    0,    0,    0,    0,\n",
      "           0,    0,    0,    0,    0,    0,    0,    0,    0,    0,    0,\n",
      "           0,    0,    0,    0,    0,    0,    0,    0,    0,    0,    0,\n",
      "           0,    0,    0,    0,    0,    0,    0,    0,    0,    0,    0,\n",
      "           0,    0,    0,    0,    0,    0]])>, <tf.Tensor: shape=(2,), dtype=float32, numpy=array([1., 0.], dtype=float32)>)\n"
     ]
    }
   ],
   "source": [
    "print(\"Vectorized data\", vectorize_text(first_name.numpy().decode(), first_label))"
   ]
  },
  {
   "cell_type": "code",
   "execution_count": 29,
   "metadata": {
    "colab": {
     "base_uri": "https://localhost:8080/"
    },
    "executionInfo": {
     "elapsed": 2056,
     "status": "ok",
     "timestamp": 1643241051040,
     "user": {
      "displayName": "Rajashekar Chintalapati",
      "photoUrl": "https://lh3.googleusercontent.com/a-/AOh14GhvaKS4oQw2sBCyEe0cxq9rGBNCg4w2UoWOgVaD660=s64",
      "userId": "03596288833202137831"
     },
     "user_tz": 480
    },
    "id": "MIBk7lvldMZz",
    "outputId": "6eeac601-764c-41fa-8fd3-f5ab3057a530"
   },
   "outputs": [
    {
     "name": "stdout",
     "output_type": "stream",
     "text": [
      "199512 --->  सफूअन\n",
      " 2 --->  यादव\n",
      "Vocabulary size: 300000\n"
     ]
    }
   ],
   "source": [
    "print(\"199512 ---> \",vectorize_layer.get_vocabulary()[199512])\n",
    "print(\" 2 ---> \",vectorize_layer.get_vocabulary()[2])\n",
    "print(f'Vocabulary size: {len(vectorize_layer.get_vocabulary())}')"
   ]
  },
  {
   "cell_type": "code",
   "execution_count": 30,
   "metadata": {
    "executionInfo": {
     "elapsed": 500,
     "status": "ok",
     "timestamp": 1643241051535,
     "user": {
      "displayName": "Rajashekar Chintalapati",
      "photoUrl": "https://lh3.googleusercontent.com/a-/AOh14GhvaKS4oQw2sBCyEe0cxq9rGBNCg4w2UoWOgVaD660=s64",
      "userId": "03596288833202137831"
     },
     "user_tz": 480
    },
    "id": "n-RMO7w_eILB"
   },
   "outputs": [],
   "source": [
    "train_ds = train_dataset.map(vectorize_text)\n",
    "val_ds = val_dataset.map(vectorize_text)\n",
    "test_ds = test_dataset.map(vectorize_text)"
   ]
  },
  {
   "cell_type": "code",
   "execution_count": 31,
   "metadata": {
    "executionInfo": {
     "elapsed": 4,
     "status": "ok",
     "timestamp": 1643241051536,
     "user": {
      "displayName": "Rajashekar Chintalapati",
      "photoUrl": "https://lh3.googleusercontent.com/a-/AOh14GhvaKS4oQw2sBCyEe0cxq9rGBNCg4w2UoWOgVaD660=s64",
      "userId": "03596288833202137831"
     },
     "user_tz": 480
    },
    "id": "IifxH9YJe_8j"
   },
   "outputs": [],
   "source": [
    "# For performance\n",
    "AUTOTUNE = tf.data.AUTOTUNE\n",
    "\n",
    "train_ds = train_ds.cache().prefetch(buffer_size=AUTOTUNE)\n",
    "val_ds = val_ds.cache().prefetch(buffer_size=AUTOTUNE)\n",
    "test_ds = test_ds.cache().prefetch(buffer_size=AUTOTUNE)"
   ]
  },
  {
   "cell_type": "markdown",
   "metadata": {
    "id": "ZkgGCrrCfIlz"
   },
   "source": [
    "# Model"
   ]
  },
  {
   "cell_type": "code",
   "execution_count": 32,
   "metadata": {
    "colab": {
     "base_uri": "https://localhost:8080/"
    },
    "executionInfo": {
     "elapsed": 579,
     "status": "ok",
     "timestamp": 1643241085389,
     "user": {
      "displayName": "Rajashekar Chintalapati",
      "photoUrl": "https://lh3.googleusercontent.com/a-/AOh14GhvaKS4oQw2sBCyEe0cxq9rGBNCg4w2UoWOgVaD660=s64",
      "userId": "03596288833202137831"
     },
     "user_tz": 480
    },
    "id": "AfYCSu48fFzL",
    "outputId": "59e1a219-f3a9-45b9-f907-74288531d771"
   },
   "outputs": [
    {
     "name": "stdout",
     "output_type": "stream",
     "text": [
      "Model: \"sequential\"\n",
      "_________________________________________________________________\n",
      " Layer (type)                Output Shape              Param #   \n",
      "=================================================================\n",
      " embedding (Embedding)       (None, None, 64)          19200064  \n",
      "                                                                 \n",
      " dropout (Dropout)           (None, None, 64)          0         \n",
      "                                                                 \n",
      " global_average_pooling1d (G  (None, 64)               0         \n",
      " lobalAveragePooling1D)                                          \n",
      "                                                                 \n",
      " dropout_1 (Dropout)         (None, 64)                0         \n",
      "                                                                 \n",
      " dense (Dense)               (None, 2)                 130       \n",
      "                                                                 \n",
      "=================================================================\n",
      "Total params: 19,200,194\n",
      "Trainable params: 19,200,194\n",
      "Non-trainable params: 0\n",
      "_________________________________________________________________\n"
     ]
    }
   ],
   "source": [
    "embedding_dim = 64\n",
    "model = tf.keras.Sequential([\n",
    "  tf.keras.layers.Embedding(max_features + 1, embedding_dim),\n",
    "  tf.keras.layers.Dropout(0.2),\n",
    "  tf.keras.layers.GlobalAveragePooling1D(),\n",
    "  tf.keras.layers.Dropout(0.2),\n",
    "  tf.keras.layers.Dense(2, activation='softmax')])\n",
    "\n",
    "model.summary()"
   ]
  },
  {
   "cell_type": "code",
   "execution_count": 33,
   "metadata": {
    "executionInfo": {
     "elapsed": 3,
     "status": "ok",
     "timestamp": 1643241110518,
     "user": {
      "displayName": "Rajashekar Chintalapati",
      "photoUrl": "https://lh3.googleusercontent.com/a-/AOh14GhvaKS4oQw2sBCyEe0cxq9rGBNCg4w2UoWOgVaD660=s64",
      "userId": "03596288833202137831"
     },
     "user_tz": 480
    },
    "id": "pnenCqxsfUId"
   },
   "outputs": [],
   "source": [
    "model.compile(loss=tf.keras.losses.CategoricalCrossentropy(from_logits=True),\n",
    "              optimizer='adam',\n",
    "              metrics=['accuracy'])"
   ]
  },
  {
   "cell_type": "code",
   "execution_count": 34,
   "metadata": {
    "colab": {
     "base_uri": "https://localhost:8080/"
    },
    "executionInfo": {
     "elapsed": 1685495,
     "status": "ok",
     "timestamp": 1643242799735,
     "user": {
      "displayName": "Rajashekar Chintalapati",
      "photoUrl": "https://lh3.googleusercontent.com/a-/AOh14GhvaKS4oQw2sBCyEe0cxq9rGBNCg4w2UoWOgVaD660=s64",
      "userId": "03596288833202137831"
     },
     "user_tz": 480
    },
    "id": "EF2kSLV1fkor",
    "outputId": "fd62b58e-f003-4e6f-9c77-72ecb1c9948e"
   },
   "outputs": [
    {
     "name": "stdout",
     "output_type": "stream",
     "text": [
      "Epoch 1/10\n"
     ]
    },
    {
     "name": "stderr",
     "output_type": "stream",
     "text": [
      "/usr/local/lib/python3.7/dist-packages/tensorflow/python/util/dispatch.py:1096: UserWarning: \"`categorical_crossentropy` received `from_logits=True`, but the `output` argument was produced by a sigmoid or softmax activation and thus does not represent logits. Was this intended?\"\n",
      "  return dispatch_target(*args, **kwargs)\n"
     ]
    },
    {
     "name": "stdout",
     "output_type": "stream",
     "text": [
      "31883/31883 [==============================] - 175s 5ms/step - loss: 0.1028 - accuracy: 0.9648 - val_loss: 0.0844 - val_accuracy: 0.9734\n",
      "Epoch 2/10\n",
      "31883/31883 [==============================] - 171s 5ms/step - loss: 0.0812 - accuracy: 0.9734 - val_loss: 0.0828 - val_accuracy: 0.9746\n",
      "Epoch 3/10\n",
      "31883/31883 [==============================] - 169s 5ms/step - loss: 0.0791 - accuracy: 0.9745 - val_loss: 0.0819 - val_accuracy: 0.9746\n",
      "Epoch 4/10\n",
      "31883/31883 [==============================] - 167s 5ms/step - loss: 0.0780 - accuracy: 0.9750 - val_loss: 0.0814 - val_accuracy: 0.9742\n",
      "Epoch 5/10\n",
      "31883/31883 [==============================] - 168s 5ms/step - loss: 0.0772 - accuracy: 0.9753 - val_loss: 0.0812 - val_accuracy: 0.9741\n",
      "Epoch 6/10\n",
      "31883/31883 [==============================] - 167s 5ms/step - loss: 0.0767 - accuracy: 0.9755 - val_loss: 0.0811 - val_accuracy: 0.9741\n",
      "Epoch 7/10\n",
      "31883/31883 [==============================] - 167s 5ms/step - loss: 0.0763 - accuracy: 0.9757 - val_loss: 0.0810 - val_accuracy: 0.9739\n",
      "Epoch 8/10\n",
      "31883/31883 [==============================] - 167s 5ms/step - loss: 0.0761 - accuracy: 0.9758 - val_loss: 0.0809 - val_accuracy: 0.9739\n",
      "Epoch 9/10\n",
      "31883/31883 [==============================] - 167s 5ms/step - loss: 0.0758 - accuracy: 0.9759 - val_loss: 0.0808 - val_accuracy: 0.9740\n",
      "Epoch 10/10\n",
      "31883/31883 [==============================] - 167s 5ms/step - loss: 0.0757 - accuracy: 0.9759 - val_loss: 0.0808 - val_accuracy: 0.9741\n"
     ]
    }
   ],
   "source": [
    "epochs = 10\n",
    "history = model.fit(\n",
    "    train_ds,\n",
    "    validation_data=val_ds,\n",
    "    epochs=epochs)"
   ]
  },
  {
   "cell_type": "markdown",
   "metadata": {
    "id": "LtGA1l5kfw6p"
   },
   "source": [
    "# Evaluate"
   ]
  },
  {
   "cell_type": "code",
   "execution_count": 35,
   "metadata": {
    "colab": {
     "base_uri": "https://localhost:8080/"
    },
    "executionInfo": {
     "elapsed": 12124,
     "status": "ok",
     "timestamp": 1643242813437,
     "user": {
      "displayName": "Rajashekar Chintalapati",
      "photoUrl": "https://lh3.googleusercontent.com/a-/AOh14GhvaKS4oQw2sBCyEe0cxq9rGBNCg4w2UoWOgVaD660=s64",
      "userId": "03596288833202137831"
     },
     "user_tz": 480
    },
    "id": "-lmuvq74fr50",
    "outputId": "0c248b44-9311-490c-8e1b-f6bee56a597c"
   },
   "outputs": [
    {
     "name": "stdout",
     "output_type": "stream",
     "text": [
      "6832/6832 [==============================] - 12s 2ms/step - loss: 0.0810 - accuracy: 0.9741\n",
      "Loss:  0.08101983368396759\n",
      "Accuracy:  0.9741314053535461\n"
     ]
    }
   ],
   "source": [
    "loss, accuracy = model.evaluate(test_ds)\n",
    "\n",
    "print(\"Loss: \", loss)\n",
    "print(\"Accuracy: \", accuracy)"
   ]
  },
  {
   "cell_type": "markdown",
   "metadata": {
    "id": "rTkraAB-f2-X"
   },
   "source": [
    "# Plot"
   ]
  },
  {
   "cell_type": "code",
   "execution_count": 36,
   "metadata": {
    "colab": {
     "base_uri": "https://localhost:8080/",
     "height": 295
    },
    "executionInfo": {
     "elapsed": 626,
     "status": "ok",
     "timestamp": 1643242814057,
     "user": {
      "displayName": "Rajashekar Chintalapati",
      "photoUrl": "https://lh3.googleusercontent.com/a-/AOh14GhvaKS4oQw2sBCyEe0cxq9rGBNCg4w2UoWOgVaD660=s64",
      "userId": "03596288833202137831"
     },
     "user_tz": 480
    },
    "id": "gHHDsnYgf4C2",
    "outputId": "62b5807f-7a5c-4a3e-ff24-b4f2edf66894"
   },
   "outputs": [
    {
     "data": {
      "image/png": "[encoded data removed]",
      "text/plain": [
       "<Figure size 432x288 with 1 Axes>"
      ]
     },
     "metadata": {
      "needs_background": "light"
     },
     "output_type": "display_data"
    }
   ],
   "source": [
    "history_dict = history.history\n",
    "history_dict.keys()\n",
    "\n",
    "acc = history_dict['accuracy']\n",
    "val_acc = history_dict['val_accuracy']\n",
    "loss = history_dict['loss']\n",
    "val_loss = history_dict['val_loss']\n",
    "\n",
    "epochs = range(1, len(acc) + 1)\n",
    "\n",
    "# \"bo\" is for \"blue dot\"\n",
    "plt.plot(epochs, loss, 'bo', label='Training loss')\n",
    "# b is for \"solid blue line\"\n",
    "plt.plot(epochs, val_loss, 'b', label='Validation loss')\n",
    "plt.title('Training and validation loss')\n",
    "plt.xlabel('Epochs')\n",
    "plt.ylabel('Loss')\n",
    "plt.legend()\n",
    "\n",
    "plt.show()"
   ]
  },
  {
   "cell_type": "code",
   "execution_count": 37,
   "metadata": {
    "colab": {
     "base_uri": "https://localhost:8080/",
     "height": 295
    },
    "executionInfo": {
     "elapsed": 16,
     "status": "ok",
     "timestamp": 1643242814058,
     "user": {
      "displayName": "Rajashekar Chintalapati",
      "photoUrl": "https://lh3.googleusercontent.com/a-/AOh14GhvaKS4oQw2sBCyEe0cxq9rGBNCg4w2UoWOgVaD660=s64",
      "userId": "03596288833202137831"
     },
     "user_tz": 480
    },
    "id": "8VUL_XWPf_wB",
    "outputId": "9b2631f2-7682-4803-f0b1-63ab679ab996"
   },
   "outputs": [
    {
     "data": {
      "image/png": "[encoded data removed]",
      "text/plain": [
       "<Figure size 432x288 with 1 Axes>"
      ]
     },
     "metadata": {
      "needs_background": "light"
     },
     "output_type": "display_data"
    }
   ],
   "source": [
    "plt.plot(epochs, acc, 'bo', label='Training acc')\n",
    "plt.plot(epochs, val_acc, 'b', label='Validation acc')\n",
    "plt.title('Training and validation accuracy')\n",
    "plt.xlabel('Epochs')\n",
    "plt.ylabel('Accuracy')\n",
    "plt.legend(loc='lower right')\n",
    "\n",
    "plt.show()"
   ]
  },
  {
   "cell_type": "markdown",
   "metadata": {
    "id": "fbfijfcBgNIT"
   },
   "source": [
    "# Save Model"
   ]
  },
  {
   "cell_type": "code",
   "execution_count": 38,
   "metadata": {
    "colab": {
     "base_uri": "https://localhost:8080/"
    },
    "executionInfo": {
     "elapsed": 15523,
     "status": "ok",
     "timestamp": 1643242829566,
     "user": {
      "displayName": "Rajashekar Chintalapati",
      "photoUrl": "https://lh3.googleusercontent.com/a-/AOh14GhvaKS4oQw2sBCyEe0cxq9rGBNCg4w2UoWOgVaD660=s64",
      "userId": "03596288833202137831"
     },
     "user_tz": 480
    },
    "id": "tSD9UlixgOet",
    "outputId": "a811f5fd-eabf-4fde-ec46-6c45d161fa79"
   },
   "outputs": [
    {
     "name": "stdout",
     "output_type": "stream",
     "text": [
      "6832/6832 [==============================] - 15s 2ms/step - loss: 0.0810 - accuracy: 0.9741\n",
      "0.9741314053535461\n"
     ]
    }
   ],
   "source": [
    "export_model = tf.keras.Sequential([\n",
    "  vectorize_layer,\n",
    "  model\n",
    "])\n",
    "\n",
    "export_model.compile(\n",
    "    loss=tf.keras.losses.CategoricalCrossentropy(from_logits=False), optimizer=\"adam\", metrics=['accuracy']\n",
    ")\n",
    "\n",
    "loss, accuracy = export_model.evaluate(test_dataset)\n",
    "print(accuracy)"
   ]
  },
  {
   "cell_type": "code",
   "execution_count": 39,
   "metadata": {
    "colab": {
     "base_uri": "https://localhost:8080/"
    },
    "executionInfo": {
     "elapsed": 23,
     "status": "ok",
     "timestamp": 1643242829566,
     "user": {
      "displayName": "Rajashekar Chintalapati",
      "photoUrl": "https://lh3.googleusercontent.com/a-/AOh14GhvaKS4oQw2sBCyEe0cxq9rGBNCg4w2UoWOgVaD660=s64",
      "userId": "03596288833202137831"
     },
     "user_tz": 480
    },
    "id": "1BCn-rLhaqk-",
    "outputId": "c1863479-c3c4-4e50-b799-e721c1dde951"
   },
   "outputs": [
    {
     "name": "stdout",
     "output_type": "stream",
     "text": [
      "Model: \"sequential_1\"\n",
      "_________________________________________________________________\n",
      " Layer (type)                Output Shape              Param #   \n",
      "=================================================================\n",
      " text_vectorization (TextVec  (None, 50)               0         \n",
      " torization)                                                     \n",
      "                                                                 \n",
      " sequential (Sequential)     (None, 2)                 19200194  \n",
      "                                                                 \n",
      "=================================================================\n",
      "Total params: 19,200,194\n",
      "Trainable params: 19,200,194\n",
      "Non-trainable params: 0\n",
      "_________________________________________________________________\n"
     ]
    }
   ],
   "source": [
    "export_model.summary()"
   ]
  },
  {
   "cell_type": "markdown",
   "metadata": {
    "id": "2kuCI6Fy58uW"
   },
   "source": [
    "# Inference"
   ]
  },
  {
   "cell_type": "code",
   "execution_count": 40,
   "metadata": {
    "executionInfo": {
     "elapsed": 21,
     "status": "ok",
     "timestamp": 1643242829567,
     "user": {
      "displayName": "Rajashekar Chintalapati",
      "photoUrl": "https://lh3.googleusercontent.com/a-/AOh14GhvaKS4oQw2sBCyEe0cxq9rGBNCg4w2UoWOgVaD660=s64",
      "userId": "03596288833202137831"
     },
     "user_tz": 480
    },
    "id": "bmG13_Lr6BDZ"
   },
   "outputs": [],
   "source": [
    "examples = [\n",
    "  \"शाहरुख खान\",\n",
    "  \"अमिताभ बच्चन\",\n",
    "  \"अब्दुल राशिद सलीम सलमान खान\"\n",
    "]\n",
    "\n",
    "results = export_model.predict(examples)"
   ]
  },
  {
   "cell_type": "code",
   "execution_count": 41,
   "metadata": {
    "colab": {
     "base_uri": "https://localhost:8080/"
    },
    "executionInfo": {
     "elapsed": 20,
     "status": "ok",
     "timestamp": 1643242829567,
     "user": {
      "displayName": "Rajashekar Chintalapati",
      "photoUrl": "https://lh3.googleusercontent.com/a-/AOh14GhvaKS4oQw2sBCyEe0cxq9rGBNCg4w2UoWOgVaD660=s64",
      "userId": "03596288833202137831"
     },
     "user_tz": 480
    },
    "id": "kfJtnINxz9Yk",
    "outputId": "189c8149-e0a6-4b55-f5eb-fc3f64a39c3c"
   },
   "outputs": [
    {
     "data": {
      "text/plain": [
       "array([[2.78693829e-02, 9.72130597e-01],\n",
       "       [9.47521925e-01, 5.24780154e-02],\n",
       "       [1.08974615e-04, 9.99891043e-01]], dtype=float32)"
      ]
     },
     "execution_count": 41,
     "metadata": {},
     "output_type": "execute_result"
    }
   ],
   "source": [
    "results"
   ]
  },
  {
   "cell_type": "code",
   "execution_count": 42,
   "metadata": {
    "executionInfo": {
     "elapsed": 18,
     "status": "ok",
     "timestamp": 1643242829567,
     "user": {
      "displayName": "Rajashekar Chintalapati",
      "photoUrl": "https://lh3.googleusercontent.com/a-/AOh14GhvaKS4oQw2sBCyEe0cxq9rGBNCg4w2UoWOgVaD660=s64",
      "userId": "03596288833202137831"
     },
     "user_tz": 480
    },
    "id": "imjU1PAJz-XM"
   },
   "outputs": [],
   "source": [
    "probs = tf.nn.softmax(results)"
   ]
  },
  {
   "cell_type": "code",
   "execution_count": 43,
   "metadata": {
    "colab": {
     "base_uri": "https://localhost:8080/"
    },
    "executionInfo": {
     "elapsed": 18,
     "status": "ok",
     "timestamp": 1643242829568,
     "user": {
      "displayName": "Rajashekar Chintalapati",
      "photoUrl": "https://lh3.googleusercontent.com/a-/AOh14GhvaKS4oQw2sBCyEe0cxq9rGBNCg4w2UoWOgVaD660=s64",
      "userId": "03596288833202137831"
     },
     "user_tz": 480
    },
    "id": "X6yboGws0FK9",
    "outputId": "cc93cb8a-b93d-45ce-e52e-415cab0265ac"
   },
   "outputs": [
    {
     "data": {
      "text/plain": [
       "<tf.Tensor: shape=(3, 2), dtype=float32, numpy=\n",
       "array([[0.28004044, 0.7199596 ],\n",
       "       [0.70993   , 0.29007006],\n",
       "       [0.2689843 , 0.73101574]], dtype=float32)>"
      ]
     },
     "execution_count": 43,
     "metadata": {},
     "output_type": "execute_result"
    }
   ],
   "source": [
    "probs"
   ]
  },
  {
   "cell_type": "code",
   "execution_count": 44,
   "metadata": {
    "executionInfo": {
     "elapsed": 16,
     "status": "ok",
     "timestamp": 1643242829568,
     "user": {
      "displayName": "Rajashekar Chintalapati",
      "photoUrl": "https://lh3.googleusercontent.com/a-/AOh14GhvaKS4oQw2sBCyEe0cxq9rGBNCg4w2UoWOgVaD660=s64",
      "userId": "03596288833202137831"
     },
     "user_tz": 480
    },
    "id": "eIxvEVRO0GMU"
   },
   "outputs": [],
   "source": [
    "res_args = tf.argmax(results, 1)"
   ]
  },
  {
   "cell_type": "code",
   "execution_count": 45,
   "metadata": {
    "executionInfo": {
     "elapsed": 16,
     "status": "ok",
     "timestamp": 1643242829568,
     "user": {
      "displayName": "Rajashekar Chintalapati",
      "photoUrl": "https://lh3.googleusercontent.com/a-/AOh14GhvaKS4oQw2sBCyEe0cxq9rGBNCg4w2UoWOgVaD660=s64",
      "userId": "03596288833202137831"
     },
     "user_tz": 480
    },
    "id": "MLNp2nK10JSs"
   },
   "outputs": [],
   "source": [
    "classes= ['not-muslim', 'muslim']"
   ]
  },
  {
   "cell_type": "code",
   "execution_count": 46,
   "metadata": {
    "colab": {
     "base_uri": "https://localhost:8080/"
    },
    "executionInfo": {
     "elapsed": 16,
     "status": "ok",
     "timestamp": 1643242829569,
     "user": {
      "displayName": "Rajashekar Chintalapati",
      "photoUrl": "https://lh3.googleusercontent.com/a-/AOh14GhvaKS4oQw2sBCyEe0cxq9rGBNCg4w2UoWOgVaD660=s64",
      "userId": "03596288833202137831"
     },
     "user_tz": 480
    },
    "id": "K0gjL8Pp0Nq3",
    "outputId": "b70e82d2-4657-4aed-d24d-dd53fdfd6919"
   },
   "outputs": [
    {
     "name": "stdout",
     "output_type": "stream",
     "text": [
      "शाहरुख खान is of muslim with muslim probability of 71.99596405029297%\n",
      "अमिताभ बच्चन is of not-muslim with muslim probability of 29.00700569152832%\n",
      "अब्दुल राशिद सलीम सलमान खान is of muslim with muslim probability of 73.10157775878906%\n"
     ]
    }
   ],
   "source": [
    "for i in range(0, len(examples)):\n",
    "  print(f\"{examples[i]} is of {classes[res_args[i]]} with muslim probability of {probs[i][1] * 100}%\")"
   ]
  },
  {
   "cell_type": "markdown",
   "metadata": {
    "id": "n3tYXyw7Y71g"
   },
   "source": [
    "# Export Model"
   ]
  },
  {
   "cell_type": "code",
   "execution_count": 47,
   "metadata": {
    "colab": {
     "base_uri": "https://localhost:8080/"
    },
    "executionInfo": {
     "elapsed": 3332,
     "status": "ok",
     "timestamp": 1643242832888,
     "user": {
      "displayName": "Rajashekar Chintalapati",
      "photoUrl": "https://lh3.googleusercontent.com/a-/AOh14GhvaKS4oQw2sBCyEe0cxq9rGBNCg4w2UoWOgVaD660=s64",
      "userId": "03596288833202137831"
     },
     "user_tz": 480
    },
    "id": "ER40Rrkr-UvQ",
    "outputId": "ff73d999-4a90-4875-b59b-24108f1155dd"
   },
   "outputs": [
    {
     "name": "stdout",
     "output_type": "stream",
     "text": [
      "INFO:tensorflow:Assets written to: saved_model/hin_model/assets\n"
     ]
    }
   ],
   "source": [
    "export_model.save('saved_model/hin_model')"
   ]
  },
  {
   "cell_type": "code",
   "execution_count": 48,
   "metadata": {
    "colab": {
     "base_uri": "https://localhost:8080/"
    },
    "executionInfo": {
     "elapsed": 754,
     "status": "ok",
     "timestamp": 1643244470451,
     "user": {
      "displayName": "Rajashekar Chintalapati",
      "photoUrl": "https://lh3.googleusercontent.com/a-/AOh14GhvaKS4oQw2sBCyEe0cxq9rGBNCg4w2UoWOgVaD660=s64",
      "userId": "03596288833202137831"
     },
     "user_tz": 480
    },
    "id": "xVbZlCJCZW86",
    "outputId": "0fbc6913-198f-482d-8bdc-5873e7da5827"
   },
   "outputs": [
    {
     "name": "stdout",
     "output_type": "stream",
     "text": [
      "229M\tsaved_model/hin_model\n"
     ]
    }
   ],
   "source": [
    "!du -sh saved_model/hin_model"
   ]
  },
  {
   "cell_type": "code",
   "execution_count": 49,
   "metadata": {
    "colab": {
     "base_uri": "https://localhost:8080/"
    },
    "executionInfo": {
     "elapsed": 6,
     "status": "ok",
     "timestamp": 1643244471050,
     "user": {
      "displayName": "Rajashekar Chintalapati",
      "photoUrl": "https://lh3.googleusercontent.com/a-/AOh14GhvaKS4oQw2sBCyEe0cxq9rGBNCg4w2UoWOgVaD660=s64",
      "userId": "03596288833202137831"
     },
     "user_tz": 480
    },
    "id": "QwFEY5iBZcsp",
    "outputId": "df645257-8ecd-4a15-9439-beb271409662"
   },
   "outputs": [
    {
     "name": "stdout",
     "output_type": "stream",
     "text": [
      "/content/drive/MyDrive/Colab/islampy\n"
     ]
    }
   ],
   "source": [
    "!pwd"
   ]
  },
  {
   "cell_type": "code",
   "execution_count": 50,
   "metadata": {
    "executionInfo": {
     "elapsed": 506,
     "status": "ok",
     "timestamp": 1643244478409,
     "user": {
      "displayName": "Rajashekar Chintalapati",
      "photoUrl": "https://lh3.googleusercontent.com/a-/AOh14GhvaKS4oQw2sBCyEe0cxq9rGBNCg4w2UoWOgVaD660=s64",
      "userId": "03596288833202137831"
     },
     "user_tz": 480
    },
    "id": "xpuXxgBDbHYL"
   },
   "outputs": [],
   "source": [
    "export_model.save_weights('weights/hin_model')"
   ]
  },
  {
   "cell_type": "code",
   "execution_count": 51,
   "metadata": {
    "executionInfo": {
     "elapsed": 1576,
     "status": "ok",
     "timestamp": 1643244479984,
     "user": {
      "displayName": "Rajashekar Chintalapati",
      "photoUrl": "https://lh3.googleusercontent.com/a-/AOh14GhvaKS4oQw2sBCyEe0cxq9rGBNCg4w2UoWOgVaD660=s64",
      "userId": "03596288833202137831"
     },
     "user_tz": 480
    },
    "id": "UdNU4e6WcioG"
   },
   "outputs": [],
   "source": [
    "import pickle\n",
    "\n",
    "pickle.dump({'config': vectorize_layer.get_config(),\n",
    "             'weights': vectorize_layer.get_weights()}\n",
    "            , open(\"weights/tv_layer.pkl\", \"wb\"))"
   ]
  },
  {
   "cell_type": "markdown",
   "metadata": {
    "id": "yTgC48HgZwu6"
   },
   "source": [
    "# Load Model"
   ]
  },
  {
   "cell_type": "code",
   "execution_count": 52,
   "metadata": {
    "executionInfo": {
     "elapsed": 4725,
     "status": "ok",
     "timestamp": 1643244488069,
     "user": {
      "displayName": "Rajashekar Chintalapati",
      "photoUrl": "https://lh3.googleusercontent.com/a-/AOh14GhvaKS4oQw2sBCyEe0cxq9rGBNCg4w2UoWOgVaD660=s64",
      "userId": "03596288833202137831"
     },
     "user_tz": 480
    },
    "id": "AFaTSfwXZkrd"
   },
   "outputs": [],
   "source": [
    "new_model = tf.keras.models.load_model('saved_model/hin_model')"
   ]
  },
  {
   "cell_type": "code",
   "execution_count": 53,
   "metadata": {
    "colab": {
     "base_uri": "https://localhost:8080/"
    },
    "executionInfo": {
     "elapsed": 5,
     "status": "ok",
     "timestamp": 1643244488069,
     "user": {
      "displayName": "Rajashekar Chintalapati",
      "photoUrl": "https://lh3.googleusercontent.com/a-/AOh14GhvaKS4oQw2sBCyEe0cxq9rGBNCg4w2UoWOgVaD660=s64",
      "userId": "03596288833202137831"
     },
     "user_tz": 480
    },
    "id": "6vo-Ml1cak9W",
    "outputId": "62411adf-31f2-47fb-a564-972012f32649"
   },
   "outputs": [
    {
     "name": "stdout",
     "output_type": "stream",
     "text": [
      "Model: \"sequential_1\"\n",
      "_________________________________________________________________\n",
      " Layer (type)                Output Shape              Param #   \n",
      "=================================================================\n",
      " text_vectorization (TextVec  (None, None)             0         \n",
      " torization)                                                     \n",
      "                                                                 \n",
      " sequential (Sequential)     (None, 2)                 19200194  \n",
      "                                                                 \n",
      "=================================================================\n",
      "Total params: 19,200,194\n",
      "Trainable params: 19,200,194\n",
      "Non-trainable params: 0\n",
      "_________________________________________________________________\n"
     ]
    }
   ],
   "source": [
    "new_model.summary()"
   ]
  },
  {
   "cell_type": "code",
   "execution_count": 54,
   "metadata": {
    "executionInfo": {
     "elapsed": 3,
     "status": "ok",
     "timestamp": 1643244488739,
     "user": {
      "displayName": "Rajashekar Chintalapati",
      "photoUrl": "https://lh3.googleusercontent.com/a-/AOh14GhvaKS4oQw2sBCyEe0cxq9rGBNCg4w2UoWOgVaD660=s64",
      "userId": "03596288833202137831"
     },
     "user_tz": 480
    },
    "id": "AAN0FQ2YZ1Ca"
   },
   "outputs": [],
   "source": [
    "new_results = new_model.predict(examples)"
   ]
  },
  {
   "cell_type": "code",
   "execution_count": 55,
   "metadata": {
    "colab": {
     "base_uri": "https://localhost:8080/"
    },
    "executionInfo": {
     "elapsed": 4,
     "status": "ok",
     "timestamp": 1643244491175,
     "user": {
      "displayName": "Rajashekar Chintalapati",
      "photoUrl": "https://lh3.googleusercontent.com/a-/AOh14GhvaKS4oQw2sBCyEe0cxq9rGBNCg4w2UoWOgVaD660=s64",
      "userId": "03596288833202137831"
     },
     "user_tz": 480
    },
    "id": "WIiOfCp00x-F",
    "outputId": "2dc8dc30-d788-4c04-cbc1-53f2263e2960"
   },
   "outputs": [
    {
     "data": {
      "text/plain": [
       "array([[0.0000000e+00, 1.0000000e+00],\n",
       "       [1.0000000e+00, 1.3607733e-28],\n",
       "       [0.0000000e+00, 1.0000000e+00]], dtype=float32)"
      ]
     },
     "execution_count": 55,
     "metadata": {},
     "output_type": "execute_result"
    }
   ],
   "source": [
    "new_results"
   ]
  },
  {
   "cell_type": "code",
   "execution_count": 56,
   "metadata": {
    "executionInfo": {
     "elapsed": 2,
     "status": "ok",
     "timestamp": 1643244494284,
     "user": {
      "displayName": "Rajashekar Chintalapati",
      "photoUrl": "https://lh3.googleusercontent.com/a-/AOh14GhvaKS4oQw2sBCyEe0cxq9rGBNCg4w2UoWOgVaD660=s64",
      "userId": "03596288833202137831"
     },
     "user_tz": 480
    },
    "id": "7QXrldxQg9l-"
   },
   "outputs": [],
   "source": [
    "res_args = tf.argmax(new_results, 1)\n",
    "new_probs = tf.nn.softmax(new_results)"
   ]
  },
  {
   "cell_type": "code",
   "execution_count": 57,
   "metadata": {
    "colab": {
     "base_uri": "https://localhost:8080/"
    },
    "executionInfo": {
     "elapsed": 3,
     "status": "ok",
     "timestamp": 1643244499112,
     "user": {
      "displayName": "Rajashekar Chintalapati",
      "photoUrl": "https://lh3.googleusercontent.com/a-/AOh14GhvaKS4oQw2sBCyEe0cxq9rGBNCg4w2UoWOgVaD660=s64",
      "userId": "03596288833202137831"
     },
     "user_tz": 480
    },
    "id": "4Q2Ig9F2hCx_",
    "outputId": "73632194-2497-4d84-b1bc-e5db114b5433"
   },
   "outputs": [
    {
     "name": "stdout",
     "output_type": "stream",
     "text": [
      "शाहरुख खान is of muslim with muslim probability of 73.10585021972656%\n",
      "अमिताभ बच्चन is of not-muslim with muslim probability of 26.89414405822754%\n",
      "अब्दुल राशिद सलीम सलमान खान is of muslim with muslim probability of 73.10585021972656%\n"
     ]
    }
   ],
   "source": [
    "for i in range(0, len(examples)):\n",
    "  print(f\"{examples[i]} is of {classes[res_args[i]]} with muslim probability of {new_probs[i][1] * 100}%\")"
   ]
  },
  {
   "cell_type": "code",
   "execution_count": null,
   "metadata": {
    "colab": {
     "base_uri": "https://localhost:8080/"
    },
    "executionInfo": {
     "elapsed": 3,
     "status": "ok",
     "timestamp": 1642816781199,
     "user": {
      "displayName": "Rajashekar Chintalapati",
      "photoUrl": "https://lh3.googleusercontent.com/a-/AOh14GhvaKS4oQw2sBCyEe0cxq9rGBNCg4w2UoWOgVaD660=s64",
      "userId": "03596288833202137831"
     },
     "user_tz": 480
    },
    "id": "ETEkJgtFZ3f4",
    "outputId": "7a88c319-69a9-4e20-fdc0-acc572ee972b"
   },
   "outputs": [
    {
     "name": "stdout",
     "output_type": "stream",
     "text": [
      "Model: \"sequential_13\"\n",
      "_________________________________________________________________\n",
      " Layer (type)                Output Shape              Param #   \n",
      "=================================================================\n",
      " embedding_6 (Embedding)     (None, None, 64)          19200064  \n",
      "                                                                 \n",
      " dropout_12 (Dropout)        (None, None, 64)          0         \n",
      "                                                                 \n",
      " global_average_pooling1d_6   (None, 64)               0         \n",
      " (GlobalAveragePooling1D)                                        \n",
      "                                                                 \n",
      " dropout_13 (Dropout)        (None, 64)                0         \n",
      "                                                                 \n",
      " dense_6 (Dense)             (None, 1)                 65        \n",
      "                                                                 \n",
      "=================================================================\n",
      "Total params: 19,200,129\n",
      "Trainable params: 19,200,129\n",
      "Non-trainable params: 0\n",
      "_________________________________________________________________\n"
     ]
    }
   ],
   "source": [
    "embedding_dim = 64\n",
    "weight_model = tf.keras.Sequential([\n",
    "  tf.keras.layers.Embedding(max_features + 1, embedding_dim),\n",
    "  tf.keras.layers.Dropout(0.2),\n",
    "  tf.keras.layers.GlobalAveragePooling1D(),\n",
    "  tf.keras.layers.Dropout(0.2),\n",
    "  tf.keras.layers.Dense(1)])\n",
    "\n",
    "weight_model.summary()"
   ]
  },
  {
   "cell_type": "code",
   "execution_count": null,
   "metadata": {
    "id": "v4O_PIwbehJp"
   },
   "outputs": [],
   "source": [
    "tv_weights = pickle.load(open(\"weights/tv_layer.pkl\", \"rb\"))\n",
    "weights_vectorize_layer = tf.keras.layers.TextVectorization.from_config(tv_weights['config'])\n",
    "# You have to call `adapt` with some dummy data (BUG in Keras)\n",
    "weights_vectorize_layer.adapt(tf.data.Dataset.from_tensor_slices([\"xyz\"]))\n",
    "weights_vectorize_layer.set_weights(tv_weights['weights'])"
   ]
  },
  {
   "cell_type": "code",
   "execution_count": null,
   "metadata": {
    "colab": {
     "base_uri": "https://localhost:8080/"
    },
    "executionInfo": {
     "elapsed": 3188,
     "status": "ok",
     "timestamp": 1642816790755,
     "user": {
      "displayName": "Rajashekar Chintalapati",
      "photoUrl": "https://lh3.googleusercontent.com/a-/AOh14GhvaKS4oQw2sBCyEe0cxq9rGBNCg4w2UoWOgVaD660=s64",
      "userId": "03596288833202137831"
     },
     "user_tz": 480
    },
    "id": "jFKVqE7cgISZ",
    "outputId": "d64c6817-1167-417e-cd75-e1fb7c4cecc1"
   },
   "outputs": [
    {
     "name": "stdout",
     "output_type": "stream",
     "text": [
      "199512 --->  सपया\n",
      " 2 --->  यादव\n",
      "Vocabulary size: 300000\n"
     ]
    }
   ],
   "source": [
    "print(\"199512 ---> \",weights_vectorize_layer.get_vocabulary()[199512])\n",
    "print(\" 2 ---> \",weights_vectorize_layer.get_vocabulary()[2])\n",
    "print(f'Vocabulary size: {len(weights_vectorize_layer.get_vocabulary())}')"
   ]
  },
  {
   "cell_type": "code",
   "execution_count": null,
   "metadata": {
    "id": "O_Z3xhd8cCqh"
   },
   "outputs": [],
   "source": [
    "weight_model = tf.keras.Sequential([\n",
    "  weights_vectorize_layer,\n",
    "  weight_model,\n",
    "  tf.keras.layers.Activation('sigmoid')\n",
    "])"
   ]
  },
  {
   "cell_type": "code",
   "execution_count": null,
   "metadata": {
    "colab": {
     "base_uri": "https://localhost:8080/"
    },
    "executionInfo": {
     "elapsed": 4,
     "status": "ok",
     "timestamp": 1642816794654,
     "user": {
      "displayName": "Rajashekar Chintalapati",
      "photoUrl": "https://lh3.googleusercontent.com/a-/AOh14GhvaKS4oQw2sBCyEe0cxq9rGBNCg4w2UoWOgVaD660=s64",
      "userId": "03596288833202137831"
     },
     "user_tz": 480
    },
    "id": "fcMMH9AHblmg",
    "outputId": "00825475-7e3f-4d84-a4f6-e00d891e283a"
   },
   "outputs": [
    {
     "data": {
      "text/plain": [
       "<tensorflow.python.training.tracking.util.CheckpointLoadStatus at 0x7f1fbbcf2d90>"
      ]
     },
     "execution_count": 99,
     "metadata": {},
     "output_type": "execute_result"
    }
   ],
   "source": [
    "weight_model.load_weights('saved_model/hin_model')"
   ]
  },
  {
   "cell_type": "code",
   "execution_count": null,
   "metadata": {
    "colab": {
     "base_uri": "https://localhost:8080/"
    },
    "executionInfo": {
     "elapsed": 4,
     "status": "ok",
     "timestamp": 1642816796799,
     "user": {
      "displayName": "Rajashekar Chintalapati",
      "photoUrl": "https://lh3.googleusercontent.com/a-/AOh14GhvaKS4oQw2sBCyEe0cxq9rGBNCg4w2UoWOgVaD660=s64",
      "userId": "03596288833202137831"
     },
     "user_tz": 480
    },
    "id": "rRURwMjAbvfN",
    "outputId": "de7cecf8-0879-4da0-ed93-14e9cce6fed9"
   },
   "outputs": [
    {
     "name": "stdout",
     "output_type": "stream",
     "text": [
      "Model: \"sequential_14\"\n",
      "_________________________________________________________________\n",
      " Layer (type)                Output Shape              Param #   \n",
      "=================================================================\n",
      " text_vectorization (TextVec  (None, None)             0         \n",
      " torization)                                                     \n",
      "                                                                 \n",
      " sequential_13 (Sequential)  (None, 1)                 19200129  \n",
      "                                                                 \n",
      " activation_7 (Activation)   (None, 1)                 0         \n",
      "                                                                 \n",
      "=================================================================\n",
      "Total params: 19,200,129\n",
      "Trainable params: 19,200,129\n",
      "Non-trainable params: 0\n",
      "_________________________________________________________________\n"
     ]
    }
   ],
   "source": [
    "weight_model.summary()"
   ]
  },
  {
   "cell_type": "code",
   "execution_count": null,
   "metadata": {
    "colab": {
     "base_uri": "https://localhost:8080/"
    },
    "executionInfo": {
     "elapsed": 575,
     "status": "ok",
     "timestamp": 1642817317362,
     "user": {
      "displayName": "Rajashekar Chintalapati",
      "photoUrl": "https://lh3.googleusercontent.com/a-/AOh14GhvaKS4oQw2sBCyEe0cxq9rGBNCg4w2UoWOgVaD660=s64",
      "userId": "03596288833202137831"
     },
     "user_tz": 480
    },
    "id": "sZ7gFQHpb3xv",
    "outputId": "bdb48c49-627d-4aa0-d7d2-dae08da989eb"
   },
   "outputs": [
    {
     "data": {
      "text/plain": [
       "array([[1.],\n",
       "       [0.],\n",
       "       [1.]], dtype=float32)"
      ]
     },
     "execution_count": 120,
     "metadata": {},
     "output_type": "execute_result"
    }
   ],
   "source": [
    "np.around(weight_model.predict(examples))"
   ]
  },
  {
   "cell_type": "code",
   "execution_count": null,
   "metadata": {
    "id": "PCJQVwmicQQj"
   },
   "outputs": [],
   "source": []
  }
 ],
 "metadata": {
  "accelerator": "GPU",
  "colab": {
   "authorship_tag": "ABX9TyP9PYuuS/vfcEd+/0jUipBh",
   "collapsed_sections": [],
   "machine_shape": "hm",
   "mount_file_id": "1nu3lkuFtTU9dlSYU48nkXiQmQBfa5edq",
   "name": "train_hindi.ipynb",
   "provenance": []
  },
  "kernelspec": {
   "display_name": "Python 3",
   "name": "python3"
  },
  "language_info": {
   "name": "python"
  }
 },
 "nbformat": 4,
 "nbformat_minor": 0
}