{
 "cells": [
  {
   "cell_type": "code",
   "execution_count": 1,
   "metadata": {
    "colab": {
     "base_uri": "https://localhost:8080/"
    },
    "executionInfo": {
     "elapsed": 298,
     "status": "ok",
     "timestamp": 1642518857902,
     "user": {
      "displayName": "Rajashekar Chintalapati",
      "photoUrl": "https://lh3.googleusercontent.com/a-/AOh14GhvaKS4oQw2sBCyEe0cxq9rGBNCg4w2UoWOgVaD660=s64",
      "userId": "03596288833202137831"
     },
     "user_tz": 480
    },
    "id": "JHhH4jEaAfFR",
    "outputId": "759e70ca-b964-4bc4-872c-1fdd14f9b624"
   },
   "outputs": [
    {
     "name": "stdout",
     "output_type": "stream",
     "text": [
      "/content/drive/MyDrive/Colab/islampy\n"
     ]
    }
   ],
   "source": [
    "%cd /content/drive/MyDrive/Colab/islampy/"
   ]
  },
  {
   "cell_type": "code",
   "execution_count": 2,
   "metadata": {
    "colab": {
     "base_uri": "https://localhost:8080/"
    },
    "executionInfo": {
     "elapsed": 8,
     "status": "ok",
     "timestamp": 1642518859186,
     "user": {
      "displayName": "Rajashekar Chintalapati",
      "photoUrl": "https://lh3.googleusercontent.com/a-/AOh14GhvaKS4oQw2sBCyEe0cxq9rGBNCg4w2UoWOgVaD660=s64",
      "userId": "03596288833202137831"
     },
     "user_tz": 480
    },
    "id": "5pO4kY0NAnIU",
    "outputId": "e299430c-934a-40f7-f78a-1794ff9df5c7"
   },
   "outputs": [
    {
     "name": "stdout",
     "output_type": "stream",
     "text": [
      "Tue Jan 18 15:14:20 2022       \n",
      "+-----------------------------------------------------------------------------+\n",
      "| NVIDIA-SMI 495.46       Driver Version: 460.32.03    CUDA Version: 11.2     |\n",
      "|-------------------------------+----------------------+----------------------+\n",
      "| GPU  Name        Persistence-M| Bus-Id        Disp.A | Volatile Uncorr. ECC |\n",
      "| Fan  Temp  Perf  Pwr:Usage/Cap|         Memory-Usage | GPU-Util  Compute M. |\n",
      "|                               |                      |               MIG M. |\n",
      "|===============================+======================+======================|\n",
      "|   0  Tesla V100-SXM2...  Off  | 00000000:00:04.0 Off |                    0 |\n",
      "| N/A   33C    P0    24W / 300W |      0MiB / 16160MiB |      0%      Default |\n",
      "|                               |                      |                  N/A |\n",
      "+-------------------------------+----------------------+----------------------+\n",
      "                                                                               \n",
      "+-----------------------------------------------------------------------------+\n",
      "| Processes:                                                                  |\n",
      "|  GPU   GI   CI        PID   Type   Process name                  GPU Memory |\n",
      "|        ID   ID                                                   Usage      |\n",
      "|=============================================================================|\n",
      "|  No running processes found                                                 |\n",
      "+-----------------------------------------------------------------------------+\n"
     ]
    }
   ],
   "source": [
    "!nvidia-smi"
   ]
  },
  {
   "cell_type": "code",
   "execution_count": 3,
   "metadata": {
    "executionInfo": {
     "elapsed": 999,
     "status": "ok",
     "timestamp": 1642518861413,
     "user": {
      "displayName": "Rajashekar Chintalapati",
      "photoUrl": "https://lh3.googleusercontent.com/a-/AOh14GhvaKS4oQw2sBCyEe0cxq9rGBNCg4w2UoWOgVaD660=s64",
      "userId": "03596288833202137831"
     },
     "user_tz": 480
    },
    "id": "ivtVIt1_Audp"
   },
   "outputs": [],
   "source": [
    "import pandas as pd\n",
    "from tqdm import tqdm\n",
    "\n",
    "tqdm.pandas()"
   ]
  },
  {
   "cell_type": "code",
   "execution_count": 4,
   "metadata": {
    "executionInfo": {
     "elapsed": 4297,
     "status": "ok",
     "timestamp": 1642518867556,
     "user": {
      "displayName": "Rajashekar Chintalapati",
      "photoUrl": "https://lh3.googleusercontent.com/a-/AOh14GhvaKS4oQw2sBCyEe0cxq9rGBNCg4w2UoWOgVaD660=s64",
      "userId": "03596288833202137831"
     },
     "user_tz": 480
    },
    "id": "OD84VthXAv0D"
   },
   "outputs": [],
   "source": [
    "data = pd.read_csv('data/muslim_non_muslim.csv')"
   ]
  },
  {
   "cell_type": "code",
   "execution_count": 5,
   "metadata": {
    "colab": {
     "base_uri": "https://localhost:8080/",
     "height": 206
    },
    "executionInfo": {
     "elapsed": 9,
     "status": "ok",
     "timestamp": 1642518867559,
     "user": {
      "displayName": "Rajashekar Chintalapati",
      "photoUrl": "https://lh3.googleusercontent.com/a-/AOh14GhvaKS4oQw2sBCyEe0cxq9rGBNCg4w2UoWOgVaD660=s64",
      "userId": "03596288833202137831"
     },
     "user_tz": 480
    },
    "id": "2vsnbLvmBKwQ",
    "outputId": "2ac2638a-2bcf-4542-9d9d-2d641d1cfcd4"
   },
   "outputs": [
    {
     "data": {
      "text/html": [
       "\n",
       "  <div id=\"df-1bbf8801-2fb6-41ac-b7ec-690d526703cb\">\n",
       "    <div class=\"colab-df-container\">\n",
       "      <div>\n",
       "<style scoped>\n",
       "    .dataframe tbody tr th:only-of-type {\n",
       "        vertical-align: middle;\n",
       "    }\n",
       "\n",
       "    .dataframe tbody tr th {\n",
       "        vertical-align: top;\n",
       "    }\n",
       "\n",
       "    .dataframe thead th {\n",
       "        text-align: right;\n",
       "    }\n",
       "</style>\n",
       "<table border=\"1\" class=\"dataframe\">\n",
       "  <thead>\n",
       "    <tr style=\"text-align: right;\">\n",
       "      <th></th>\n",
       "      <th>name</th>\n",
       "      <th>muslim</th>\n",
       "    </tr>\n",
       "  </thead>\n",
       "  <tbody>\n",
       "    <tr>\n",
       "      <th>0</th>\n",
       "      <td>कृष्णमनी झा</td>\n",
       "      <td>0.0</td>\n",
       "    </tr>\n",
       "    <tr>\n",
       "      <th>1</th>\n",
       "      <td>पति परमानन्द मंडल</td>\n",
       "      <td>0.0</td>\n",
       "    </tr>\n",
       "    <tr>\n",
       "      <th>2</th>\n",
       "      <td>डोमन मंडल</td>\n",
       "      <td>0.0</td>\n",
       "    </tr>\n",
       "    <tr>\n",
       "      <th>3</th>\n",
       "      <td>गुनानन्द झा</td>\n",
       "      <td>0.0</td>\n",
       "    </tr>\n",
       "    <tr>\n",
       "      <th>4</th>\n",
       "      <td>मुकुन्द लाल झा</td>\n",
       "      <td>0.0</td>\n",
       "    </tr>\n",
       "  </tbody>\n",
       "</table>\n",
       "</div>\n",
       "      <button class=\"colab-df-convert\" onclick=\"convertToInteractive('df-1bbf8801-2fb6-41ac-b7ec-690d526703cb')\"\n",
       "              title=\"Convert this dataframe to an interactive table.\"\n",
       "              style=\"display:none;\">\n",
       "        \n",
       "  <svg xmlns=\"http://www.w3.org/2000/svg\" height=\"24px\"viewBox=\"0 0 24 24\"\n",
       "       width=\"24px\">\n",
       "    <path d=\"M0 0h24v24H0V0z\" fill=\"none\"/>\n",
       "    <path d=\"M18.56 5.44l.94 2.06.94-2.06 2.06-.94-2.06-.94-.94-2.06-.94 2.06-2.06.94zm-11 1L8.5 8.5l.94-2.06 2.06-.94-2.06-.94L8.5 2.5l-.94 2.06-2.06.94zm10 10l.94 2.06.94-2.06 2.06-.94-2.06-.94-.94-2.06-.94 2.06-2.06.94z\"/><path d=\"M17.41 7.96l-1.37-1.37c-.4-.4-.92-.59-1.43-.59-.52 0-1.04.2-1.43.59L10.3 9.45l-7.72 7.72c-.78.78-.78 2.05 0 2.83L4 21.41c.39.39.9.59 1.41.59.51 0 1.02-.2 1.41-.59l7.78-7.78 2.81-2.81c.8-.78.8-2.07 0-2.86zM5.41 20L4 18.59l7.72-7.72 1.47 1.35L5.41 20z\"/>\n",
       "  </svg>\n",
       "      </button>\n",
       "      \n",
       "  <style>\n",
       "    .colab-df-container {\n",
       "      display:flex;\n",
       "      flex-wrap:wrap;\n",
       "      gap: 12px;\n",
       "    }\n",
       "\n",
       "    .colab-df-convert {\n",
       "      background-color: #E8F0FE;\n",
       "      border: none;\n",
       "      border-radius: 50%;\n",
       "      cursor: pointer;\n",
       "      display: none;\n",
       "      fill: #1967D2;\n",
       "      height: 32px;\n",
       "      padding: 0 0 0 0;\n",
       "      width: 32px;\n",
       "    }\n",
       "\n",
       "    .colab-df-convert:hover {\n",
       "      background-color: #E2EBFA;\n",
       "      box-shadow: 0px 1px 2px rgba(60, 64, 67, 0.3), 0px 1px 3px 1px rgba(60, 64, 67, 0.15);\n",
       "      fill: #174EA6;\n",
       "    }\n",
       "\n",
       "    [theme=dark] .colab-df-convert {\n",
       "      background-color: #3B4455;\n",
       "      fill: #D2E3FC;\n",
       "    }\n",
       "\n",
       "    [theme=dark] .colab-df-convert:hover {\n",
       "      background-color: #434B5C;\n",
       "      box-shadow: 0px 1px 3px 1px rgba(0, 0, 0, 0.15);\n",
       "      filter: drop-shadow(0px 1px 2px rgba(0, 0, 0, 0.3));\n",
       "      fill: #FFFFFF;\n",
       "    }\n",
       "  </style>\n",
       "\n",
       "      <script>\n",
       "        const buttonEl =\n",
       "          document.querySelector('#df-1bbf8801-2fb6-41ac-b7ec-690d526703cb button.colab-df-convert');\n",
       "        buttonEl.style.display =\n",
       "          google.colab.kernel.accessAllowed ? 'block' : 'none';\n",
       "\n",
       "        async function convertToInteractive(key) {\n",
       "          const element = document.querySelector('#df-1bbf8801-2fb6-41ac-b7ec-690d526703cb');\n",
       "          const dataTable =\n",
       "            await google.colab.kernel.invokeFunction('convertToInteractive',\n",
       "                                                     [key], {});\n",
       "          if (!dataTable) return;\n",
       "\n",
       "          const docLinkHtml = 'Like what you see? Visit the ' +\n",
       "            '<a target=\"_blank\" href=https://colab.research.google.com/notebooks/data_table.ipynb>data table notebook</a>'\n",
       "            + ' to learn more about interactive tables.';\n",
       "          element.innerHTML = '';\n",
       "          dataTable['output_type'] = 'display_data';\n",
       "          await google.colab.output.renderOutput(dataTable, element);\n",
       "          const docLink = document.createElement('div');\n",
       "          docLink.innerHTML = docLinkHtml;\n",
       "          element.appendChild(docLink);\n",
       "        }\n",
       "      </script>\n",
       "    </div>\n",
       "  </div>\n",
       "  "
      ],
      "text/plain": [
       "                name  muslim\n",
       "0        कृष्णमनी झा     0.0\n",
       "1  पति परमानन्द मंडल     0.0\n",
       "2          डोमन मंडल     0.0\n",
       "3        गुनानन्द झा     0.0\n",
       "4     मुकुन्द लाल झा     0.0"
      ]
     },
     "execution_count": 5,
     "metadata": {},
     "output_type": "execute_result"
    }
   ],
   "source": [
    "data.head()"
   ]
  },
  {
   "cell_type": "code",
   "execution_count": 6,
   "metadata": {
    "colab": {
     "base_uri": "https://localhost:8080/"
    },
    "executionInfo": {
     "elapsed": 7,
     "status": "ok",
     "timestamp": 1642518867560,
     "user": {
      "displayName": "Rajashekar Chintalapati",
      "photoUrl": "https://lh3.googleusercontent.com/a-/AOh14GhvaKS4oQw2sBCyEe0cxq9rGBNCg4w2UoWOgVaD660=s64",
      "userId": "03596288833202137831"
     },
     "user_tz": 480
    },
    "id": "uWjteKnoBNQF",
    "outputId": "bfe78561-b9b7-432c-c3e5-2db6bbcda627"
   },
   "outputs": [
    {
     "data": {
      "text/plain": [
       "(3043736, 2)"
      ]
     },
     "execution_count": 6,
     "metadata": {},
     "output_type": "execute_result"
    }
   ],
   "source": [
    "data.shape"
   ]
  },
  {
   "cell_type": "markdown",
   "metadata": {
    "id": "b5_IEWoNBRVe"
   },
   "source": [
    "# Transliterate Names to English"
   ]
  },
  {
   "cell_type": "code",
   "execution_count": 7,
   "metadata": {
    "colab": {
     "base_uri": "https://localhost:8080/"
    },
    "executionInfo": {
     "elapsed": 8011,
     "status": "ok",
     "timestamp": 1642518877250,
     "user": {
      "displayName": "Rajashekar Chintalapati",
      "photoUrl": "https://lh3.googleusercontent.com/a-/AOh14GhvaKS4oQw2sBCyEe0cxq9rGBNCg4w2UoWOgVaD660=s64",
      "userId": "03596288833202137831"
     },
     "user_tz": 480
    },
    "id": "TBgT1hpUBVI4",
    "outputId": "7e799732-946a-40ce-c977-33dd92e8c3fd"
   },
   "outputs": [
    {
     "name": "stdout",
     "output_type": "stream",
     "text": [
      "Collecting indicate\n",
      "  Downloading indicate-0.0.7-py2.py3-none-any.whl (66.8 MB)\n",
      "\u001b[K     |████████████████████████████████| 66.8 MB 1.1 MB/s \n",
      "\u001b[?25hCollecting tensorflow-addons\n",
      "  Downloading tensorflow_addons-0.15.0-cp37-cp37m-manylinux_2_12_x86_64.manylinux2010_x86_64.whl (1.1 MB)\n",
      "\u001b[K     |████████████████████████████████| 1.1 MB 77.7 MB/s \n",
      "\u001b[?25hRequirement already satisfied: tqdm in /usr/local/lib/python3.7/dist-packages (from indicate) (4.62.3)\n",
      "Requirement already satisfied: tensorflow in /usr/local/lib/python3.7/dist-packages (from indicate) (2.7.0)\n",
      "Requirement already satisfied: termcolor>=1.1.0 in /usr/local/lib/python3.7/dist-packages (from tensorflow->indicate) (1.1.0)\n",
      "Requirement already satisfied: keras-preprocessing>=1.1.1 in /usr/local/lib/python3.7/dist-packages (from tensorflow->indicate) (1.1.2)\n",
      "Requirement already satisfied: wrapt>=1.11.0 in /usr/local/lib/python3.7/dist-packages (from tensorflow->indicate) (1.13.3)\n",
      "Requirement already satisfied: astunparse>=1.6.0 in /usr/local/lib/python3.7/dist-packages (from tensorflow->indicate) (1.6.3)\n",
      "Requirement already satisfied: tensorboard~=2.6 in /usr/local/lib/python3.7/dist-packages (from tensorflow->indicate) (2.7.0)\n",
      "Requirement already satisfied: wheel<1.0,>=0.32.0 in /usr/local/lib/python3.7/dist-packages (from tensorflow->indicate) (0.37.1)\n",
      "Requirement already satisfied: gast<0.5.0,>=0.2.1 in /usr/local/lib/python3.7/dist-packages (from tensorflow->indicate) (0.4.0)\n",
      "Requirement already satisfied: protobuf>=3.9.2 in /usr/local/lib/python3.7/dist-packages (from tensorflow->indicate) (3.17.3)\n",
      "Requirement already satisfied: libclang>=9.0.1 in /usr/local/lib/python3.7/dist-packages (from tensorflow->indicate) (12.0.0)\n",
      "Requirement already satisfied: flatbuffers<3.0,>=1.12 in /usr/local/lib/python3.7/dist-packages (from tensorflow->indicate) (2.0)\n",
      "Requirement already satisfied: tensorflow-io-gcs-filesystem>=0.21.0 in /usr/local/lib/python3.7/dist-packages (from tensorflow->indicate) (0.23.1)\n",
      "Requirement already satisfied: six>=1.12.0 in /usr/local/lib/python3.7/dist-packages (from tensorflow->indicate) (1.15.0)\n",
      "Requirement already satisfied: typing-extensions>=3.6.6 in /usr/local/lib/python3.7/dist-packages (from tensorflow->indicate) (3.10.0.2)\n",
      "Requirement already satisfied: tensorflow-estimator<2.8,~=2.7.0rc0 in /usr/local/lib/python3.7/dist-packages (from tensorflow->indicate) (2.7.0)\n",
      "Requirement already satisfied: opt-einsum>=2.3.2 in /usr/local/lib/python3.7/dist-packages (from tensorflow->indicate) (3.3.0)\n",
      "Requirement already satisfied: keras<2.8,>=2.7.0rc0 in /usr/local/lib/python3.7/dist-packages (from tensorflow->indicate) (2.7.0)\n",
      "Requirement already satisfied: numpy>=1.14.5 in /usr/local/lib/python3.7/dist-packages (from tensorflow->indicate) (1.19.5)\n",
      "Requirement already satisfied: h5py>=2.9.0 in /usr/local/lib/python3.7/dist-packages (from tensorflow->indicate) (3.1.0)\n",
      "Requirement already satisfied: absl-py>=0.4.0 in /usr/local/lib/python3.7/dist-packages (from tensorflow->indicate) (0.12.0)\n",
      "Requirement already satisfied: grpcio<2.0,>=1.24.3 in /usr/local/lib/python3.7/dist-packages (from tensorflow->indicate) (1.43.0)\n",
      "Requirement already satisfied: google-pasta>=0.1.1 in /usr/local/lib/python3.7/dist-packages (from tensorflow->indicate) (0.2.0)\n",
      "Requirement already satisfied: cached-property in /usr/local/lib/python3.7/dist-packages (from h5py>=2.9.0->tensorflow->indicate) (1.5.2)\n",
      "Requirement already satisfied: werkzeug>=0.11.15 in /usr/local/lib/python3.7/dist-packages (from tensorboard~=2.6->tensorflow->indicate) (1.0.1)\n",
      "Requirement already satisfied: tensorboard-data-server<0.7.0,>=0.6.0 in /usr/local/lib/python3.7/dist-packages (from tensorboard~=2.6->tensorflow->indicate) (0.6.1)\n",
      "Requirement already satisfied: tensorboard-plugin-wit>=1.6.0 in /usr/local/lib/python3.7/dist-packages (from tensorboard~=2.6->tensorflow->indicate) (1.8.1)\n",
      "Requirement already satisfied: markdown>=2.6.8 in /usr/local/lib/python3.7/dist-packages (from tensorboard~=2.6->tensorflow->indicate) (3.3.6)\n",
      "Requirement already satisfied: requests<3,>=2.21.0 in /usr/local/lib/python3.7/dist-packages (from tensorboard~=2.6->tensorflow->indicate) (2.23.0)\n",
      "Requirement already satisfied: setuptools>=41.0.0 in /usr/local/lib/python3.7/dist-packages (from tensorboard~=2.6->tensorflow->indicate) (57.4.0)\n",
      "Requirement already satisfied: google-auth<3,>=1.6.3 in /usr/local/lib/python3.7/dist-packages (from tensorboard~=2.6->tensorflow->indicate) (1.35.0)\n",
      "Requirement already satisfied: google-auth-oauthlib<0.5,>=0.4.1 in /usr/local/lib/python3.7/dist-packages (from tensorboard~=2.6->tensorflow->indicate) (0.4.6)\n",
      "Requirement already satisfied: cachetools<5.0,>=2.0.0 in /usr/local/lib/python3.7/dist-packages (from google-auth<3,>=1.6.3->tensorboard~=2.6->tensorflow->indicate) (4.2.4)\n",
      "Requirement already satisfied: rsa<5,>=3.1.4 in /usr/local/lib/python3.7/dist-packages (from google-auth<3,>=1.6.3->tensorboard~=2.6->tensorflow->indicate) (4.8)\n",
      "Requirement already satisfied: pyasn1-modules>=0.2.1 in /usr/local/lib/python3.7/dist-packages (from google-auth<3,>=1.6.3->tensorboard~=2.6->tensorflow->indicate) (0.2.8)\n",
      "Requirement already satisfied: requests-oauthlib>=0.7.0 in /usr/local/lib/python3.7/dist-packages (from google-auth-oauthlib<0.5,>=0.4.1->tensorboard~=2.6->tensorflow->indicate) (1.3.0)\n",
      "Requirement already satisfied: importlib-metadata>=4.4 in /usr/local/lib/python3.7/dist-packages (from markdown>=2.6.8->tensorboard~=2.6->tensorflow->indicate) (4.10.0)\n",
      "Requirement already satisfied: zipp>=0.5 in /usr/local/lib/python3.7/dist-packages (from importlib-metadata>=4.4->markdown>=2.6.8->tensorboard~=2.6->tensorflow->indicate) (3.7.0)\n",
      "Requirement already satisfied: pyasn1<0.5.0,>=0.4.6 in /usr/local/lib/python3.7/dist-packages (from pyasn1-modules>=0.2.1->google-auth<3,>=1.6.3->tensorboard~=2.6->tensorflow->indicate) (0.4.8)\n",
      "Requirement already satisfied: urllib3!=1.25.0,!=1.25.1,<1.26,>=1.21.1 in /usr/local/lib/python3.7/dist-packages (from requests<3,>=2.21.0->tensorboard~=2.6->tensorflow->indicate) (1.24.3)\n",
      "Requirement already satisfied: certifi>=2017.4.17 in /usr/local/lib/python3.7/dist-packages (from requests<3,>=2.21.0->tensorboard~=2.6->tensorflow->indicate) (2021.10.8)\n",
      "Requirement already satisfied: idna<3,>=2.5 in /usr/local/lib/python3.7/dist-packages (from requests<3,>=2.21.0->tensorboard~=2.6->tensorflow->indicate) (2.10)\n",
      "Requirement already satisfied: chardet<4,>=3.0.2 in /usr/local/lib/python3.7/dist-packages (from requests<3,>=2.21.0->tensorboard~=2.6->tensorflow->indicate) (3.0.4)\n",
      "Requirement already satisfied: oauthlib>=3.0.0 in /usr/local/lib/python3.7/dist-packages (from requests-oauthlib>=0.7.0->google-auth-oauthlib<0.5,>=0.4.1->tensorboard~=2.6->tensorflow->indicate) (3.1.1)\n",
      "Requirement already satisfied: typeguard>=2.7 in /usr/local/lib/python3.7/dist-packages (from tensorflow-addons->indicate) (2.7.1)\n",
      "Installing collected packages: tensorflow-addons, indicate\n",
      "Successfully installed indicate-0.0.7 tensorflow-addons-0.15.0\n"
     ]
    }
   ],
   "source": [
    "!pip install indicate"
   ]
  },
  {
   "cell_type": "code",
   "execution_count": 8,
   "metadata": {
    "colab": {
     "base_uri": "https://localhost:8080/"
    },
    "executionInfo": {
     "elapsed": 10018,
     "status": "ok",
     "timestamp": 1642518976942,
     "user": {
      "displayName": "Rajashekar Chintalapati",
      "photoUrl": "https://lh3.googleusercontent.com/a-/AOh14GhvaKS4oQw2sBCyEe0cxq9rGBNCg4w2UoWOgVaD660=s64",
      "userId": "03596288833202137831"
     },
     "user_tz": 480
    },
    "id": "umP-zcqdBYT5",
    "outputId": "4b26c390-e95e-457b-a33d-9c4ae3f06abc"
   },
   "outputs": [
    {
     "name": "stdout",
     "output_type": "stream",
     "text": [
      "hindi\n"
     ]
    }
   ],
   "source": [
    "from indicate import transliterate\n",
    "\n",
    "english_translated = transliterate.hindi2english(\"हिंदी\")\n",
    "print(english_translated)"
   ]
  },
  {
   "cell_type": "code",
   "execution_count": 13,
   "metadata": {
    "executionInfo": {
     "elapsed": 3277,
     "status": "ok",
     "timestamp": 1642538713219,
     "user": {
      "displayName": "Rajashekar Chintalapati",
      "photoUrl": "https://lh3.googleusercontent.com/a-/AOh14GhvaKS4oQw2sBCyEe0cxq9rGBNCg4w2UoWOgVaD660=s64",
      "userId": "03596288833202137831"
     },
     "user_tz": 480
    },
    "id": "RYvE_-WT5xyy"
   },
   "outputs": [],
   "source": [
    "converted = pd.read_csv(\"data/converted.csv\")"
   ]
  },
  {
   "cell_type": "code",
   "execution_count": 14,
   "metadata": {
    "executionInfo": {
     "elapsed": 283,
     "status": "ok",
     "timestamp": 1642538716458,
     "user": {
      "displayName": "Rajashekar Chintalapati",
      "photoUrl": "https://lh3.googleusercontent.com/a-/AOh14GhvaKS4oQw2sBCyEe0cxq9rGBNCg4w2UoWOgVaD660=s64",
      "userId": "03596288833202137831"
     },
     "user_tz": 480
    },
    "id": "l9777mN054gk"
   },
   "outputs": [],
   "source": [
    "data = data[~data['name'].isin(converted['name'])]"
   ]
  },
  {
   "cell_type": "code",
   "execution_count": 15,
   "metadata": {
    "colab": {
     "base_uri": "https://localhost:8080/"
    },
    "executionInfo": {
     "elapsed": 226,
     "status": "ok",
     "timestamp": 1642538718916,
     "user": {
      "displayName": "Rajashekar Chintalapati",
      "photoUrl": "https://lh3.googleusercontent.com/a-/AOh14GhvaKS4oQw2sBCyEe0cxq9rGBNCg4w2UoWOgVaD660=s64",
      "userId": "03596288833202137831"
     },
     "user_tz": 480
    },
    "id": "avTvJPwEPH3d",
    "outputId": "43f2ad0e-4ebd-44eb-cb97-8ab10e89e833"
   },
   "outputs": [
    {
     "data": {
      "text/plain": [
       "(1071275, 2)"
      ]
     },
     "execution_count": 15,
     "metadata": {},
     "output_type": "execute_result"
    }
   ],
   "source": [
    "data.shape"
   ]
  },
  {
   "cell_type": "code",
   "execution_count": null,
   "metadata": {
    "colab": {
     "base_uri": "https://localhost:8080/"
    },
    "id": "cpxZ2OazBpT6",
    "outputId": "beb9d08c-7912-47ce-d6f4-7e2271782e4c"
   },
   "outputs": [
    {
     "name": "stderr",
     "output_type": "stream",
     "text": [
      "Not able to transliterate राधाकृष सिंह वो- लालजी सिंह\n"
     ]
    },
    {
     "name": "stdout",
     "output_type": "stream",
     "text": [
      "ERROR:tensorflow:==================================\n",
      "Object was never used (type <class 'tensorflow.python.ops.tensor_array_ops.TensorArray'>):\n",
      "<tensorflow.python.ops.tensor_array_ops.TensorArray object at 0x7f208e32cad0>\n",
      "If you want to mark it as used call its \"mark_used()\" method.\n",
      "It was originally created here:\n",
      "  File \"/usr/local/lib/python3.7/dist-packages/tensorflow_addons/seq2seq/decoder.py\", line 514, in body\n",
      "    next_sequence_lengths,  File \"/usr/local/lib/python3.7/dist-packages/tensorflow/python/util/nest.py\", line 870, in map_structure\n",
      "    expand_composites=expand_composites)  File \"/usr/local/lib/python3.7/dist-packages/tensorflow/python/util/nest.py\", line 869, in <listcomp>\n",
      "    structure[0], [func(*x) for x in entries],  File \"/usr/local/lib/python3.7/dist-packages/tensorflow_addons/seq2seq/decoder.py\", line 506, in <lambda>\n",
      "    lambda ta, out: ta.write(time, out), outputs_ta, emit  File \"/usr/local/lib/python3.7/dist-packages/tensorflow/python/util/tf_should_use.py\", line 249, in wrapped\n",
      "    error_in_function=error_in_function)\n",
      "==================================\n",
      "ERROR:tensorflow:==================================\n",
      "Object was never used (type <class 'tensorflow.python.ops.tensor_array_ops.TensorArray'>):\n",
      "<tensorflow.python.ops.tensor_array_ops.TensorArray object at 0x7f1f63f7bf50>\n",
      "If you want to mark it as used call its \"mark_used()\" method.\n",
      "It was originally created here:\n",
      "  File \"/usr/local/lib/python3.7/dist-packages/tensorflow_addons/seq2seq/decoder.py\", line 514, in body\n",
      "    next_sequence_lengths,  File \"/usr/local/lib/python3.7/dist-packages/tensorflow/python/util/nest.py\", line 870, in map_structure\n",
      "    expand_composites=expand_composites)  File \"/usr/local/lib/python3.7/dist-packages/tensorflow/python/util/nest.py\", line 869, in <listcomp>\n",
      "    structure[0], [func(*x) for x in entries],  File \"/usr/local/lib/python3.7/dist-packages/tensorflow_addons/seq2seq/decoder.py\", line 506, in <lambda>\n",
      "    lambda ta, out: ta.write(time, out), outputs_ta, emit  File \"/usr/local/lib/python3.7/dist-packages/tensorflow/python/util/tf_should_use.py\", line 249, in wrapped\n",
      "    error_in_function=error_in_function)\n",
      "==================================\n"
     ]
    },
    {
     "name": "stderr",
     "output_type": "stream",
     "text": [
      "Not able to transliterate नन्जीत साह वो- राम किशोर साह\n"
     ]
    },
    {
     "name": "stdout",
     "output_type": "stream",
     "text": [
      "ERROR:tensorflow:==================================\n",
      "Object was never used (type <class 'tensorflow.python.ops.tensor_array_ops.TensorArray'>):\n",
      "<tensorflow.python.ops.tensor_array_ops.TensorArray object at 0x7f1f7420edd0>\n",
      "If you want to mark it as used call its \"mark_used()\" method.\n",
      "It was originally created here:\n",
      "  File \"/usr/local/lib/python3.7/dist-packages/tensorflow_addons/seq2seq/decoder.py\", line 514, in body\n",
      "    next_sequence_lengths,  File \"/usr/local/lib/python3.7/dist-packages/tensorflow/python/util/nest.py\", line 870, in map_structure\n",
      "    expand_composites=expand_composites)  File \"/usr/local/lib/python3.7/dist-packages/tensorflow/python/util/nest.py\", line 869, in <listcomp>\n",
      "    structure[0], [func(*x) for x in entries],  File \"/usr/local/lib/python3.7/dist-packages/tensorflow_addons/seq2seq/decoder.py\", line 506, in <lambda>\n",
      "    lambda ta, out: ta.write(time, out), outputs_ta, emit  File \"/usr/local/lib/python3.7/dist-packages/tensorflow/python/util/tf_should_use.py\", line 249, in wrapped\n",
      "    error_in_function=error_in_function)\n",
      "==================================\n",
      "ERROR:tensorflow:==================================\n",
      "Object was never used (type <class 'tensorflow.python.ops.tensor_array_ops.TensorArray'>):\n",
      "<tensorflow.python.ops.tensor_array_ops.TensorArray object at 0x7f208e3ea190>\n",
      "If you want to mark it as used call its \"mark_used()\" method.\n",
      "It was originally created here:\n",
      "  File \"/usr/local/lib/python3.7/dist-packages/tensorflow_addons/seq2seq/decoder.py\", line 514, in body\n",
      "    next_sequence_lengths,  File \"/usr/local/lib/python3.7/dist-packages/tensorflow/python/util/nest.py\", line 870, in map_structure\n",
      "    expand_composites=expand_composites)  File \"/usr/local/lib/python3.7/dist-packages/tensorflow/python/util/nest.py\", line 869, in <listcomp>\n",
      "    structure[0], [func(*x) for x in entries],  File \"/usr/local/lib/python3.7/dist-packages/tensorflow_addons/seq2seq/decoder.py\", line 506, in <lambda>\n",
      "    lambda ta, out: ta.write(time, out), outputs_ta, emit  File \"/usr/local/lib/python3.7/dist-packages/tensorflow/python/util/tf_should_use.py\", line 249, in wrapped\n",
      "    error_in_function=error_in_function)\n",
      "==================================\n"
     ]
    },
    {
     "name": "stderr",
     "output_type": "stream",
     "text": [
      "Not able to transliterate मुखलाल यादव वो धर्मेदर यादव\n"
     ]
    },
    {
     "name": "stdout",
     "output_type": "stream",
     "text": [
      "ERROR:tensorflow:==================================\n",
      "Object was never used (type <class 'tensorflow.python.ops.tensor_array_ops.TensorArray'>):\n",
      "<tensorflow.python.ops.tensor_array_ops.TensorArray object at 0x7f208e2b4b50>\n",
      "If you want to mark it as used call its \"mark_used()\" method.\n",
      "It was originally created here:\n",
      "  File \"/usr/local/lib/python3.7/dist-packages/tensorflow_addons/seq2seq/decoder.py\", line 514, in body\n",
      "    next_sequence_lengths,  File \"/usr/local/lib/python3.7/dist-packages/tensorflow/python/util/nest.py\", line 870, in map_structure\n",
      "    expand_composites=expand_composites)  File \"/usr/local/lib/python3.7/dist-packages/tensorflow/python/util/nest.py\", line 869, in <listcomp>\n",
      "    structure[0], [func(*x) for x in entries],  File \"/usr/local/lib/python3.7/dist-packages/tensorflow_addons/seq2seq/decoder.py\", line 506, in <lambda>\n",
      "    lambda ta, out: ta.write(time, out), outputs_ta, emit  File \"/usr/local/lib/python3.7/dist-packages/tensorflow/python/util/tf_should_use.py\", line 249, in wrapped\n",
      "    error_in_function=error_in_function)\n",
      "==================================\n",
      "ERROR:tensorflow:==================================\n",
      "Object was never used (type <class 'tensorflow.python.ops.tensor_array_ops.TensorArray'>):\n",
      "<tensorflow.python.ops.tensor_array_ops.TensorArray object at 0x7f208e207b90>\n",
      "If you want to mark it as used call its \"mark_used()\" method.\n",
      "It was originally created here:\n",
      "  File \"/usr/local/lib/python3.7/dist-packages/tensorflow_addons/seq2seq/decoder.py\", line 514, in body\n",
      "    next_sequence_lengths,  File \"/usr/local/lib/python3.7/dist-packages/tensorflow/python/util/nest.py\", line 870, in map_structure\n",
      "    expand_composites=expand_composites)  File \"/usr/local/lib/python3.7/dist-packages/tensorflow/python/util/nest.py\", line 869, in <listcomp>\n",
      "    structure[0], [func(*x) for x in entries],  File \"/usr/local/lib/python3.7/dist-packages/tensorflow_addons/seq2seq/decoder.py\", line 506, in <lambda>\n",
      "    lambda ta, out: ta.write(time, out), outputs_ta, emit  File \"/usr/local/lib/python3.7/dist-packages/tensorflow/python/util/tf_should_use.py\", line 249, in wrapped\n",
      "    error_in_function=error_in_function)\n",
      "==================================\n"
     ]
    },
    {
     "name": "stderr",
     "output_type": "stream",
     "text": [
      "Not able to transliterate रामनरेश वो- राम कृपाल सिंह\n"
     ]
    },
    {
     "name": "stdout",
     "output_type": "stream",
     "text": [
      "ERROR:tensorflow:==================================\n",
      "Object was never used (type <class 'tensorflow.python.ops.tensor_array_ops.TensorArray'>):\n",
      "<tensorflow.python.ops.tensor_array_ops.TensorArray object at 0x7f208e249d90>\n",
      "If you want to mark it as used call its \"mark_used()\" method.\n",
      "It was originally created here:\n",
      "  File \"/usr/local/lib/python3.7/dist-packages/tensorflow_addons/seq2seq/decoder.py\", line 514, in body\n",
      "    next_sequence_lengths,  File \"/usr/local/lib/python3.7/dist-packages/tensorflow/python/util/nest.py\", line 870, in map_structure\n",
      "    expand_composites=expand_composites)  File \"/usr/local/lib/python3.7/dist-packages/tensorflow/python/util/nest.py\", line 869, in <listcomp>\n",
      "    structure[0], [func(*x) for x in entries],  File \"/usr/local/lib/python3.7/dist-packages/tensorflow_addons/seq2seq/decoder.py\", line 506, in <lambda>\n",
      "    lambda ta, out: ta.write(time, out), outputs_ta, emit  File \"/usr/local/lib/python3.7/dist-packages/tensorflow/python/util/tf_should_use.py\", line 249, in wrapped\n",
      "    error_in_function=error_in_function)\n",
      "==================================\n",
      "ERROR:tensorflow:==================================\n",
      "Object was never used (type <class 'tensorflow.python.ops.tensor_array_ops.TensorArray'>):\n",
      "<tensorflow.python.ops.tensor_array_ops.TensorArray object at 0x7f208e2c45d0>\n",
      "If you want to mark it as used call its \"mark_used()\" method.\n",
      "It was originally created here:\n",
      "  File \"/usr/local/lib/python3.7/dist-packages/tensorflow_addons/seq2seq/decoder.py\", line 514, in body\n",
      "    next_sequence_lengths,  File \"/usr/local/lib/python3.7/dist-packages/tensorflow/python/util/nest.py\", line 870, in map_structure\n",
      "    expand_composites=expand_composites)  File \"/usr/local/lib/python3.7/dist-packages/tensorflow/python/util/nest.py\", line 869, in <listcomp>\n",
      "    structure[0], [func(*x) for x in entries],  File \"/usr/local/lib/python3.7/dist-packages/tensorflow_addons/seq2seq/decoder.py\", line 506, in <lambda>\n",
      "    lambda ta, out: ta.write(time, out), outputs_ta, emit  File \"/usr/local/lib/python3.7/dist-packages/tensorflow/python/util/tf_should_use.py\", line 249, in wrapped\n",
      "    error_in_function=error_in_function)\n",
      "==================================\n"
     ]
    },
    {
     "name": "stderr",
     "output_type": "stream",
     "text": [
      "Not able to transliterate हरिहर साह वो- सिववचन साह\n"
     ]
    },
    {
     "name": "stdout",
     "output_type": "stream",
     "text": [
      "ERROR:tensorflow:==================================\n",
      "Object was never used (type <class 'tensorflow.python.ops.tensor_array_ops.TensorArray'>):\n",
      "<tensorflow.python.ops.tensor_array_ops.TensorArray object at 0x7f208e0f8650>\n",
      "If you want to mark it as used call its \"mark_used()\" method.\n",
      "It was originally created here:\n",
      "  File \"/usr/local/lib/python3.7/dist-packages/tensorflow_addons/seq2seq/decoder.py\", line 514, in body\n",
      "    next_sequence_lengths,  File \"/usr/local/lib/python3.7/dist-packages/tensorflow/python/util/nest.py\", line 870, in map_structure\n",
      "    expand_composites=expand_composites)  File \"/usr/local/lib/python3.7/dist-packages/tensorflow/python/util/nest.py\", line 869, in <listcomp>\n",
      "    structure[0], [func(*x) for x in entries],  File \"/usr/local/lib/python3.7/dist-packages/tensorflow_addons/seq2seq/decoder.py\", line 506, in <lambda>\n",
      "    lambda ta, out: ta.write(time, out), outputs_ta, emit  File \"/usr/local/lib/python3.7/dist-packages/tensorflow/python/util/tf_should_use.py\", line 249, in wrapped\n",
      "    error_in_function=error_in_function)\n",
      "==================================\n",
      "ERROR:tensorflow:==================================\n",
      "Object was never used (type <class 'tensorflow.python.ops.tensor_array_ops.TensorArray'>):\n",
      "<tensorflow.python.ops.tensor_array_ops.TensorArray object at 0x7f208e2370d0>\n",
      "If you want to mark it as used call its \"mark_used()\" method.\n",
      "It was originally created here:\n",
      "  File \"/usr/local/lib/python3.7/dist-packages/tensorflow_addons/seq2seq/decoder.py\", line 514, in body\n",
      "    next_sequence_lengths,  File \"/usr/local/lib/python3.7/dist-packages/tensorflow/python/util/nest.py\", line 870, in map_structure\n",
      "    expand_composites=expand_composites)  File \"/usr/local/lib/python3.7/dist-packages/tensorflow/python/util/nest.py\", line 869, in <listcomp>\n",
      "    structure[0], [func(*x) for x in entries],  File \"/usr/local/lib/python3.7/dist-packages/tensorflow_addons/seq2seq/decoder.py\", line 506, in <lambda>\n",
      "    lambda ta, out: ta.write(time, out), outputs_ta, emit  File \"/usr/local/lib/python3.7/dist-packages/tensorflow/python/util/tf_should_use.py\", line 249, in wrapped\n",
      "    error_in_function=error_in_function)\n",
      "==================================\n"
     ]
    },
    {
     "name": "stderr",
     "output_type": "stream",
     "text": [
      "Not able to transliterate विनोद गुप्ता वो- राजेश गुप्ता\n"
     ]
    },
    {
     "name": "stdout",
     "output_type": "stream",
     "text": [
      "ERROR:tensorflow:==================================\n",
      "Object was never used (type <class 'tensorflow.python.ops.tensor_array_ops.TensorArray'>):\n",
      "<tensorflow.python.ops.tensor_array_ops.TensorArray object at 0x7f208e3503d0>\n",
      "If you want to mark it as used call its \"mark_used()\" method.\n",
      "It was originally created here:\n",
      "  File \"/usr/local/lib/python3.7/dist-packages/tensorflow_addons/seq2seq/decoder.py\", line 514, in body\n",
      "    next_sequence_lengths,  File \"/usr/local/lib/python3.7/dist-packages/tensorflow/python/util/nest.py\", line 870, in map_structure\n",
      "    expand_composites=expand_composites)  File \"/usr/local/lib/python3.7/dist-packages/tensorflow/python/util/nest.py\", line 869, in <listcomp>\n",
      "    structure[0], [func(*x) for x in entries],  File \"/usr/local/lib/python3.7/dist-packages/tensorflow_addons/seq2seq/decoder.py\", line 506, in <lambda>\n",
      "    lambda ta, out: ta.write(time, out), outputs_ta, emit  File \"/usr/local/lib/python3.7/dist-packages/tensorflow/python/util/tf_should_use.py\", line 249, in wrapped\n",
      "    error_in_function=error_in_function)\n",
      "==================================\n",
      "ERROR:tensorflow:==================================\n",
      "Object was never used (type <class 'tensorflow.python.ops.tensor_array_ops.TensorArray'>):\n",
      "<tensorflow.python.ops.tensor_array_ops.TensorArray object at 0x7f208e2db150>\n",
      "If you want to mark it as used call its \"mark_used()\" method.\n",
      "It was originally created here:\n",
      "  File \"/usr/local/lib/python3.7/dist-packages/tensorflow_addons/seq2seq/decoder.py\", line 514, in body\n",
      "    next_sequence_lengths,  File \"/usr/local/lib/python3.7/dist-packages/tensorflow/python/util/nest.py\", line 870, in map_structure\n",
      "    expand_composites=expand_composites)  File \"/usr/local/lib/python3.7/dist-packages/tensorflow/python/util/nest.py\", line 869, in <listcomp>\n",
      "    structure[0], [func(*x) for x in entries],  File \"/usr/local/lib/python3.7/dist-packages/tensorflow_addons/seq2seq/decoder.py\", line 506, in <lambda>\n",
      "    lambda ta, out: ta.write(time, out), outputs_ta, emit  File \"/usr/local/lib/python3.7/dist-packages/tensorflow/python/util/tf_should_use.py\", line 249, in wrapped\n",
      "    error_in_function=error_in_function)\n",
      "==================================\n"
     ]
    },
    {
     "name": "stderr",
     "output_type": "stream",
     "text": [
      "Not able to transliterate सुदामा माझी वो रघु माझी\n"
     ]
    },
    {
     "name": "stdout",
     "output_type": "stream",
     "text": [
      "ERROR:tensorflow:==================================\n",
      "Object was never used (type <class 'tensorflow.python.ops.tensor_array_ops.TensorArray'>):\n",
      "<tensorflow.python.ops.tensor_array_ops.TensorArray object at 0x7f208e27a550>\n",
      "If you want to mark it as used call its \"mark_used()\" method.\n",
      "It was originally created here:\n",
      "  File \"/usr/local/lib/python3.7/dist-packages/tensorflow_addons/seq2seq/decoder.py\", line 514, in body\n",
      "    next_sequence_lengths,  File \"/usr/local/lib/python3.7/dist-packages/tensorflow/python/util/nest.py\", line 870, in map_structure\n",
      "    expand_composites=expand_composites)  File \"/usr/local/lib/python3.7/dist-packages/tensorflow/python/util/nest.py\", line 869, in <listcomp>\n",
      "    structure[0], [func(*x) for x in entries],  File \"/usr/local/lib/python3.7/dist-packages/tensorflow_addons/seq2seq/decoder.py\", line 506, in <lambda>\n",
      "    lambda ta, out: ta.write(time, out), outputs_ta, emit  File \"/usr/local/lib/python3.7/dist-packages/tensorflow/python/util/tf_should_use.py\", line 249, in wrapped\n",
      "    error_in_function=error_in_function)\n",
      "==================================\n",
      "ERROR:tensorflow:==================================\n",
      "Object was never used (type <class 'tensorflow.python.ops.tensor_array_ops.TensorArray'>):\n",
      "<tensorflow.python.ops.tensor_array_ops.TensorArray object at 0x7f208e33afd0>\n",
      "If you want to mark it as used call its \"mark_used()\" method.\n",
      "It was originally created here:\n",
      "  File \"/usr/local/lib/python3.7/dist-packages/tensorflow_addons/seq2seq/decoder.py\", line 514, in body\n",
      "    next_sequence_lengths,  File \"/usr/local/lib/python3.7/dist-packages/tensorflow/python/util/nest.py\", line 870, in map_structure\n",
      "    expand_composites=expand_composites)  File \"/usr/local/lib/python3.7/dist-packages/tensorflow/python/util/nest.py\", line 869, in <listcomp>\n",
      "    structure[0], [func(*x) for x in entries],  File \"/usr/local/lib/python3.7/dist-packages/tensorflow_addons/seq2seq/decoder.py\", line 506, in <lambda>\n",
      "    lambda ta, out: ta.write(time, out), outputs_ta, emit  File \"/usr/local/lib/python3.7/dist-packages/tensorflow/python/util/tf_should_use.py\", line 249, in wrapped\n",
      "    error_in_function=error_in_function)\n",
      "==================================\n"
     ]
    },
    {
     "name": "stderr",
     "output_type": "stream",
     "text": [
      "Not able to transliterate अमरेशवर प्रासाद श्रीवास्तव\n"
     ]
    },
    {
     "name": "stdout",
     "output_type": "stream",
     "text": [
      "ERROR:tensorflow:==================================\n",
      "Object was never used (type <class 'tensorflow.python.ops.tensor_array_ops.TensorArray'>):\n",
      "<tensorflow.python.ops.tensor_array_ops.TensorArray object at 0x7f208e19ed90>\n",
      "If you want to mark it as used call its \"mark_used()\" method.\n",
      "It was originally created here:\n",
      "  File \"/usr/local/lib/python3.7/dist-packages/tensorflow_addons/seq2seq/decoder.py\", line 514, in body\n",
      "    next_sequence_lengths,  File \"/usr/local/lib/python3.7/dist-packages/tensorflow/python/util/nest.py\", line 870, in map_structure\n",
      "    expand_composites=expand_composites)  File \"/usr/local/lib/python3.7/dist-packages/tensorflow/python/util/nest.py\", line 869, in <listcomp>\n",
      "    structure[0], [func(*x) for x in entries],  File \"/usr/local/lib/python3.7/dist-packages/tensorflow_addons/seq2seq/decoder.py\", line 506, in <lambda>\n",
      "    lambda ta, out: ta.write(time, out), outputs_ta, emit  File \"/usr/local/lib/python3.7/dist-packages/tensorflow/python/util/tf_should_use.py\", line 249, in wrapped\n",
      "    error_in_function=error_in_function)\n",
      "==================================\n",
      "ERROR:tensorflow:==================================\n",
      "Object was never used (type <class 'tensorflow.python.ops.tensor_array_ops.TensorArray'>):\n",
      "<tensorflow.python.ops.tensor_array_ops.TensorArray object at 0x7f208e1b2050>\n",
      "If you want to mark it as used call its \"mark_used()\" method.\n",
      "It was originally created here:\n",
      "  File \"/usr/local/lib/python3.7/dist-packages/tensorflow_addons/seq2seq/decoder.py\", line 514, in body\n",
      "    next_sequence_lengths,  File \"/usr/local/lib/python3.7/dist-packages/tensorflow/python/util/nest.py\", line 870, in map_structure\n",
      "    expand_composites=expand_composites)  File \"/usr/local/lib/python3.7/dist-packages/tensorflow/python/util/nest.py\", line 869, in <listcomp>\n",
      "    structure[0], [func(*x) for x in entries],  File \"/usr/local/lib/python3.7/dist-packages/tensorflow_addons/seq2seq/decoder.py\", line 506, in <lambda>\n",
      "    lambda ta, out: ta.write(time, out), outputs_ta, emit  File \"/usr/local/lib/python3.7/dist-packages/tensorflow/python/util/tf_should_use.py\", line 249, in wrapped\n",
      "    error_in_function=error_in_function)\n",
      "==================================\n"
     ]
    },
    {
     "name": "stderr",
     "output_type": "stream",
     "text": [
      "Not able to transliterate रामायण भगत वो- कपिल देव भगत\n"
     ]
    },
    {
     "name": "stdout",
     "output_type": "stream",
     "text": [
      "ERROR:tensorflow:==================================\n",
      "Object was never used (type <class 'tensorflow.python.ops.tensor_array_ops.TensorArray'>):\n",
      "<tensorflow.python.ops.tensor_array_ops.TensorArray object at 0x7f208e1d6550>\n",
      "If you want to mark it as used call its \"mark_used()\" method.\n",
      "It was originally created here:\n",
      "  File \"/usr/local/lib/python3.7/dist-packages/tensorflow_addons/seq2seq/decoder.py\", line 514, in body\n",
      "    next_sequence_lengths,  File \"/usr/local/lib/python3.7/dist-packages/tensorflow/python/util/nest.py\", line 870, in map_structure\n",
      "    expand_composites=expand_composites)  File \"/usr/local/lib/python3.7/dist-packages/tensorflow/python/util/nest.py\", line 869, in <listcomp>\n",
      "    structure[0], [func(*x) for x in entries],  File \"/usr/local/lib/python3.7/dist-packages/tensorflow_addons/seq2seq/decoder.py\", line 506, in <lambda>\n",
      "    lambda ta, out: ta.write(time, out), outputs_ta, emit  File \"/usr/local/lib/python3.7/dist-packages/tensorflow/python/util/tf_should_use.py\", line 249, in wrapped\n",
      "    error_in_function=error_in_function)\n",
      "==================================\n",
      "ERROR:tensorflow:==================================\n",
      "Object was never used (type <class 'tensorflow.python.ops.tensor_array_ops.TensorArray'>):\n",
      "<tensorflow.python.ops.tensor_array_ops.TensorArray object at 0x7f1f7406d050>\n",
      "If you want to mark it as used call its \"mark_used()\" method.\n",
      "It was originally created here:\n",
      "  File \"/usr/local/lib/python3.7/dist-packages/tensorflow_addons/seq2seq/decoder.py\", line 514, in body\n",
      "    next_sequence_lengths,  File \"/usr/local/lib/python3.7/dist-packages/tensorflow/python/util/nest.py\", line 870, in map_structure\n",
      "    expand_composites=expand_composites)  File \"/usr/local/lib/python3.7/dist-packages/tensorflow/python/util/nest.py\", line 869, in <listcomp>\n",
      "    structure[0], [func(*x) for x in entries],  File \"/usr/local/lib/python3.7/dist-packages/tensorflow_addons/seq2seq/decoder.py\", line 506, in <lambda>\n",
      "    lambda ta, out: ta.write(time, out), outputs_ta, emit  File \"/usr/local/lib/python3.7/dist-packages/tensorflow/python/util/tf_should_use.py\", line 249, in wrapped\n",
      "    error_in_function=error_in_function)\n",
      "==================================\n"
     ]
    },
    {
     "name": "stderr",
     "output_type": "stream",
     "text": [
      "Not able to transliterate दराई  धोबी वो-= अजोर धोबी\n",
      "Not able to transliterate राम किशुन भगत वो- बाल भगत\n"
     ]
    },
    {
     "name": "stdout",
     "output_type": "stream",
     "text": [
      "ERROR:tensorflow:==================================\n",
      "Object was never used (type <class 'tensorflow.python.ops.tensor_array_ops.TensorArray'>):\n",
      "<tensorflow.python.ops.tensor_array_ops.TensorArray object at 0x7f208e261a90>\n",
      "If you want to mark it as used call its \"mark_used()\" method.\n",
      "It was originally created here:\n",
      "  File \"/usr/local/lib/python3.7/dist-packages/tensorflow_addons/seq2seq/decoder.py\", line 514, in body\n",
      "    next_sequence_lengths,  File \"/usr/local/lib/python3.7/dist-packages/tensorflow/python/util/nest.py\", line 870, in map_structure\n",
      "    expand_composites=expand_composites)  File \"/usr/local/lib/python3.7/dist-packages/tensorflow/python/util/nest.py\", line 869, in <listcomp>\n",
      "    structure[0], [func(*x) for x in entries],  File \"/usr/local/lib/python3.7/dist-packages/tensorflow_addons/seq2seq/decoder.py\", line 506, in <lambda>\n",
      "    lambda ta, out: ta.write(time, out), outputs_ta, emit  File \"/usr/local/lib/python3.7/dist-packages/tensorflow/python/util/tf_should_use.py\", line 249, in wrapped\n",
      "    error_in_function=error_in_function)\n",
      "==================================\n",
      "ERROR:tensorflow:==================================\n",
      "Object was never used (type <class 'tensorflow.python.ops.tensor_array_ops.TensorArray'>):\n",
      "<tensorflow.python.ops.tensor_array_ops.TensorArray object at 0x7f208e2b5c90>\n",
      "If you want to mark it as used call its \"mark_used()\" method.\n",
      "It was originally created here:\n",
      "  File \"/usr/local/lib/python3.7/dist-packages/tensorflow_addons/seq2seq/decoder.py\", line 514, in body\n",
      "    next_sequence_lengths,  File \"/usr/local/lib/python3.7/dist-packages/tensorflow/python/util/nest.py\", line 870, in map_structure\n",
      "    expand_composites=expand_composites)  File \"/usr/local/lib/python3.7/dist-packages/tensorflow/python/util/nest.py\", line 869, in <listcomp>\n",
      "    structure[0], [func(*x) for x in entries],  File \"/usr/local/lib/python3.7/dist-packages/tensorflow_addons/seq2seq/decoder.py\", line 506, in <lambda>\n",
      "    lambda ta, out: ta.write(time, out), outputs_ta, emit  File \"/usr/local/lib/python3.7/dist-packages/tensorflow/python/util/tf_should_use.py\", line 249, in wrapped\n",
      "    error_in_function=error_in_function)\n",
      "==================================\n"
     ]
    },
    {
     "name": "stderr",
     "output_type": "stream",
     "text": [
      "Not able to transliterate नन्द किशोर वो-= अरुण चौधरि\n",
      "Not able to transliterate शिवचरण चमार वो- राम औतार चमार\n"
     ]
    },
    {
     "name": "stdout",
     "output_type": "stream",
     "text": [
      "ERROR:tensorflow:==================================\n",
      "Object was never used (type <class 'tensorflow.python.ops.tensor_array_ops.TensorArray'>):\n",
      "<tensorflow.python.ops.tensor_array_ops.TensorArray object at 0x7f208e2b5a90>\n",
      "If you want to mark it as used call its \"mark_used()\" method.\n",
      "It was originally created here:\n",
      "  File \"/usr/local/lib/python3.7/dist-packages/tensorflow_addons/seq2seq/decoder.py\", line 514, in body\n",
      "    next_sequence_lengths,  File \"/usr/local/lib/python3.7/dist-packages/tensorflow/python/util/nest.py\", line 870, in map_structure\n",
      "    expand_composites=expand_composites)  File \"/usr/local/lib/python3.7/dist-packages/tensorflow/python/util/nest.py\", line 869, in <listcomp>\n",
      "    structure[0], [func(*x) for x in entries],  File \"/usr/local/lib/python3.7/dist-packages/tensorflow_addons/seq2seq/decoder.py\", line 506, in <lambda>\n",
      "    lambda ta, out: ta.write(time, out), outputs_ta, emit  File \"/usr/local/lib/python3.7/dist-packages/tensorflow/python/util/tf_should_use.py\", line 249, in wrapped\n",
      "    error_in_function=error_in_function)\n",
      "==================================\n",
      "ERROR:tensorflow:==================================\n",
      "Object was never used (type <class 'tensorflow.python.ops.tensor_array_ops.TensorArray'>):\n",
      "<tensorflow.python.ops.tensor_array_ops.TensorArray object at 0x7f208e1d6710>\n",
      "If you want to mark it as used call its \"mark_used()\" method.\n",
      "It was originally created here:\n",
      "  File \"/usr/local/lib/python3.7/dist-packages/tensorflow_addons/seq2seq/decoder.py\", line 514, in body\n",
      "    next_sequence_lengths,  File \"/usr/local/lib/python3.7/dist-packages/tensorflow/python/util/nest.py\", line 870, in map_structure\n",
      "    expand_composites=expand_composites)  File \"/usr/local/lib/python3.7/dist-packages/tensorflow/python/util/nest.py\", line 869, in <listcomp>\n",
      "    structure[0], [func(*x) for x in entries],  File \"/usr/local/lib/python3.7/dist-packages/tensorflow_addons/seq2seq/decoder.py\", line 506, in <lambda>\n",
      "    lambda ta, out: ta.write(time, out), outputs_ta, emit  File \"/usr/local/lib/python3.7/dist-packages/tensorflow/python/util/tf_should_use.py\", line 249, in wrapped\n",
      "    error_in_function=error_in_function)\n",
      "==================================\n"
     ]
    },
    {
     "name": "stderr",
     "output_type": "stream",
     "text": [
      "Not able to transliterate जग्रनाथ भगत वो- रघुनाथ भगत\n"
     ]
    },
    {
     "name": "stdout",
     "output_type": "stream",
     "text": [
      "ERROR:tensorflow:==================================\n",
      "Object was never used (type <class 'tensorflow.python.ops.tensor_array_ops.TensorArray'>):\n",
      "<tensorflow.python.ops.tensor_array_ops.TensorArray object at 0x7f20cf1dba50>\n",
      "If you want to mark it as used call its \"mark_used()\" method.\n",
      "It was originally created here:\n",
      "  File \"/usr/local/lib/python3.7/dist-packages/tensorflow_addons/seq2seq/decoder.py\", line 514, in body\n",
      "    next_sequence_lengths,  File \"/usr/local/lib/python3.7/dist-packages/tensorflow/python/util/nest.py\", line 870, in map_structure\n",
      "    expand_composites=expand_composites)  File \"/usr/local/lib/python3.7/dist-packages/tensorflow/python/util/nest.py\", line 869, in <listcomp>\n",
      "    structure[0], [func(*x) for x in entries],  File \"/usr/local/lib/python3.7/dist-packages/tensorflow_addons/seq2seq/decoder.py\", line 506, in <lambda>\n",
      "    lambda ta, out: ta.write(time, out), outputs_ta, emit  File \"/usr/local/lib/python3.7/dist-packages/tensorflow/python/util/tf_should_use.py\", line 249, in wrapped\n",
      "    error_in_function=error_in_function)\n",
      "==================================\n",
      "ERROR:tensorflow:==================================\n",
      "Object was never used (type <class 'tensorflow.python.ops.tensor_array_ops.TensorArray'>):\n",
      "<tensorflow.python.ops.tensor_array_ops.TensorArray object at 0x7f208e18e150>\n",
      "If you want to mark it as used call its \"mark_used()\" method.\n",
      "It was originally created here:\n",
      "  File \"/usr/local/lib/python3.7/dist-packages/tensorflow_addons/seq2seq/decoder.py\", line 514, in body\n",
      "    next_sequence_lengths,  File \"/usr/local/lib/python3.7/dist-packages/tensorflow/python/util/nest.py\", line 870, in map_structure\n",
      "    expand_composites=expand_composites)  File \"/usr/local/lib/python3.7/dist-packages/tensorflow/python/util/nest.py\", line 869, in <listcomp>\n",
      "    structure[0], [func(*x) for x in entries],  File \"/usr/local/lib/python3.7/dist-packages/tensorflow_addons/seq2seq/decoder.py\", line 506, in <lambda>\n",
      "    lambda ta, out: ta.write(time, out), outputs_ta, emit  File \"/usr/local/lib/python3.7/dist-packages/tensorflow/python/util/tf_should_use.py\", line 249, in wrapped\n",
      "    error_in_function=error_in_function)\n",
      "==================================\n"
     ]
    },
    {
     "name": "stderr",
     "output_type": "stream",
     "text": [
      "Not able to transliterate बबन सिंह वो- सौदागर सिंह\n"
     ]
    },
    {
     "name": "stdout",
     "output_type": "stream",
     "text": [
      "ERROR:tensorflow:==================================\n",
      "Object was never used (type <class 'tensorflow.python.ops.tensor_array_ops.TensorArray'>):\n",
      "<tensorflow.python.ops.tensor_array_ops.TensorArray object at 0x7f208e21bb50>\n",
      "If you want to mark it as used call its \"mark_used()\" method.\n",
      "It was originally created here:\n",
      "  File \"/usr/local/lib/python3.7/dist-packages/tensorflow_addons/seq2seq/decoder.py\", line 514, in body\n",
      "    next_sequence_lengths,  File \"/usr/local/lib/python3.7/dist-packages/tensorflow/python/util/nest.py\", line 870, in map_structure\n",
      "    expand_composites=expand_composites)  File \"/usr/local/lib/python3.7/dist-packages/tensorflow/python/util/nest.py\", line 869, in <listcomp>\n",
      "    structure[0], [func(*x) for x in entries],  File \"/usr/local/lib/python3.7/dist-packages/tensorflow_addons/seq2seq/decoder.py\", line 506, in <lambda>\n",
      "    lambda ta, out: ta.write(time, out), outputs_ta, emit  File \"/usr/local/lib/python3.7/dist-packages/tensorflow/python/util/tf_should_use.py\", line 249, in wrapped\n",
      "    error_in_function=error_in_function)\n",
      "==================================\n",
      "ERROR:tensorflow:==================================\n",
      "Object was never used (type <class 'tensorflow.python.ops.tensor_array_ops.TensorArray'>):\n",
      "<tensorflow.python.ops.tensor_array_ops.TensorArray object at 0x7f208e247990>\n",
      "If you want to mark it as used call its \"mark_used()\" method.\n",
      "It was originally created here:\n",
      "  File \"/usr/local/lib/python3.7/dist-packages/tensorflow_addons/seq2seq/decoder.py\", line 514, in body\n",
      "    next_sequence_lengths,  File \"/usr/local/lib/python3.7/dist-packages/tensorflow/python/util/nest.py\", line 870, in map_structure\n",
      "    expand_composites=expand_composites)  File \"/usr/local/lib/python3.7/dist-packages/tensorflow/python/util/nest.py\", line 869, in <listcomp>\n",
      "    structure[0], [func(*x) for x in entries],  File \"/usr/local/lib/python3.7/dist-packages/tensorflow_addons/seq2seq/decoder.py\", line 506, in <lambda>\n",
      "    lambda ta, out: ta.write(time, out), outputs_ta, emit  File \"/usr/local/lib/python3.7/dist-packages/tensorflow/python/util/tf_should_use.py\", line 249, in wrapped\n",
      "    error_in_function=error_in_function)\n",
      "==================================\n"
     ]
    },
    {
     "name": "stderr",
     "output_type": "stream",
     "text": [
      "Not able to transliterate अभिरायल राय वो- राम बरन राय\n"
     ]
    },
    {
     "name": "stdout",
     "output_type": "stream",
     "text": [
      "ERROR:tensorflow:==================================\n",
      "Object was never used (type <class 'tensorflow.python.ops.tensor_array_ops.TensorArray'>):\n",
      "<tensorflow.python.ops.tensor_array_ops.TensorArray object at 0x7f20cf164e50>\n",
      "If you want to mark it as used call its \"mark_used()\" method.\n",
      "It was originally created here:\n",
      "  File \"/usr/local/lib/python3.7/dist-packages/tensorflow_addons/seq2seq/decoder.py\", line 514, in body\n",
      "    next_sequence_lengths,  File \"/usr/local/lib/python3.7/dist-packages/tensorflow/python/util/nest.py\", line 870, in map_structure\n",
      "    expand_composites=expand_composites)  File \"/usr/local/lib/python3.7/dist-packages/tensorflow/python/util/nest.py\", line 869, in <listcomp>\n",
      "    structure[0], [func(*x) for x in entries],  File \"/usr/local/lib/python3.7/dist-packages/tensorflow_addons/seq2seq/decoder.py\", line 506, in <lambda>\n",
      "    lambda ta, out: ta.write(time, out), outputs_ta, emit  File \"/usr/local/lib/python3.7/dist-packages/tensorflow/python/util/tf_should_use.py\", line 249, in wrapped\n",
      "    error_in_function=error_in_function)\n",
      "==================================\n",
      "ERROR:tensorflow:==================================\n",
      "Object was never used (type <class 'tensorflow.python.ops.tensor_array_ops.TensorArray'>):\n",
      "<tensorflow.python.ops.tensor_array_ops.TensorArray object at 0x7f20cf161410>\n",
      "If you want to mark it as used call its \"mark_used()\" method.\n",
      "It was originally created here:\n",
      "  File \"/usr/local/lib/python3.7/dist-packages/tensorflow_addons/seq2seq/decoder.py\", line 514, in body\n",
      "    next_sequence_lengths,  File \"/usr/local/lib/python3.7/dist-packages/tensorflow/python/util/nest.py\", line 870, in map_structure\n",
      "    expand_composites=expand_composites)  File \"/usr/local/lib/python3.7/dist-packages/tensorflow/python/util/nest.py\", line 869, in <listcomp>\n",
      "    structure[0], [func(*x) for x in entries],  File \"/usr/local/lib/python3.7/dist-packages/tensorflow_addons/seq2seq/decoder.py\", line 506, in <lambda>\n",
      "    lambda ta, out: ta.write(time, out), outputs_ta, emit  File \"/usr/local/lib/python3.7/dist-packages/tensorflow/python/util/tf_should_use.py\", line 249, in wrapped\n",
      "    error_in_function=error_in_function)\n",
      "==================================\n"
     ]
    },
    {
     "name": "stderr",
     "output_type": "stream",
     "text": [
      "Not able to transliterate विमुनी भगत वो- रामाकान्त भगत\n"
     ]
    },
    {
     "name": "stdout",
     "output_type": "stream",
     "text": [
      "ERROR:tensorflow:==================================\n",
      "Object was never used (type <class 'tensorflow.python.ops.tensor_array_ops.TensorArray'>):\n",
      "<tensorflow.python.ops.tensor_array_ops.TensorArray object at 0x7f208e2cc790>\n",
      "If you want to mark it as used call its \"mark_used()\" method.\n",
      "It was originally created here:\n",
      "  File \"/usr/local/lib/python3.7/dist-packages/tensorflow_addons/seq2seq/decoder.py\", line 514, in body\n",
      "    next_sequence_lengths,  File \"/usr/local/lib/python3.7/dist-packages/tensorflow/python/util/nest.py\", line 870, in map_structure\n",
      "    expand_composites=expand_composites)  File \"/usr/local/lib/python3.7/dist-packages/tensorflow/python/util/nest.py\", line 869, in <listcomp>\n",
      "    structure[0], [func(*x) for x in entries],  File \"/usr/local/lib/python3.7/dist-packages/tensorflow_addons/seq2seq/decoder.py\", line 506, in <lambda>\n",
      "    lambda ta, out: ta.write(time, out), outputs_ta, emit  File \"/usr/local/lib/python3.7/dist-packages/tensorflow/python/util/tf_should_use.py\", line 249, in wrapped\n",
      "    error_in_function=error_in_function)\n",
      "==================================\n",
      "ERROR:tensorflow:==================================\n",
      "Object was never used (type <class 'tensorflow.python.ops.tensor_array_ops.TensorArray'>):\n",
      "<tensorflow.python.ops.tensor_array_ops.TensorArray object at 0x7f208e2c2450>\n",
      "If you want to mark it as used call its \"mark_used()\" method.\n",
      "It was originally created here:\n",
      "  File \"/usr/local/lib/python3.7/dist-packages/tensorflow_addons/seq2seq/decoder.py\", line 514, in body\n",
      "    next_sequence_lengths,  File \"/usr/local/lib/python3.7/dist-packages/tensorflow/python/util/nest.py\", line 870, in map_structure\n",
      "    expand_composites=expand_composites)  File \"/usr/local/lib/python3.7/dist-packages/tensorflow/python/util/nest.py\", line 869, in <listcomp>\n",
      "    structure[0], [func(*x) for x in entries],  File \"/usr/local/lib/python3.7/dist-packages/tensorflow_addons/seq2seq/decoder.py\", line 506, in <lambda>\n",
      "    lambda ta, out: ta.write(time, out), outputs_ta, emit  File \"/usr/local/lib/python3.7/dist-packages/tensorflow/python/util/tf_should_use.py\", line 249, in wrapped\n",
      "    error_in_function=error_in_function)\n",
      "==================================\n"
     ]
    },
    {
     "name": "stderr",
     "output_type": "stream",
     "text": [
      "Not able to transliterate राम टहल कोइरी वो-\n"
     ]
    },
    {
     "name": "stdout",
     "output_type": "stream",
     "text": [
      "ERROR:tensorflow:==================================\n",
      "Object was never used (type <class 'tensorflow.python.ops.tensor_array_ops.TensorArray'>):\n",
      "<tensorflow.python.ops.tensor_array_ops.TensorArray object at 0x7f21802f3890>\n",
      "If you want to mark it as used call its \"mark_used()\" method.\n",
      "It was originally created here:\n",
      "  File \"/usr/local/lib/python3.7/dist-packages/tensorflow_addons/seq2seq/decoder.py\", line 514, in body\n",
      "    next_sequence_lengths,  File \"/usr/local/lib/python3.7/dist-packages/tensorflow/python/util/nest.py\", line 870, in map_structure\n",
      "    expand_composites=expand_composites)  File \"/usr/local/lib/python3.7/dist-packages/tensorflow/python/util/nest.py\", line 869, in <listcomp>\n",
      "    structure[0], [func(*x) for x in entries],  File \"/usr/local/lib/python3.7/dist-packages/tensorflow_addons/seq2seq/decoder.py\", line 506, in <lambda>\n",
      "    lambda ta, out: ta.write(time, out), outputs_ta, emit  File \"/usr/local/lib/python3.7/dist-packages/tensorflow/python/util/tf_should_use.py\", line 249, in wrapped\n",
      "    error_in_function=error_in_function)\n",
      "==================================\n",
      "ERROR:tensorflow:==================================\n",
      "Object was never used (type <class 'tensorflow.python.ops.tensor_array_ops.TensorArray'>):\n",
      "<tensorflow.python.ops.tensor_array_ops.TensorArray object at 0x7f208e38be10>\n",
      "If you want to mark it as used call its \"mark_used()\" method.\n",
      "It was originally created here:\n",
      "  File \"/usr/local/lib/python3.7/dist-packages/tensorflow_addons/seq2seq/decoder.py\", line 514, in body\n",
      "    next_sequence_lengths,  File \"/usr/local/lib/python3.7/dist-packages/tensorflow/python/util/nest.py\", line 870, in map_structure\n",
      "    expand_composites=expand_composites)  File \"/usr/local/lib/python3.7/dist-packages/tensorflow/python/util/nest.py\", line 869, in <listcomp>\n",
      "    structure[0], [func(*x) for x in entries],  File \"/usr/local/lib/python3.7/dist-packages/tensorflow_addons/seq2seq/decoder.py\", line 506, in <lambda>\n",
      "    lambda ta, out: ta.write(time, out), outputs_ta, emit  File \"/usr/local/lib/python3.7/dist-packages/tensorflow/python/util/tf_should_use.py\", line 249, in wrapped\n",
      "    error_in_function=error_in_function)\n",
      "==================================\n"
     ]
    },
    {
     "name": "stderr",
     "output_type": "stream",
     "text": [
      "Not able to transliterate राम सुन्दर कुर्मी वो-\n"
     ]
    },
    {
     "name": "stdout",
     "output_type": "stream",
     "text": [
      "ERROR:tensorflow:==================================\n",
      "Object was never used (type <class 'tensorflow.python.ops.tensor_array_ops.TensorArray'>):\n",
      "<tensorflow.python.ops.tensor_array_ops.TensorArray object at 0x7f208e1f99d0>\n",
      "If you want to mark it as used call its \"mark_used()\" method.\n",
      "It was originally created here:\n",
      "  File \"/usr/local/lib/python3.7/dist-packages/tensorflow_addons/seq2seq/decoder.py\", line 514, in body\n",
      "    next_sequence_lengths,  File \"/usr/local/lib/python3.7/dist-packages/tensorflow/python/util/nest.py\", line 870, in map_structure\n",
      "    expand_composites=expand_composites)  File \"/usr/local/lib/python3.7/dist-packages/tensorflow/python/util/nest.py\", line 869, in <listcomp>\n",
      "    structure[0], [func(*x) for x in entries],  File \"/usr/local/lib/python3.7/dist-packages/tensorflow_addons/seq2seq/decoder.py\", line 506, in <lambda>\n",
      "    lambda ta, out: ta.write(time, out), outputs_ta, emit  File \"/usr/local/lib/python3.7/dist-packages/tensorflow/python/util/tf_should_use.py\", line 249, in wrapped\n",
      "    error_in_function=error_in_function)\n",
      "==================================\n",
      "ERROR:tensorflow:==================================\n",
      "Object was never used (type <class 'tensorflow.python.ops.tensor_array_ops.TensorArray'>):\n",
      "<tensorflow.python.ops.tensor_array_ops.TensorArray object at 0x7f208e087ed0>\n",
      "If you want to mark it as used call its \"mark_used()\" method.\n",
      "It was originally created here:\n",
      "  File \"/usr/local/lib/python3.7/dist-packages/tensorflow_addons/seq2seq/decoder.py\", line 514, in body\n",
      "    next_sequence_lengths,  File \"/usr/local/lib/python3.7/dist-packages/tensorflow/python/util/nest.py\", line 870, in map_structure\n",
      "    expand_composites=expand_composites)  File \"/usr/local/lib/python3.7/dist-packages/tensorflow/python/util/nest.py\", line 869, in <listcomp>\n",
      "    structure[0], [func(*x) for x in entries],  File \"/usr/local/lib/python3.7/dist-packages/tensorflow_addons/seq2seq/decoder.py\", line 506, in <lambda>\n",
      "    lambda ta, out: ta.write(time, out), outputs_ta, emit  File \"/usr/local/lib/python3.7/dist-packages/tensorflow/python/util/tf_should_use.py\", line 249, in wrapped\n",
      "    error_in_function=error_in_function)\n",
      "==================================\n"
     ]
    },
    {
     "name": "stderr",
     "output_type": "stream",
     "text": [
      "Not able to transliterate मोतीलाल यादव वो-= नन्दजी यादव\n"
     ]
    },
    {
     "name": "stdout",
     "output_type": "stream",
     "text": [
      "finished 1953189 records\n",
      "ERROR:tensorflow:==================================\n",
      "Object was never used (type <class 'tensorflow.python.ops.tensor_array_ops.TensorArray'>):\n",
      "<tensorflow.python.ops.tensor_array_ops.TensorArray object at 0x7f208e32cf90>\n",
      "If you want to mark it as used call its \"mark_used()\" method.\n",
      "It was originally created here:\n",
      "  File \"/usr/local/lib/python3.7/dist-packages/tensorflow_addons/seq2seq/decoder.py\", line 506, in body\n",
      "    lambda ta, out: ta.write(time, out), outputs_ta, emit  File \"/usr/local/lib/python3.7/dist-packages/tensorflow/python/util/nest.py\", line 869, in map_structure\n",
      "    structure[0], [func(*x) for x in entries],  File \"/usr/local/lib/python3.7/dist-packages/tensorflow/python/util/nest.py\", line 869, in <listcomp>\n",
      "    structure[0], [func(*x) for x in entries],  File \"/usr/local/lib/python3.7/dist-packages/tensorflow_addons/seq2seq/decoder.py\", line 506, in <lambda>\n",
      "    lambda ta, out: ta.write(time, out), outputs_ta, emit  File \"/usr/local/lib/python3.7/dist-packages/tensorflow/python/util/tf_should_use.py\", line 249, in wrapped\n",
      "    error_in_function=error_in_function)\n",
      "==================================\n"
     ]
    },
    {
     "name": "stderr",
     "output_type": "stream",
     "text": [
      "Not able to transliterate रतन भगत वो गोखुल भगत\n"
     ]
    },
    {
     "name": "stdout",
     "output_type": "stream",
     "text": [
      "ERROR:tensorflow:==================================\n",
      "Object was never used (type <class 'tensorflow.python.ops.tensor_array_ops.TensorArray'>):\n",
      "<tensorflow.python.ops.tensor_array_ops.TensorArray object at 0x7f208e133290>\n",
      "If you want to mark it as used call its \"mark_used()\" method.\n",
      "It was originally created here:\n",
      "  File \"/usr/local/lib/python3.7/dist-packages/tensorflow_addons/seq2seq/decoder.py\", line 506, in body\n",
      "    lambda ta, out: ta.write(time, out), outputs_ta, emit  File \"/usr/local/lib/python3.7/dist-packages/tensorflow/python/util/nest.py\", line 869, in map_structure\n",
      "    structure[0], [func(*x) for x in entries],  File \"/usr/local/lib/python3.7/dist-packages/tensorflow/python/util/nest.py\", line 869, in <listcomp>\n",
      "    structure[0], [func(*x) for x in entries],  File \"/usr/local/lib/python3.7/dist-packages/tensorflow_addons/seq2seq/decoder.py\", line 506, in <lambda>\n",
      "    lambda ta, out: ta.write(time, out), outputs_ta, emit  File \"/usr/local/lib/python3.7/dist-packages/tensorflow/python/util/tf_should_use.py\", line 249, in wrapped\n",
      "    error_in_function=error_in_function)\n",
      "==================================\n"
     ]
    },
    {
     "name": "stderr",
     "output_type": "stream",
     "text": [
      "Not able to transliterate हिरा धोबी वो बन्शी धोबी\n"
     ]
    },
    {
     "name": "stdout",
     "output_type": "stream",
     "text": [
      "ERROR:tensorflow:==================================\n",
      "Object was never used (type <class 'tensorflow.python.ops.tensor_array_ops.TensorArray'>):\n",
      "<tensorflow.python.ops.tensor_array_ops.TensorArray object at 0x7f20cf17bb50>\n",
      "If you want to mark it as used call its \"mark_used()\" method.\n",
      "It was originally created here:\n",
      "  File \"/usr/local/lib/python3.7/dist-packages/tensorflow_addons/seq2seq/decoder.py\", line 514, in body\n",
      "    next_sequence_lengths,  File \"/usr/local/lib/python3.7/dist-packages/tensorflow/python/util/nest.py\", line 870, in map_structure\n",
      "    expand_composites=expand_composites)  File \"/usr/local/lib/python3.7/dist-packages/tensorflow/python/util/nest.py\", line 869, in <listcomp>\n",
      "    structure[0], [func(*x) for x in entries],  File \"/usr/local/lib/python3.7/dist-packages/tensorflow_addons/seq2seq/decoder.py\", line 506, in <lambda>\n",
      "    lambda ta, out: ta.write(time, out), outputs_ta, emit  File \"/usr/local/lib/python3.7/dist-packages/tensorflow/python/util/tf_should_use.py\", line 249, in wrapped\n",
      "    error_in_function=error_in_function)\n",
      "==================================\n",
      "ERROR:tensorflow:==================================\n",
      "Object was never used (type <class 'tensorflow.python.ops.tensor_array_ops.TensorArray'>):\n",
      "<tensorflow.python.ops.tensor_array_ops.TensorArray object at 0x7f20cf1e3e50>\n",
      "If you want to mark it as used call its \"mark_used()\" method.\n",
      "It was originally created here:\n",
      "  File \"/usr/local/lib/python3.7/dist-packages/tensorflow_addons/seq2seq/decoder.py\", line 514, in body\n",
      "    next_sequence_lengths,  File \"/usr/local/lib/python3.7/dist-packages/tensorflow/python/util/nest.py\", line 870, in map_structure\n",
      "    expand_composites=expand_composites)  File \"/usr/local/lib/python3.7/dist-packages/tensorflow/python/util/nest.py\", line 869, in <listcomp>\n",
      "    structure[0], [func(*x) for x in entries],  File \"/usr/local/lib/python3.7/dist-packages/tensorflow_addons/seq2seq/decoder.py\", line 506, in <lambda>\n",
      "    lambda ta, out: ta.write(time, out), outputs_ta, emit  File \"/usr/local/lib/python3.7/dist-packages/tensorflow/python/util/tf_should_use.py\", line 249, in wrapped\n",
      "    error_in_function=error_in_function)\n",
      "==================================\n"
     ]
    },
    {
     "name": "stderr",
     "output_type": "stream",
     "text": [
      "Not able to transliterate रामधारी रावत् वो बुधन रावत\n"
     ]
    },
    {
     "name": "stdout",
     "output_type": "stream",
     "text": [
      "ERROR:tensorflow:==================================\n",
      "Object was never used (type <class 'tensorflow.python.ops.tensor_array_ops.TensorArray'>):\n",
      "<tensorflow.python.ops.tensor_array_ops.TensorArray object at 0x7f208e1e0b50>\n",
      "If you want to mark it as used call its \"mark_used()\" method.\n",
      "It was originally created here:\n",
      "  File \"/usr/local/lib/python3.7/dist-packages/tensorflow_addons/seq2seq/decoder.py\", line 514, in body\n",
      "    next_sequence_lengths,  File \"/usr/local/lib/python3.7/dist-packages/tensorflow/python/util/nest.py\", line 870, in map_structure\n",
      "    expand_composites=expand_composites)  File \"/usr/local/lib/python3.7/dist-packages/tensorflow/python/util/nest.py\", line 869, in <listcomp>\n",
      "    structure[0], [func(*x) for x in entries],  File \"/usr/local/lib/python3.7/dist-packages/tensorflow_addons/seq2seq/decoder.py\", line 506, in <lambda>\n",
      "    lambda ta, out: ta.write(time, out), outputs_ta, emit  File \"/usr/local/lib/python3.7/dist-packages/tensorflow/python/util/tf_should_use.py\", line 249, in wrapped\n",
      "    error_in_function=error_in_function)\n",
      "==================================\n",
      "ERROR:tensorflow:==================================\n",
      "Object was never used (type <class 'tensorflow.python.ops.tensor_array_ops.TensorArray'>):\n",
      "<tensorflow.python.ops.tensor_array_ops.TensorArray object at 0x7f208e1396d0>\n",
      "If you want to mark it as used call its \"mark_used()\" method.\n",
      "It was originally created here:\n",
      "  File \"/usr/local/lib/python3.7/dist-packages/tensorflow_addons/seq2seq/decoder.py\", line 514, in body\n",
      "    next_sequence_lengths,  File \"/usr/local/lib/python3.7/dist-packages/tensorflow/python/util/nest.py\", line 870, in map_structure\n",
      "    expand_composites=expand_composites)  File \"/usr/local/lib/python3.7/dist-packages/tensorflow/python/util/nest.py\", line 869, in <listcomp>\n",
      "    structure[0], [func(*x) for x in entries],  File \"/usr/local/lib/python3.7/dist-packages/tensorflow_addons/seq2seq/decoder.py\", line 506, in <lambda>\n",
      "    lambda ta, out: ta.write(time, out), outputs_ta, emit  File \"/usr/local/lib/python3.7/dist-packages/tensorflow/python/util/tf_should_use.py\", line 249, in wrapped\n",
      "    error_in_function=error_in_function)\n",
      "==================================\n"
     ]
    },
    {
     "name": "stderr",
     "output_type": "stream",
     "text": [
      "Not able to transliterate जग्रनाथ भगत वो- हरिनारायण भगत\n"
     ]
    },
    {
     "name": "stdout",
     "output_type": "stream",
     "text": [
      "ERROR:tensorflow:==================================\n",
      "Object was never used (type <class 'tensorflow.python.ops.tensor_array_ops.TensorArray'>):\n",
      "<tensorflow.python.ops.tensor_array_ops.TensorArray object at 0x7f208e0fb3d0>\n",
      "If you want to mark it as used call its \"mark_used()\" method.\n",
      "It was originally created here:\n",
      "  File \"/usr/local/lib/python3.7/dist-packages/tensorflow_addons/seq2seq/decoder.py\", line 514, in body\n",
      "    next_sequence_lengths,  File \"/usr/local/lib/python3.7/dist-packages/tensorflow/python/util/nest.py\", line 870, in map_structure\n",
      "    expand_composites=expand_composites)  File \"/usr/local/lib/python3.7/dist-packages/tensorflow/python/util/nest.py\", line 869, in <listcomp>\n",
      "    structure[0], [func(*x) for x in entries],  File \"/usr/local/lib/python3.7/dist-packages/tensorflow_addons/seq2seq/decoder.py\", line 506, in <lambda>\n",
      "    lambda ta, out: ta.write(time, out), outputs_ta, emit  File \"/usr/local/lib/python3.7/dist-packages/tensorflow/python/util/tf_should_use.py\", line 249, in wrapped\n",
      "    error_in_function=error_in_function)\n",
      "==================================\n",
      "ERROR:tensorflow:==================================\n",
      "Object was never used (type <class 'tensorflow.python.ops.tensor_array_ops.TensorArray'>):\n",
      "<tensorflow.python.ops.tensor_array_ops.TensorArray object at 0x7f208e0ef110>\n",
      "If you want to mark it as used call its \"mark_used()\" method.\n",
      "It was originally created here:\n",
      "  File \"/usr/local/lib/python3.7/dist-packages/tensorflow_addons/seq2seq/decoder.py\", line 514, in body\n",
      "    next_sequence_lengths,  File \"/usr/local/lib/python3.7/dist-packages/tensorflow/python/util/nest.py\", line 870, in map_structure\n",
      "    expand_composites=expand_composites)  File \"/usr/local/lib/python3.7/dist-packages/tensorflow/python/util/nest.py\", line 869, in <listcomp>\n",
      "    structure[0], [func(*x) for x in entries],  File \"/usr/local/lib/python3.7/dist-packages/tensorflow_addons/seq2seq/decoder.py\", line 506, in <lambda>\n",
      "    lambda ta, out: ta.write(time, out), outputs_ta, emit  File \"/usr/local/lib/python3.7/dist-packages/tensorflow/python/util/tf_should_use.py\", line 249, in wrapped\n",
      "    error_in_function=error_in_function)\n",
      "==================================\n"
     ]
    },
    {
     "name": "stderr",
     "output_type": "stream",
     "text": [
      "Not able to transliterate शिवपुजन भगत वो- शिवलाल भगत\n",
      "Not able to transliterate नैपाल अहिर वो-= फौजदार अहिर\n"
     ]
    },
    {
     "name": "stdout",
     "output_type": "stream",
     "text": [
      "ERROR:tensorflow:==================================\n",
      "Object was never used (type <class 'tensorflow.python.ops.tensor_array_ops.TensorArray'>):\n",
      "<tensorflow.python.ops.tensor_array_ops.TensorArray object at 0x7f208e389390>\n",
      "If you want to mark it as used call its \"mark_used()\" method.\n",
      "It was originally created here:\n",
      "  File \"/usr/local/lib/python3.7/dist-packages/tensorflow_addons/seq2seq/decoder.py\", line 514, in body\n",
      "    next_sequence_lengths,  File \"/usr/local/lib/python3.7/dist-packages/tensorflow/python/util/nest.py\", line 870, in map_structure\n",
      "    expand_composites=expand_composites)  File \"/usr/local/lib/python3.7/dist-packages/tensorflow/python/util/nest.py\", line 869, in <listcomp>\n",
      "    structure[0], [func(*x) for x in entries],  File \"/usr/local/lib/python3.7/dist-packages/tensorflow_addons/seq2seq/decoder.py\", line 506, in <lambda>\n",
      "    lambda ta, out: ta.write(time, out), outputs_ta, emit  File \"/usr/local/lib/python3.7/dist-packages/tensorflow/python/util/tf_should_use.py\", line 249, in wrapped\n",
      "    error_in_function=error_in_function)\n",
      "==================================\n",
      "ERROR:tensorflow:==================================\n",
      "Object was never used (type <class 'tensorflow.python.ops.tensor_array_ops.TensorArray'>):\n",
      "<tensorflow.python.ops.tensor_array_ops.TensorArray object at 0x7f208df4e890>\n",
      "If you want to mark it as used call its \"mark_used()\" method.\n",
      "It was originally created here:\n",
      "  File \"/usr/local/lib/python3.7/dist-packages/tensorflow_addons/seq2seq/decoder.py\", line 514, in body\n",
      "    next_sequence_lengths,  File \"/usr/local/lib/python3.7/dist-packages/tensorflow/python/util/nest.py\", line 870, in map_structure\n",
      "    expand_composites=expand_composites)  File \"/usr/local/lib/python3.7/dist-packages/tensorflow/python/util/nest.py\", line 869, in <listcomp>\n",
      "    structure[0], [func(*x) for x in entries],  File \"/usr/local/lib/python3.7/dist-packages/tensorflow_addons/seq2seq/decoder.py\", line 506, in <lambda>\n",
      "    lambda ta, out: ta.write(time, out), outputs_ta, emit  File \"/usr/local/lib/python3.7/dist-packages/tensorflow/python/util/tf_should_use.py\", line 249, in wrapped\n",
      "    error_in_function=error_in_function)\n",
      "==================================\n"
     ]
    },
    {
     "name": "stderr",
     "output_type": "stream",
     "text": [
      "Not able to transliterate राधेश्याम भगत वो- धनशयाम भगत\n"
     ]
    },
    {
     "name": "stdout",
     "output_type": "stream",
     "text": [
      "ERROR:tensorflow:==================================\n",
      "Object was never used (type <class 'tensorflow.python.ops.tensor_array_ops.TensorArray'>):\n",
      "<tensorflow.python.ops.tensor_array_ops.TensorArray object at 0x7f208e3893d0>\n",
      "If you want to mark it as used call its \"mark_used()\" method.\n",
      "It was originally created here:\n",
      "  File \"/usr/local/lib/python3.7/dist-packages/tensorflow_addons/seq2seq/decoder.py\", line 514, in body\n",
      "    next_sequence_lengths,  File \"/usr/local/lib/python3.7/dist-packages/tensorflow/python/util/nest.py\", line 870, in map_structure\n",
      "    expand_composites=expand_composites)  File \"/usr/local/lib/python3.7/dist-packages/tensorflow/python/util/nest.py\", line 869, in <listcomp>\n",
      "    structure[0], [func(*x) for x in entries],  File \"/usr/local/lib/python3.7/dist-packages/tensorflow_addons/seq2seq/decoder.py\", line 506, in <lambda>\n",
      "    lambda ta, out: ta.write(time, out), outputs_ta, emit  File \"/usr/local/lib/python3.7/dist-packages/tensorflow/python/util/tf_should_use.py\", line 249, in wrapped\n",
      "    error_in_function=error_in_function)\n",
      "==================================\n",
      "ERROR:tensorflow:==================================\n",
      "Object was never used (type <class 'tensorflow.python.ops.tensor_array_ops.TensorArray'>):\n",
      "<tensorflow.python.ops.tensor_array_ops.TensorArray object at 0x7f208e104d10>\n",
      "If you want to mark it as used call its \"mark_used()\" method.\n",
      "It was originally created here:\n",
      "  File \"/usr/local/lib/python3.7/dist-packages/tensorflow_addons/seq2seq/decoder.py\", line 514, in body\n",
      "    next_sequence_lengths,  File \"/usr/local/lib/python3.7/dist-packages/tensorflow/python/util/nest.py\", line 870, in map_structure\n",
      "    expand_composites=expand_composites)  File \"/usr/local/lib/python3.7/dist-packages/tensorflow/python/util/nest.py\", line 869, in <listcomp>\n",
      "    structure[0], [func(*x) for x in entries],  File \"/usr/local/lib/python3.7/dist-packages/tensorflow_addons/seq2seq/decoder.py\", line 506, in <lambda>\n",
      "    lambda ta, out: ta.write(time, out), outputs_ta, emit  File \"/usr/local/lib/python3.7/dist-packages/tensorflow/python/util/tf_should_use.py\", line 249, in wrapped\n",
      "    error_in_function=error_in_function)\n",
      "==================================\n"
     ]
    },
    {
     "name": "stderr",
     "output_type": "stream",
     "text": [
      "Not able to transliterate जैकिशुन भगत वो- हरिनारायण भगत\n"
     ]
    },
    {
     "name": "stdout",
     "output_type": "stream",
     "text": [
      "ERROR:tensorflow:==================================\n",
      "Object was never used (type <class 'tensorflow.python.ops.tensor_array_ops.TensorArray'>):\n",
      "<tensorflow.python.ops.tensor_array_ops.TensorArray object at 0x7f20cf1c9d90>\n",
      "If you want to mark it as used call its \"mark_used()\" method.\n",
      "It was originally created here:\n",
      "  File \"/usr/local/lib/python3.7/dist-packages/tensorflow_addons/seq2seq/decoder.py\", line 509, in body\n",
      "    time + 1,  File \"/usr/local/lib/python3.7/dist-packages/tensorflow/python/util/nest.py\", line 870, in map_structure\n",
      "    expand_composites=expand_composites)  File \"/usr/local/lib/python3.7/dist-packages/tensorflow/python/util/nest.py\", line 869, in <listcomp>\n",
      "    structure[0], [func(*x) for x in entries],  File \"/usr/local/lib/python3.7/dist-packages/tensorflow_addons/seq2seq/decoder.py\", line 506, in <lambda>\n",
      "    lambda ta, out: ta.write(time, out), outputs_ta, emit  File \"/usr/local/lib/python3.7/dist-packages/tensorflow/python/util/tf_should_use.py\", line 249, in wrapped\n",
      "    error_in_function=error_in_function)\n",
      "==================================\n",
      "ERROR:tensorflow:==================================\n",
      "Object was never used (type <class 'tensorflow.python.ops.tensor_array_ops.TensorArray'>):\n",
      "<tensorflow.python.ops.tensor_array_ops.TensorArray object at 0x7f20cf1cc710>\n",
      "If you want to mark it as used call its \"mark_used()\" method.\n",
      "It was originally created here:\n",
      "  File \"/usr/local/lib/python3.7/dist-packages/tensorflow_addons/seq2seq/decoder.py\", line 509, in body\n",
      "    time + 1,  File \"/usr/local/lib/python3.7/dist-packages/tensorflow/python/util/nest.py\", line 870, in map_structure\n",
      "    expand_composites=expand_composites)  File \"/usr/local/lib/python3.7/dist-packages/tensorflow/python/util/nest.py\", line 869, in <listcomp>\n",
      "    structure[0], [func(*x) for x in entries],  File \"/usr/local/lib/python3.7/dist-packages/tensorflow_addons/seq2seq/decoder.py\", line 506, in <lambda>\n",
      "    lambda ta, out: ta.write(time, out), outputs_ta, emit  File \"/usr/local/lib/python3.7/dist-packages/tensorflow/python/util/tf_should_use.py\", line 249, in wrapped\n",
      "    error_in_function=error_in_function)\n",
      "==================================\n"
     ]
    }
   ],
   "source": [
    "count = 0\n",
    "for index, row in data.iterrows():\n",
    "  if count == 0:\n",
    "    conv_rows = {\n",
    "        'name': [],\n",
    "        'english': [],\n",
    "        'muslim': []\n",
    "    }\n",
    "  if row['name'] in converted.name.values:\n",
    "    continue\n",
    "  english = \"\"\n",
    "  try:\n",
    "    english = transliterate.hindi2english(row[\"name\"])\n",
    "  except Exception:\n",
    "    pass\n",
    "  conv_rows[\"english\"].append(english)\n",
    "  conv_rows[\"name\"].append(row[\"name\"])\n",
    "  conv_rows[\"muslim\"].append(row[\"muslim\"])\n",
    "  count += 1\n",
    "  if count >= 1000:\n",
    "    count = 0\n",
    "    print(f\"finished {index} records\")\n",
    "    temp = pd.DataFrame(conv_rows)\n",
    "    converted = converted.append(temp, ignore_index=True)\n",
    "    converted.to_csv(\"data/converted.csv\", index=False)\n",
    "\n",
    "# To save remaining rows\n",
    "converted.to_csv(\"data/converted.csv\", index=False)"
   ]
  },
  {
   "cell_type": "code",
   "execution_count": null,
   "metadata": {
    "id": "9fMF70v4FWfJ"
   },
   "outputs": [],
   "source": [
    "Test"
   ]
  }
 ],
 "metadata": {
  "accelerator": "GPU",
  "colab": {
   "authorship_tag": "ABX9TyNtsxEwC2q8uWp0lKiJyecz",
   "background_execution": "on",
   "collapsed_sections": [],
   "machine_shape": "hm",
   "mount_file_id": "1nhRXvT6pq8HX4uEZuSkxEbzFBWCEK-Fj",
   "name": "transliterate.ipynb",
   "provenance": []
  },
  "kernelspec": {
   "display_name": "Python 3",
   "name": "python3"
  },
  "language_info": {
   "name": "python"
  }
 },
 "nbformat": 4,
 "nbformat_minor": 0
}