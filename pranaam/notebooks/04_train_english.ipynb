{
 "cells": [
  {
   "cell_type": "code",
   "execution_count": null,
   "metadata": {
    "colab": {
     "base_uri": "https://localhost:8080/"
    },
    "executionInfo": {
     "elapsed": 540,
     "status": "ok",
     "timestamp": 1643073988734,
     "user": {
      "displayName": "Rajashekar Chintalapati",
      "photoUrl": "https://lh3.googleusercontent.com/a-/AOh14GhvaKS4oQw2sBCyEe0cxq9rGBNCg4w2UoWOgVaD660=s64",
      "userId": "03596288833202137831"
     },
     "user_tz": 480
    },
    "id": "n0B8Mlj-nEm-",
    "outputId": "61bd0d8c-07de-4a80-ff5a-6dd7965ce863"
   },
   "outputs": [
    {
     "name": "stdout",
     "output_type": "stream",
     "text": [
      "/content/drive/MyDrive/Colab/islampy\n"
     ]
    }
   ],
   "source": [
    "%cd /content/drive/MyDrive/Colab/islampy/"
   ]
  },
  {
   "cell_type": "code",
   "execution_count": null,
   "metadata": {
    "id": "YiK1aINz2psV"
   },
   "outputs": [],
   "source": [
    "import matplotlib.pyplot as plt\n",
    "import pandas as pd\n",
    "import tensorflow as tf\n",
    "from sklearn.model_selection import train_test_split"
   ]
  },
  {
   "cell_type": "markdown",
   "metadata": {
    "id": "Defdt9084Hnl"
   },
   "source": [
    "# Load Data"
   ]
  },
  {
   "cell_type": "code",
   "execution_count": null,
   "metadata": {
    "id": "NjMdC1722xOw"
   },
   "outputs": [],
   "source": [
    "data = pd.read_csv('data/converted.csv')"
   ]
  },
  {
   "cell_type": "code",
   "execution_count": null,
   "metadata": {
    "colab": {
     "base_uri": "https://localhost:8080/",
     "height": 206
    },
    "executionInfo": {
     "elapsed": 691,
     "status": "ok",
     "timestamp": 1643073998800,
     "user": {
      "displayName": "Rajashekar Chintalapati",
      "photoUrl": "https://lh3.googleusercontent.com/a-/AOh14GhvaKS4oQw2sBCyEe0cxq9rGBNCg4w2UoWOgVaD660=s64",
      "userId": "03596288833202137831"
     },
     "user_tz": 480
    },
    "id": "VlD2TRI32xog",
    "outputId": "87ddbc89-579d-45ca-a47c-c1ad647b3c15"
   },
   "outputs": [
    {
     "data": {
      "text/html": [
       "\n",
       "  <div id=\"df-86479890-2575-4de8-abbd-d8ac96c781c2\">\n",
       "    <div class=\"colab-df-container\">\n",
       "      <div>\n",
       "<style scoped>\n",
       "    .dataframe tbody tr th:only-of-type {\n",
       "        vertical-align: middle;\n",
       "    }\n",
       "\n",
       "    .dataframe tbody tr th {\n",
       "        vertical-align: top;\n",
       "    }\n",
       "\n",
       "    .dataframe thead th {\n",
       "        text-align: right;\n",
       "    }\n",
       "</style>\n",
       "<table border=\"1\" class=\"dataframe\">\n",
       "  <thead>\n",
       "    <tr style=\"text-align: right;\">\n",
       "      <th></th>\n",
       "      <th>name</th>\n",
       "      <th>english</th>\n",
       "      <th>muslim</th>\n",
       "    </tr>\n",
       "  </thead>\n",
       "  <tbody>\n",
       "    <tr>\n",
       "      <th>0</th>\n",
       "      <td>कृष्णमनी झा</td>\n",
       "      <td>krishnamani jha</td>\n",
       "      <td>0.0</td>\n",
       "    </tr>\n",
       "    <tr>\n",
       "      <th>1</th>\n",
       "      <td>पति परमानन्द मंडल</td>\n",
       "      <td>pathi paramananda mandal</td>\n",
       "      <td>0.0</td>\n",
       "    </tr>\n",
       "    <tr>\n",
       "      <th>2</th>\n",
       "      <td>डोमन मंडल</td>\n",
       "      <td>doman mandal</td>\n",
       "      <td>0.0</td>\n",
       "    </tr>\n",
       "    <tr>\n",
       "      <th>3</th>\n",
       "      <td>गुनानन्द झा</td>\n",
       "      <td>gunanda jha</td>\n",
       "      <td>0.0</td>\n",
       "    </tr>\n",
       "    <tr>\n",
       "      <th>4</th>\n",
       "      <td>मुकुन्द लाल झा</td>\n",
       "      <td>mukunda lal jha</td>\n",
       "      <td>0.0</td>\n",
       "    </tr>\n",
       "  </tbody>\n",
       "</table>\n",
       "</div>\n",
       "      <button class=\"colab-df-convert\" onclick=\"convertToInteractive('df-86479890-2575-4de8-abbd-d8ac96c781c2')\"\n",
       "              title=\"Convert this dataframe to an interactive table.\"\n",
       "              style=\"display:none;\">\n",
       "        \n",
       "  <svg xmlns=\"http://www.w3.org/2000/svg\" height=\"24px\"viewBox=\"0 0 24 24\"\n",
       "       width=\"24px\">\n",
       "    <path d=\"M0 0h24v24H0V0z\" fill=\"none\"/>\n",
       "    <path d=\"M18.56 5.44l.94 2.06.94-2.06 2.06-.94-2.06-.94-.94-2.06-.94 2.06-2.06.94zm-11 1L8.5 8.5l.94-2.06 2.06-.94-2.06-.94L8.5 2.5l-.94 2.06-2.06.94zm10 10l.94 2.06.94-2.06 2.06-.94-2.06-.94-.94-2.06-.94 2.06-2.06.94z\"/><path d=\"M17.41 7.96l-1.37-1.37c-.4-.4-.92-.59-1.43-.59-.52 0-1.04.2-1.43.59L10.3 9.45l-7.72 7.72c-.78.78-.78 2.05 0 2.83L4 21.41c.39.39.9.59 1.41.59.51 0 1.02-.2 1.41-.59l7.78-7.78 2.81-2.81c.8-.78.8-2.07 0-2.86zM5.41 20L4 18.59l7.72-7.72 1.47 1.35L5.41 20z\"/>\n",
       "  </svg>\n",
       "      </button>\n",
       "      \n",
       "  <style>\n",
       "    .colab-df-container {\n",
       "      display:flex;\n",
       "      flex-wrap:wrap;\n",
       "      gap: 12px;\n",
       "    }\n",
       "\n",
       "    .colab-df-convert {\n",
       "      background-color: #E8F0FE;\n",
       "      border: none;\n",
       "      border-radius: 50%;\n",
       "      cursor: pointer;\n",
       "      display: none;\n",
       "      fill: #1967D2;\n",
       "      height: 32px;\n",
       "      padding: 0 0 0 0;\n",
       "      width: 32px;\n",
       "    }\n",
       "\n",
       "    .colab-df-convert:hover {\n",
       "      background-color: #E2EBFA;\n",
       "      box-shadow: 0px 1px 2px rgba(60, 64, 67, 0.3), 0px 1px 3px 1px rgba(60, 64, 67, 0.15);\n",
       "      fill: #174EA6;\n",
       "    }\n",
       "\n",
       "    [theme=dark] .colab-df-convert {\n",
       "      background-color: #3B4455;\n",
       "      fill: #D2E3FC;\n",
       "    }\n",
       "\n",
       "    [theme=dark] .colab-df-convert:hover {\n",
       "      background-color: #434B5C;\n",
       "      box-shadow: 0px 1px 3px 1px rgba(0, 0, 0, 0.15);\n",
       "      filter: drop-shadow(0px 1px 2px rgba(0, 0, 0, 0.3));\n",
       "      fill: #FFFFFF;\n",
       "    }\n",
       "  </style>\n",
       "\n",
       "      <script>\n",
       "        const buttonEl =\n",
       "          document.querySelector('#df-86479890-2575-4de8-abbd-d8ac96c781c2 button.colab-df-convert');\n",
       "        buttonEl.style.display =\n",
       "          google.colab.kernel.accessAllowed ? 'block' : 'none';\n",
       "\n",
       "        async function convertToInteractive(key) {\n",
       "          const element = document.querySelector('#df-86479890-2575-4de8-abbd-d8ac96c781c2');\n",
       "          const dataTable =\n",
       "            await google.colab.kernel.invokeFunction('convertToInteractive',\n",
       "                                                     [key], {});\n",
       "          if (!dataTable) return;\n",
       "\n",
       "          const docLinkHtml = 'Like what you see? Visit the ' +\n",
       "            '<a target=\"_blank\" href=https://colab.research.google.com/notebooks/data_table.ipynb>data table notebook</a>'\n",
       "            + ' to learn more about interactive tables.';\n",
       "          element.innerHTML = '';\n",
       "          dataTable['output_type'] = 'display_data';\n",
       "          await google.colab.output.renderOutput(dataTable, element);\n",
       "          const docLink = document.createElement('div');\n",
       "          docLink.innerHTML = docLinkHtml;\n",
       "          element.appendChild(docLink);\n",
       "        }\n",
       "      </script>\n",
       "    </div>\n",
       "  </div>\n",
       "  "
      ],
      "text/plain": [
       "                name                   english  muslim\n",
       "0        कृष्णमनी झा           krishnamani jha     0.0\n",
       "1  पति परमानन्द मंडल  pathi paramananda mandal     0.0\n",
       "2          डोमन मंडल              doman mandal     0.0\n",
       "3        गुनानन्द झा               gunanda jha     0.0\n",
       "4     मुकुन्द लाल झा           mukunda lal jha     0.0"
      ]
     },
     "execution_count": 11,
     "metadata": {},
     "output_type": "execute_result"
    }
   ],
   "source": [
    "data.head()"
   ]
  },
  {
   "cell_type": "code",
   "execution_count": null,
   "metadata": {
    "colab": {
     "base_uri": "https://localhost:8080/"
    },
    "executionInfo": {
     "elapsed": 30,
     "status": "ok",
     "timestamp": 1643073998800,
     "user": {
      "displayName": "Rajashekar Chintalapati",
      "photoUrl": "https://lh3.googleusercontent.com/a-/AOh14GhvaKS4oQw2sBCyEe0cxq9rGBNCg4w2UoWOgVaD660=s64",
      "userId": "03596288833202137831"
     },
     "user_tz": 480
    },
    "id": "tQipEKd324Cy",
    "outputId": "d15a1c36-0949-453e-fbf6-0a87cb3d0573"
   },
   "outputs": [
    {
     "data": {
      "text/plain": [
       "(2325305, 3)"
      ]
     },
     "execution_count": 12,
     "metadata": {},
     "output_type": "execute_result"
    }
   ],
   "source": [
    "data.shape"
   ]
  },
  {
   "cell_type": "code",
   "execution_count": null,
   "metadata": {
    "id": "flXkerhWX2Mr"
   },
   "outputs": [],
   "source": [
    "# Drop nan values\n",
    "data = data.dropna(axis=0)"
   ]
  },
  {
   "cell_type": "code",
   "execution_count": null,
   "metadata": {
    "id": "ZI_YKEtQZ0o2"
   },
   "outputs": [],
   "source": [
    "# Drop any names that are more than 50 chars.\n",
    "data = data.drop(data[data.english.str.len() > 50].index)"
   ]
  },
  {
   "cell_type": "code",
   "execution_count": null,
   "metadata": {
    "colab": {
     "base_uri": "https://localhost:8080/"
    },
    "executionInfo": {
     "elapsed": 603,
     "status": "ok",
     "timestamp": 1643074001260,
     "user": {
      "displayName": "Rajashekar Chintalapati",
      "photoUrl": "https://lh3.googleusercontent.com/a-/AOh14GhvaKS4oQw2sBCyEe0cxq9rGBNCg4w2UoWOgVaD660=s64",
      "userId": "03596288833202137831"
     },
     "user_tz": 480
    },
    "id": "yGtlfQZ5bHsj",
    "outputId": "5c2618a9-bafb-415a-8cc9-8d3bc115120d"
   },
   "outputs": [
    {
     "data": {
      "text/plain": [
       "50"
      ]
     },
     "execution_count": 15,
     "metadata": {},
     "output_type": "execute_result"
    }
   ],
   "source": [
    "data['english'].str.len().max()"
   ]
  },
  {
   "cell_type": "code",
   "execution_count": null,
   "metadata": {
    "colab": {
     "base_uri": "https://localhost:8080/"
    },
    "executionInfo": {
     "elapsed": 6,
     "status": "ok",
     "timestamp": 1643074001260,
     "user": {
      "displayName": "Rajashekar Chintalapati",
      "photoUrl": "https://lh3.googleusercontent.com/a-/AOh14GhvaKS4oQw2sBCyEe0cxq9rGBNCg4w2UoWOgVaD660=s64",
      "userId": "03596288833202137831"
     },
     "user_tz": 480
    },
    "id": "T4GZrzru1fSZ",
    "outputId": "ab9e59af-6488-4651-cc3f-7630cc424729"
   },
   "outputs": [
    {
     "data": {
      "text/plain": [
       "(2300828, 3)"
      ]
     },
     "execution_count": 16,
     "metadata": {},
     "output_type": "execute_result"
    }
   ],
   "source": [
    "data.shape"
   ]
  },
  {
   "cell_type": "code",
   "execution_count": null,
   "metadata": {
    "colab": {
     "base_uri": "https://localhost:8080/",
     "height": 175
    },
    "executionInfo": {
     "elapsed": 561,
     "status": "ok",
     "timestamp": 1643074001818,
     "user": {
      "displayName": "Rajashekar Chintalapati",
      "photoUrl": "https://lh3.googleusercontent.com/a-/AOh14GhvaKS4oQw2sBCyEe0cxq9rGBNCg4w2UoWOgVaD660=s64",
      "userId": "03596288833202137831"
     },
     "user_tz": 480
    },
    "id": "Bw7vfsXG2BD7",
    "outputId": "e38ddda0-9ede-442f-80de-bf56d9e7a986"
   },
   "outputs": [
    {
     "data": {
      "text/html": [
       "\n",
       "  <div id=\"df-01fde682-cef8-4228-96cb-5188dfb15f2f\">\n",
       "    <div class=\"colab-df-container\">\n",
       "      <div>\n",
       "<style scoped>\n",
       "    .dataframe tbody tr th:only-of-type {\n",
       "        vertical-align: middle;\n",
       "    }\n",
       "\n",
       "    .dataframe tbody tr th {\n",
       "        vertical-align: top;\n",
       "    }\n",
       "\n",
       "    .dataframe thead th {\n",
       "        text-align: right;\n",
       "    }\n",
       "</style>\n",
       "<table border=\"1\" class=\"dataframe\">\n",
       "  <thead>\n",
       "    <tr style=\"text-align: right;\">\n",
       "      <th></th>\n",
       "      <th>name</th>\n",
       "      <th>english</th>\n",
       "    </tr>\n",
       "    <tr>\n",
       "      <th>muslim</th>\n",
       "      <th></th>\n",
       "      <th></th>\n",
       "    </tr>\n",
       "  </thead>\n",
       "  <tbody>\n",
       "    <tr>\n",
       "      <th>0.0</th>\n",
       "      <td>1974301</td>\n",
       "      <td>1974301</td>\n",
       "    </tr>\n",
       "    <tr>\n",
       "      <th>1.0</th>\n",
       "      <td>259939</td>\n",
       "      <td>259939</td>\n",
       "    </tr>\n",
       "    <tr>\n",
       "      <th>9.0</th>\n",
       "      <td>66588</td>\n",
       "      <td>66588</td>\n",
       "    </tr>\n",
       "  </tbody>\n",
       "</table>\n",
       "</div>\n",
       "      <button class=\"colab-df-convert\" onclick=\"convertToInteractive('df-01fde682-cef8-4228-96cb-5188dfb15f2f')\"\n",
       "              title=\"Convert this dataframe to an interactive table.\"\n",
       "              style=\"display:none;\">\n",
       "        \n",
       "  <svg xmlns=\"http://www.w3.org/2000/svg\" height=\"24px\"viewBox=\"0 0 24 24\"\n",
       "       width=\"24px\">\n",
       "    <path d=\"M0 0h24v24H0V0z\" fill=\"none\"/>\n",
       "    <path d=\"M18.56 5.44l.94 2.06.94-2.06 2.06-.94-2.06-.94-.94-2.06-.94 2.06-2.06.94zm-11 1L8.5 8.5l.94-2.06 2.06-.94-2.06-.94L8.5 2.5l-.94 2.06-2.06.94zm10 10l.94 2.06.94-2.06 2.06-.94-2.06-.94-.94-2.06-.94 2.06-2.06.94z\"/><path d=\"M17.41 7.96l-1.37-1.37c-.4-.4-.92-.59-1.43-.59-.52 0-1.04.2-1.43.59L10.3 9.45l-7.72 7.72c-.78.78-.78 2.05 0 2.83L4 21.41c.39.39.9.59 1.41.59.51 0 1.02-.2 1.41-.59l7.78-7.78 2.81-2.81c.8-.78.8-2.07 0-2.86zM5.41 20L4 18.59l7.72-7.72 1.47 1.35L5.41 20z\"/>\n",
       "  </svg>\n",
       "      </button>\n",
       "      \n",
       "  <style>\n",
       "    .colab-df-container {\n",
       "      display:flex;\n",
       "      flex-wrap:wrap;\n",
       "      gap: 12px;\n",
       "    }\n",
       "\n",
       "    .colab-df-convert {\n",
       "      background-color: #E8F0FE;\n",
       "      border: none;\n",
       "      border-radius: 50%;\n",
       "      cursor: pointer;\n",
       "      display: none;\n",
       "      fill: #1967D2;\n",
       "      height: 32px;\n",
       "      padding: 0 0 0 0;\n",
       "      width: 32px;\n",
       "    }\n",
       "\n",
       "    .colab-df-convert:hover {\n",
       "      background-color: #E2EBFA;\n",
       "      box-shadow: 0px 1px 2px rgba(60, 64, 67, 0.3), 0px 1px 3px 1px rgba(60, 64, 67, 0.15);\n",
       "      fill: #174EA6;\n",
       "    }\n",
       "\n",
       "    [theme=dark] .colab-df-convert {\n",
       "      background-color: #3B4455;\n",
       "      fill: #D2E3FC;\n",
       "    }\n",
       "\n",
       "    [theme=dark] .colab-df-convert:hover {\n",
       "      background-color: #434B5C;\n",
       "      box-shadow: 0px 1px 3px 1px rgba(0, 0, 0, 0.15);\n",
       "      filter: drop-shadow(0px 1px 2px rgba(0, 0, 0, 0.3));\n",
       "      fill: #FFFFFF;\n",
       "    }\n",
       "  </style>\n",
       "\n",
       "      <script>\n",
       "        const buttonEl =\n",
       "          document.querySelector('#df-01fde682-cef8-4228-96cb-5188dfb15f2f button.colab-df-convert');\n",
       "        buttonEl.style.display =\n",
       "          google.colab.kernel.accessAllowed ? 'block' : 'none';\n",
       "\n",
       "        async function convertToInteractive(key) {\n",
       "          const element = document.querySelector('#df-01fde682-cef8-4228-96cb-5188dfb15f2f');\n",
       "          const dataTable =\n",
       "            await google.colab.kernel.invokeFunction('convertToInteractive',\n",
       "                                                     [key], {});\n",
       "          if (!dataTable) return;\n",
       "\n",
       "          const docLinkHtml = 'Like what you see? Visit the ' +\n",
       "            '<a target=\"_blank\" href=https://colab.research.google.com/notebooks/data_table.ipynb>data table notebook</a>'\n",
       "            + ' to learn more about interactive tables.';\n",
       "          element.innerHTML = '';\n",
       "          dataTable['output_type'] = 'display_data';\n",
       "          await google.colab.output.renderOutput(dataTable, element);\n",
       "          const docLink = document.createElement('div');\n",
       "          docLink.innerHTML = docLinkHtml;\n",
       "          element.appendChild(docLink);\n",
       "        }\n",
       "      </script>\n",
       "    </div>\n",
       "  </div>\n",
       "  "
      ],
      "text/plain": [
       "           name  english\n",
       "muslim                  \n",
       "0.0     1974301  1974301\n",
       "1.0      259939   259939\n",
       "9.0       66588    66588"
      ]
     },
     "execution_count": 17,
     "metadata": {},
     "output_type": "execute_result"
    }
   ],
   "source": [
    "data.groupby('muslim').count()"
   ]
  },
  {
   "cell_type": "code",
   "execution_count": null,
   "metadata": {
    "colab": {
     "base_uri": "https://localhost:8080/",
     "height": 424
    },
    "executionInfo": {
     "elapsed": 8,
     "status": "ok",
     "timestamp": 1643074001819,
     "user": {
      "displayName": "Rajashekar Chintalapati",
      "photoUrl": "https://lh3.googleusercontent.com/a-/AOh14GhvaKS4oQw2sBCyEe0cxq9rGBNCg4w2UoWOgVaD660=s64",
      "userId": "03596288833202137831"
     },
     "user_tz": 480
    },
    "id": "KtejHGPU2U0B",
    "outputId": "252f8697-1370-489c-9a43-7110e9257e9a"
   },
   "outputs": [
    {
     "data": {
      "text/html": [
       "\n",
       "  <div id=\"df-371fff94-52e5-4878-9c1b-3e39db123d1a\">\n",
       "    <div class=\"colab-df-container\">\n",
       "      <div>\n",
       "<style scoped>\n",
       "    .dataframe tbody tr th:only-of-type {\n",
       "        vertical-align: middle;\n",
       "    }\n",
       "\n",
       "    .dataframe tbody tr th {\n",
       "        vertical-align: top;\n",
       "    }\n",
       "\n",
       "    .dataframe thead th {\n",
       "        text-align: right;\n",
       "    }\n",
       "</style>\n",
       "<table border=\"1\" class=\"dataframe\">\n",
       "  <thead>\n",
       "    <tr style=\"text-align: right;\">\n",
       "      <th></th>\n",
       "      <th>name</th>\n",
       "      <th>english</th>\n",
       "      <th>muslim</th>\n",
       "    </tr>\n",
       "  </thead>\n",
       "  <tbody>\n",
       "    <tr>\n",
       "      <th>131</th>\n",
       "      <td>ज्ञानी साहु</td>\n",
       "      <td>gnani sahu</td>\n",
       "      <td>9.0</td>\n",
       "    </tr>\n",
       "    <tr>\n",
       "      <th>220</th>\n",
       "      <td>जसरथ साह</td>\n",
       "      <td>jasrath sah</td>\n",
       "      <td>9.0</td>\n",
       "    </tr>\n",
       "    <tr>\n",
       "      <th>223</th>\n",
       "      <td>नसरत साह</td>\n",
       "      <td>nasarat sah</td>\n",
       "      <td>9.0</td>\n",
       "    </tr>\n",
       "    <tr>\n",
       "      <th>463</th>\n",
       "      <td>ठीठरु साह</td>\n",
       "      <td>thitharu sah</td>\n",
       "      <td>9.0</td>\n",
       "    </tr>\n",
       "    <tr>\n",
       "      <th>514</th>\n",
       "      <td>बगघु साह</td>\n",
       "      <td>bagaghu sah</td>\n",
       "      <td>9.0</td>\n",
       "    </tr>\n",
       "    <tr>\n",
       "      <th>...</th>\n",
       "      <td>...</td>\n",
       "      <td>...</td>\n",
       "      <td>...</td>\n",
       "    </tr>\n",
       "    <tr>\n",
       "      <th>2226175</th>\n",
       "      <td>राजकुमार साव वगैरह</td>\n",
       "      <td>rajkumar sawagarh</td>\n",
       "      <td>9.0</td>\n",
       "    </tr>\n",
       "    <tr>\n",
       "      <th>2226196</th>\n",
       "      <td>राम कुमार साव वगैरह</td>\n",
       "      <td>ram kumar sawagairah</td>\n",
       "      <td>9.0</td>\n",
       "    </tr>\n",
       "    <tr>\n",
       "      <th>2226223</th>\n",
       "      <td>मीना देबी,</td>\n",
       "      <td>meena debi</td>\n",
       "      <td>9.0</td>\n",
       "    </tr>\n",
       "    <tr>\n",
       "      <th>2226284</th>\n",
       "      <td>दशरथ मोदी व दीनानाथ मोदी</td>\n",
       "      <td>dasarath modi v deenanath v d</td>\n",
       "      <td>9.0</td>\n",
       "    </tr>\n",
       "    <tr>\n",
       "      <th>2226297</th>\n",
       "      <td>अशोक साव व धनेश्‍वर साव</td>\n",
       "      <td>ashok saw v w v v v v dhaneswar saw</td>\n",
       "      <td>9.0</td>\n",
       "    </tr>\n",
       "  </tbody>\n",
       "</table>\n",
       "<p>66588 rows × 3 columns</p>\n",
       "</div>\n",
       "      <button class=\"colab-df-convert\" onclick=\"convertToInteractive('df-371fff94-52e5-4878-9c1b-3e39db123d1a')\"\n",
       "              title=\"Convert this dataframe to an interactive table.\"\n",
       "              style=\"display:none;\">\n",
       "        \n",
       "  <svg xmlns=\"http://www.w3.org/2000/svg\" height=\"24px\"viewBox=\"0 0 24 24\"\n",
       "       width=\"24px\">\n",
       "    <path d=\"M0 0h24v24H0V0z\" fill=\"none\"/>\n",
       "    <path d=\"M18.56 5.44l.94 2.06.94-2.06 2.06-.94-2.06-.94-.94-2.06-.94 2.06-2.06.94zm-11 1L8.5 8.5l.94-2.06 2.06-.94-2.06-.94L8.5 2.5l-.94 2.06-2.06.94zm10 10l.94 2.06.94-2.06 2.06-.94-2.06-.94-.94-2.06-.94 2.06-2.06.94z\"/><path d=\"M17.41 7.96l-1.37-1.37c-.4-.4-.92-.59-1.43-.59-.52 0-1.04.2-1.43.59L10.3 9.45l-7.72 7.72c-.78.78-.78 2.05 0 2.83L4 21.41c.39.39.9.59 1.41.59.51 0 1.02-.2 1.41-.59l7.78-7.78 2.81-2.81c.8-.78.8-2.07 0-2.86zM5.41 20L4 18.59l7.72-7.72 1.47 1.35L5.41 20z\"/>\n",
       "  </svg>\n",
       "      </button>\n",
       "      \n",
       "  <style>\n",
       "    .colab-df-container {\n",
       "      display:flex;\n",
       "      flex-wrap:wrap;\n",
       "      gap: 12px;\n",
       "    }\n",
       "\n",
       "    .colab-df-convert {\n",
       "      background-color: #E8F0FE;\n",
       "      border: none;\n",
       "      border-radius: 50%;\n",
       "      cursor: pointer;\n",
       "      display: none;\n",
       "      fill: #1967D2;\n",
       "      height: 32px;\n",
       "      padding: 0 0 0 0;\n",
       "      width: 32px;\n",
       "    }\n",
       "\n",
       "    .colab-df-convert:hover {\n",
       "      background-color: #E2EBFA;\n",
       "      box-shadow: 0px 1px 2px rgba(60, 64, 67, 0.3), 0px 1px 3px 1px rgba(60, 64, 67, 0.15);\n",
       "      fill: #174EA6;\n",
       "    }\n",
       "\n",
       "    [theme=dark] .colab-df-convert {\n",
       "      background-color: #3B4455;\n",
       "      fill: #D2E3FC;\n",
       "    }\n",
       "\n",
       "    [theme=dark] .colab-df-convert:hover {\n",
       "      background-color: #434B5C;\n",
       "      box-shadow: 0px 1px 3px 1px rgba(0, 0, 0, 0.15);\n",
       "      filter: drop-shadow(0px 1px 2px rgba(0, 0, 0, 0.3));\n",
       "      fill: #FFFFFF;\n",
       "    }\n",
       "  </style>\n",
       "\n",
       "      <script>\n",
       "        const buttonEl =\n",
       "          document.querySelector('#df-371fff94-52e5-4878-9c1b-3e39db123d1a button.colab-df-convert');\n",
       "        buttonEl.style.display =\n",
       "          google.colab.kernel.accessAllowed ? 'block' : 'none';\n",
       "\n",
       "        async function convertToInteractive(key) {\n",
       "          const element = document.querySelector('#df-371fff94-52e5-4878-9c1b-3e39db123d1a');\n",
       "          const dataTable =\n",
       "            await google.colab.kernel.invokeFunction('convertToInteractive',\n",
       "                                                     [key], {});\n",
       "          if (!dataTable) return;\n",
       "\n",
       "          const docLinkHtml = 'Like what you see? Visit the ' +\n",
       "            '<a target=\"_blank\" href=https://colab.research.google.com/notebooks/data_table.ipynb>data table notebook</a>'\n",
       "            + ' to learn more about interactive tables.';\n",
       "          element.innerHTML = '';\n",
       "          dataTable['output_type'] = 'display_data';\n",
       "          await google.colab.output.renderOutput(dataTable, element);\n",
       "          const docLink = document.createElement('div');\n",
       "          docLink.innerHTML = docLinkHtml;\n",
       "          element.appendChild(docLink);\n",
       "        }\n",
       "      </script>\n",
       "    </div>\n",
       "  </div>\n",
       "  "
      ],
      "text/plain": [
       "                             name                              english  muslim\n",
       "131                   ज्ञानी साहु                           gnani sahu     9.0\n",
       "220                      जसरथ साह                          jasrath sah     9.0\n",
       "223                      नसरत साह                          nasarat sah     9.0\n",
       "463                     ठीठरु साह                         thitharu sah     9.0\n",
       "514                      बगघु साह                          bagaghu sah     9.0\n",
       "...                           ...                                  ...     ...\n",
       "2226175        राजकुमार साव वगैरह                    rajkumar sawagarh     9.0\n",
       "2226196       राम कुमार साव वगैरह                 ram kumar sawagairah     9.0\n",
       "2226223                मीना देबी,                           meena debi     9.0\n",
       "2226284  दशरथ मोदी व दीनानाथ मोदी        dasarath modi v deenanath v d     9.0\n",
       "2226297   अशोक साव व धनेश्‍वर साव  ashok saw v w v v v v dhaneswar saw     9.0\n",
       "\n",
       "[66588 rows x 3 columns]"
      ]
     },
     "execution_count": 18,
     "metadata": {},
     "output_type": "execute_result"
    }
   ],
   "source": [
    "data[data['muslim'] == 9.0]"
   ]
  },
  {
   "cell_type": "code",
   "execution_count": null,
   "metadata": {
    "id": "O5ZtYWtT2pan"
   },
   "outputs": [],
   "source": [
    "data = data.drop(data[data['muslim'] == 9.0].index)"
   ]
  },
  {
   "cell_type": "code",
   "execution_count": null,
   "metadata": {
    "colab": {
     "base_uri": "https://localhost:8080/",
     "height": 143
    },
    "executionInfo": {
     "elapsed": 529,
     "status": "ok",
     "timestamp": 1643074010969,
     "user": {
      "displayName": "Rajashekar Chintalapati",
      "photoUrl": "https://lh3.googleusercontent.com/a-/AOh14GhvaKS4oQw2sBCyEe0cxq9rGBNCg4w2UoWOgVaD660=s64",
      "userId": "03596288833202137831"
     },
     "user_tz": 480
    },
    "id": "A3ctRPqr2_lP",
    "outputId": "db0ee1a7-ec60-4c30-b362-d8fb74451962"
   },
   "outputs": [
    {
     "data": {
      "text/html": [
       "\n",
       "  <div id=\"df-d25b3211-5e1d-4ba8-b985-0b7e7c644dcd\">\n",
       "    <div class=\"colab-df-container\">\n",
       "      <div>\n",
       "<style scoped>\n",
       "    .dataframe tbody tr th:only-of-type {\n",
       "        vertical-align: middle;\n",
       "    }\n",
       "\n",
       "    .dataframe tbody tr th {\n",
       "        vertical-align: top;\n",
       "    }\n",
       "\n",
       "    .dataframe thead th {\n",
       "        text-align: right;\n",
       "    }\n",
       "</style>\n",
       "<table border=\"1\" class=\"dataframe\">\n",
       "  <thead>\n",
       "    <tr style=\"text-align: right;\">\n",
       "      <th></th>\n",
       "      <th>name</th>\n",
       "      <th>english</th>\n",
       "    </tr>\n",
       "    <tr>\n",
       "      <th>muslim</th>\n",
       "      <th></th>\n",
       "      <th></th>\n",
       "    </tr>\n",
       "  </thead>\n",
       "  <tbody>\n",
       "    <tr>\n",
       "      <th>0.0</th>\n",
       "      <td>1974301</td>\n",
       "      <td>1974301</td>\n",
       "    </tr>\n",
       "    <tr>\n",
       "      <th>1.0</th>\n",
       "      <td>259939</td>\n",
       "      <td>259939</td>\n",
       "    </tr>\n",
       "  </tbody>\n",
       "</table>\n",
       "</div>\n",
       "      <button class=\"colab-df-convert\" onclick=\"convertToInteractive('df-d25b3211-5e1d-4ba8-b985-0b7e7c644dcd')\"\n",
       "              title=\"Convert this dataframe to an interactive table.\"\n",
       "              style=\"display:none;\">\n",
       "        \n",
       "  <svg xmlns=\"http://www.w3.org/2000/svg\" height=\"24px\"viewBox=\"0 0 24 24\"\n",
       "       width=\"24px\">\n",
       "    <path d=\"M0 0h24v24H0V0z\" fill=\"none\"/>\n",
       "    <path d=\"M18.56 5.44l.94 2.06.94-2.06 2.06-.94-2.06-.94-.94-2.06-.94 2.06-2.06.94zm-11 1L8.5 8.5l.94-2.06 2.06-.94-2.06-.94L8.5 2.5l-.94 2.06-2.06.94zm10 10l.94 2.06.94-2.06 2.06-.94-2.06-.94-.94-2.06-.94 2.06-2.06.94z\"/><path d=\"M17.41 7.96l-1.37-1.37c-.4-.4-.92-.59-1.43-.59-.52 0-1.04.2-1.43.59L10.3 9.45l-7.72 7.72c-.78.78-.78 2.05 0 2.83L4 21.41c.39.39.9.59 1.41.59.51 0 1.02-.2 1.41-.59l7.78-7.78 2.81-2.81c.8-.78.8-2.07 0-2.86zM5.41 20L4 18.59l7.72-7.72 1.47 1.35L5.41 20z\"/>\n",
       "  </svg>\n",
       "      </button>\n",
       "      \n",
       "  <style>\n",
       "    .colab-df-container {\n",
       "      display:flex;\n",
       "      flex-wrap:wrap;\n",
       "      gap: 12px;\n",
       "    }\n",
       "\n",
       "    .colab-df-convert {\n",
       "      background-color: #E8F0FE;\n",
       "      border: none;\n",
       "      border-radius: 50%;\n",
       "      cursor: pointer;\n",
       "      display: none;\n",
       "      fill: #1967D2;\n",
       "      height: 32px;\n",
       "      padding: 0 0 0 0;\n",
       "      width: 32px;\n",
       "    }\n",
       "\n",
       "    .colab-df-convert:hover {\n",
       "      background-color: #E2EBFA;\n",
       "      box-shadow: 0px 1px 2px rgba(60, 64, 67, 0.3), 0px 1px 3px 1px rgba(60, 64, 67, 0.15);\n",
       "      fill: #174EA6;\n",
       "    }\n",
       "\n",
       "    [theme=dark] .colab-df-convert {\n",
       "      background-color: #3B4455;\n",
       "      fill: #D2E3FC;\n",
       "    }\n",
       "\n",
       "    [theme=dark] .colab-df-convert:hover {\n",
       "      background-color: #434B5C;\n",
       "      box-shadow: 0px 1px 3px 1px rgba(0, 0, 0, 0.15);\n",
       "      filter: drop-shadow(0px 1px 2px rgba(0, 0, 0, 0.3));\n",
       "      fill: #FFFFFF;\n",
       "    }\n",
       "  </style>\n",
       "\n",
       "      <script>\n",
       "        const buttonEl =\n",
       "          document.querySelector('#df-d25b3211-5e1d-4ba8-b985-0b7e7c644dcd button.colab-df-convert');\n",
       "        buttonEl.style.display =\n",
       "          google.colab.kernel.accessAllowed ? 'block' : 'none';\n",
       "\n",
       "        async function convertToInteractive(key) {\n",
       "          const element = document.querySelector('#df-d25b3211-5e1d-4ba8-b985-0b7e7c644dcd');\n",
       "          const dataTable =\n",
       "            await google.colab.kernel.invokeFunction('convertToInteractive',\n",
       "                                                     [key], {});\n",
       "          if (!dataTable) return;\n",
       "\n",
       "          const docLinkHtml = 'Like what you see? Visit the ' +\n",
       "            '<a target=\"_blank\" href=https://colab.research.google.com/notebooks/data_table.ipynb>data table notebook</a>'\n",
       "            + ' to learn more about interactive tables.';\n",
       "          element.innerHTML = '';\n",
       "          dataTable['output_type'] = 'display_data';\n",
       "          await google.colab.output.renderOutput(dataTable, element);\n",
       "          const docLink = document.createElement('div');\n",
       "          docLink.innerHTML = docLinkHtml;\n",
       "          element.appendChild(docLink);\n",
       "        }\n",
       "      </script>\n",
       "    </div>\n",
       "  </div>\n",
       "  "
      ],
      "text/plain": [
       "           name  english\n",
       "muslim                  \n",
       "0.0     1974301  1974301\n",
       "1.0      259939   259939"
      ]
     },
     "execution_count": 20,
     "metadata": {},
     "output_type": "execute_result"
    }
   ],
   "source": [
    "data.groupby('muslim').count()"
   ]
  },
  {
   "cell_type": "code",
   "execution_count": null,
   "metadata": {
    "id": "AyXuQ0VW5M4I"
   },
   "outputs": [],
   "source": [
    "X = data['english'].values\n",
    "y = data['muslim'].values"
   ]
  },
  {
   "cell_type": "markdown",
   "metadata": {
    "id": "CAMV_gK54Kn9"
   },
   "source": [
    "# Split Data"
   ]
  },
  {
   "cell_type": "code",
   "execution_count": null,
   "metadata": {
    "id": "2pRqWUQi5aa9"
   },
   "outputs": [],
   "source": [
    "X_train, X_rem, y_train, y_rem = train_test_split(X, y, test_size=0.3)"
   ]
  },
  {
   "cell_type": "code",
   "execution_count": null,
   "metadata": {
    "colab": {
     "base_uri": "https://localhost:8080/"
    },
    "executionInfo": {
     "elapsed": 9,
     "status": "ok",
     "timestamp": 1643074020794,
     "user": {
      "displayName": "Rajashekar Chintalapati",
      "photoUrl": "https://lh3.googleusercontent.com/a-/AOh14GhvaKS4oQw2sBCyEe0cxq9rGBNCg4w2UoWOgVaD660=s64",
      "userId": "03596288833202137831"
     },
     "user_tz": 480
    },
    "id": "6DM0-MEV6-ui",
    "outputId": "33e18008-03ea-4009-a8aa-89f8bd6568ff"
   },
   "outputs": [
    {
     "data": {
      "text/plain": [
       "1563968"
      ]
     },
     "execution_count": 24,
     "metadata": {},
     "output_type": "execute_result"
    }
   ],
   "source": [
    "X_train.size"
   ]
  },
  {
   "cell_type": "code",
   "execution_count": null,
   "metadata": {
    "colab": {
     "base_uri": "https://localhost:8080/"
    },
    "executionInfo": {
     "elapsed": 7,
     "status": "ok",
     "timestamp": 1643074020794,
     "user": {
      "displayName": "Rajashekar Chintalapati",
      "photoUrl": "https://lh3.googleusercontent.com/a-/AOh14GhvaKS4oQw2sBCyEe0cxq9rGBNCg4w2UoWOgVaD660=s64",
      "userId": "03596288833202137831"
     },
     "user_tz": 480
    },
    "id": "riY-uuYm7BV6",
    "outputId": "1517612f-cb0c-4c6c-b295-98871cafb055"
   },
   "outputs": [
    {
     "data": {
      "text/plain": [
       "670272"
      ]
     },
     "execution_count": 25,
     "metadata": {},
     "output_type": "execute_result"
    }
   ],
   "source": [
    "X_rem.size"
   ]
  },
  {
   "cell_type": "code",
   "execution_count": null,
   "metadata": {
    "id": "kaiNBBnM3AEx"
   },
   "outputs": [],
   "source": [
    "X_val, X_test, y_val, y_test = train_test_split(X_rem, y_rem, test_size=0.5)"
   ]
  },
  {
   "cell_type": "code",
   "execution_count": null,
   "metadata": {
    "colab": {
     "base_uri": "https://localhost:8080/"
    },
    "executionInfo": {
     "elapsed": 4,
     "status": "ok",
     "timestamp": 1643074021419,
     "user": {
      "displayName": "Rajashekar Chintalapati",
      "photoUrl": "https://lh3.googleusercontent.com/a-/AOh14GhvaKS4oQw2sBCyEe0cxq9rGBNCg4w2UoWOgVaD660=s64",
      "userId": "03596288833202137831"
     },
     "user_tz": 480
    },
    "id": "6jBvp5cX7TkX",
    "outputId": "99b9df56-796e-4cb7-a757-5878944f802f"
   },
   "outputs": [
    {
     "data": {
      "text/plain": [
       "335136"
      ]
     },
     "execution_count": 27,
     "metadata": {},
     "output_type": "execute_result"
    }
   ],
   "source": [
    "X_val.size"
   ]
  },
  {
   "cell_type": "code",
   "execution_count": null,
   "metadata": {
    "colab": {
     "base_uri": "https://localhost:8080/"
    },
    "executionInfo": {
     "elapsed": 4,
     "status": "ok",
     "timestamp": 1643074022043,
     "user": {
      "displayName": "Rajashekar Chintalapati",
      "photoUrl": "https://lh3.googleusercontent.com/a-/AOh14GhvaKS4oQw2sBCyEe0cxq9rGBNCg4w2UoWOgVaD660=s64",
      "userId": "03596288833202137831"
     },
     "user_tz": 480
    },
    "id": "Mnm7p7j17WQ_",
    "outputId": "a9bad791-0c63-4d60-fef9-54066e0642e1"
   },
   "outputs": [
    {
     "data": {
      "text/plain": [
       "335136"
      ]
     },
     "execution_count": 28,
     "metadata": {},
     "output_type": "execute_result"
    }
   ],
   "source": [
    "X_test.size"
   ]
  },
  {
   "cell_type": "code",
   "execution_count": null,
   "metadata": {
    "id": "YR-8tund64vG"
   },
   "outputs": [],
   "source": [
    "from tensorflow.keras.utils import to_categorical\n",
    "\n",
    "y_train = to_categorical(y_train, 2)\n",
    "y_val = to_categorical(y_val, 2)\n",
    "y_test = to_categorical(y_test, 2)"
   ]
  },
  {
   "cell_type": "markdown",
   "metadata": {
    "id": "T0GeHt5o7kT9"
   },
   "source": [
    "# Creating Dataset"
   ]
  },
  {
   "cell_type": "code",
   "execution_count": null,
   "metadata": {
    "id": "1LD3L-h2Wy3M"
   },
   "outputs": [],
   "source": [
    "BATCH_SIZE = 64\n",
    "BUFFER_SIZE = 1500000"
   ]
  },
  {
   "cell_type": "code",
   "execution_count": null,
   "metadata": {
    "id": "iDUq_WMt7ZYl"
   },
   "outputs": [],
   "source": [
    "train_dataset = tf.data.Dataset.from_tensor_slices((X_train, y_train))\n",
    "train_dataset = train_dataset.shuffle(BUFFER_SIZE).batch(BATCH_SIZE)\n",
    "\n",
    "val_dataset = tf.data.Dataset.from_tensor_slices((X_val, y_val))\n",
    "val_dataset = val_dataset.batch(BATCH_SIZE)\n",
    "\n",
    "test_dataset = tf.data.Dataset.from_tensor_slices((X_test, y_test))\n",
    "test_dataset = test_dataset.batch(BATCH_SIZE)"
   ]
  },
  {
   "cell_type": "code",
   "execution_count": null,
   "metadata": {
    "colab": {
     "base_uri": "https://localhost:8080/"
    },
    "executionInfo": {
     "elapsed": 2451,
     "status": "ok",
     "timestamp": 1643075596220,
     "user": {
      "displayName": "Rajashekar Chintalapati",
      "photoUrl": "https://lh3.googleusercontent.com/a-/AOh14GhvaKS4oQw2sBCyEe0cxq9rGBNCg4w2UoWOgVaD660=s64",
      "userId": "03596288833202137831"
     },
     "user_tz": 480
    },
    "id": "FsdOyInb_UDk",
    "outputId": "f5fb52f6-542e-401b-b547-a14507cbb89f"
   },
   "outputs": [
    {
     "name": "stdout",
     "output_type": "stream",
     "text": [
      "Name tf.Tensor(b'rama', shape=(), dtype=string)\n",
      "Label tf.Tensor([1. 0.], shape=(2,), dtype=float32)\n"
     ]
    }
   ],
   "source": [
    "text_batch, label_batch = next(iter(train_dataset))\n",
    "first_name, first_label = text_batch[0], label_batch[0]\n",
    "print(\"Name\", first_name)\n",
    "print(\"Label\", first_label)"
   ]
  },
  {
   "cell_type": "markdown",
   "metadata": {
    "id": "qTwXHS0bZtvm"
   },
   "source": [
    "# Vectorization"
   ]
  },
  {
   "cell_type": "code",
   "execution_count": null,
   "metadata": {
    "id": "DTgYNrhbZpTo"
   },
   "outputs": [],
   "source": [
    "max_features = 300000\n",
    "sequence_length = 50\n",
    "\n",
    "vectorize_layer = tf.keras.layers.TextVectorization(\n",
    "    max_tokens=max_features,\n",
    "    output_mode='int',\n",
    "    output_sequence_length=sequence_length)"
   ]
  },
  {
   "cell_type": "code",
   "execution_count": null,
   "metadata": {
    "id": "dlMZLKo4dx4r"
   },
   "outputs": [],
   "source": [
    "# Make a text-only dataset (without labels), then call adapt\n",
    "train_text = train_dataset.map(lambda x, y: x)\n",
    "vectorize_layer.adapt(train_text)"
   ]
  },
  {
   "cell_type": "code",
   "execution_count": null,
   "metadata": {
    "id": "_KqSXSk4dPO3"
   },
   "outputs": [],
   "source": [
    "def vectorize_text(text, label):\n",
    "  text = tf.expand_dims(text, -1)\n",
    "  return vectorize_layer(text), label"
   ]
  },
  {
   "cell_type": "code",
   "execution_count": null,
   "metadata": {
    "colab": {
     "base_uri": "https://localhost:8080/"
    },
    "executionInfo": {
     "elapsed": 20,
     "status": "ok",
     "timestamp": 1643075631609,
     "user": {
      "displayName": "Rajashekar Chintalapati",
      "photoUrl": "https://lh3.googleusercontent.com/a-/AOh14GhvaKS4oQw2sBCyEe0cxq9rGBNCg4w2UoWOgVaD660=s64",
      "userId": "03596288833202137831"
     },
     "user_tz": 480
    },
    "id": "v8pVwNLzdDom",
    "outputId": "93aae868-80ab-4967-9660-85c99b2cc102"
   },
   "outputs": [
    {
     "name": "stdout",
     "output_type": "stream",
     "text": [
      "Vectorized data (<tf.Tensor: shape=(1, 50), dtype=int64, numpy=\n",
      "array([[288,   0,   0,   0,   0,   0,   0,   0,   0,   0,   0,   0,   0,\n",
      "          0,   0,   0,   0,   0,   0,   0,   0,   0,   0,   0,   0,   0,\n",
      "          0,   0,   0,   0,   0,   0,   0,   0,   0,   0,   0,   0,   0,\n",
      "          0,   0,   0,   0,   0,   0,   0,   0,   0,   0,   0]])>, <tf.Tensor: shape=(2,), dtype=float32, numpy=array([1., 0.], dtype=float32)>)\n"
     ]
    }
   ],
   "source": [
    "print(\"Vectorized data\", vectorize_text(first_name, first_label))"
   ]
  },
  {
   "cell_type": "code",
   "execution_count": null,
   "metadata": {
    "colab": {
     "base_uri": "https://localhost:8080/"
    },
    "executionInfo": {
     "elapsed": 2005,
     "status": "ok",
     "timestamp": 1643075633596,
     "user": {
      "displayName": "Rajashekar Chintalapati",
      "photoUrl": "https://lh3.googleusercontent.com/a-/AOh14GhvaKS4oQw2sBCyEe0cxq9rGBNCg4w2UoWOgVaD660=s64",
      "userId": "03596288833202137831"
     },
     "user_tz": 480
    },
    "id": "MIBk7lvldMZz",
    "outputId": "2e5e6a27-8437-4d65-932b-f37cfae0682d"
   },
   "outputs": [
    {
     "name": "stdout",
     "output_type": "stream",
     "text": [
      "1287 --->  janis\n",
      " 313 --->  lakshmi\n",
      "Vocabulary size: 300000\n"
     ]
    }
   ],
   "source": [
    "print(\"1287 ---> \",vectorize_layer.get_vocabulary()[277608])\n",
    "print(\" 313 ---> \",vectorize_layer.get_vocabulary()[179])\n",
    "print(f'Vocabulary size: {len(vectorize_layer.get_vocabulary())}')"
   ]
  },
  {
   "cell_type": "code",
   "execution_count": null,
   "metadata": {
    "id": "n-RMO7w_eILB"
   },
   "outputs": [],
   "source": [
    "train_ds = train_dataset.map(vectorize_text)\n",
    "val_ds = val_dataset.map(vectorize_text)\n",
    "test_ds = test_dataset.map(vectorize_text)"
   ]
  },
  {
   "cell_type": "code",
   "execution_count": null,
   "metadata": {
    "id": "IifxH9YJe_8j"
   },
   "outputs": [],
   "source": [
    "# For performance\n",
    "AUTOTUNE = tf.data.AUTOTUNE\n",
    "\n",
    "train_ds = train_ds.cache().prefetch(buffer_size=AUTOTUNE)\n",
    "val_ds = val_ds.cache().prefetch(buffer_size=AUTOTUNE)\n",
    "test_ds = test_ds.cache().prefetch(buffer_size=AUTOTUNE)"
   ]
  },
  {
   "cell_type": "markdown",
   "metadata": {
    "id": "ZkgGCrrCfIlz"
   },
   "source": [
    "# Model"
   ]
  },
  {
   "cell_type": "code",
   "execution_count": null,
   "metadata": {
    "colab": {
     "base_uri": "https://localhost:8080/"
    },
    "executionInfo": {
     "elapsed": 643,
     "status": "ok",
     "timestamp": 1643075641365,
     "user": {
      "displayName": "Rajashekar Chintalapati",
      "photoUrl": "https://lh3.googleusercontent.com/a-/AOh14GhvaKS4oQw2sBCyEe0cxq9rGBNCg4w2UoWOgVaD660=s64",
      "userId": "03596288833202137831"
     },
     "user_tz": 480
    },
    "id": "AfYCSu48fFzL",
    "outputId": "5670a091-3e47-444e-d03c-98ea69ef1770"
   },
   "outputs": [
    {
     "name": "stdout",
     "output_type": "stream",
     "text": [
      "Model: \"sequential_3\"\n",
      "_________________________________________________________________\n",
      " Layer (type)                Output Shape              Param #   \n",
      "=================================================================\n",
      " embedding_3 (Embedding)     (None, None, 64)          19200064  \n",
      "                                                                 \n",
      " dropout_6 (Dropout)         (None, None, 64)          0         \n",
      "                                                                 \n",
      " global_average_pooling1d_3   (None, 64)               0         \n",
      " (GlobalAveragePooling1D)                                        \n",
      "                                                                 \n",
      " dropout_7 (Dropout)         (None, 64)                0         \n",
      "                                                                 \n",
      " dense_3 (Dense)             (None, 2)                 130       \n",
      "                                                                 \n",
      "=================================================================\n",
      "Total params: 19,200,194\n",
      "Trainable params: 19,200,194\n",
      "Non-trainable params: 0\n",
      "_________________________________________________________________\n"
     ]
    }
   ],
   "source": [
    "embedding_dim = 64\n",
    "model = tf.keras.Sequential([\n",
    "  tf.keras.layers.Embedding(max_features + 1, embedding_dim),\n",
    "  tf.keras.layers.Dropout(0.2),\n",
    "  tf.keras.layers.GlobalAveragePooling1D(),\n",
    "  tf.keras.layers.Dropout(0.2),\n",
    "  tf.keras.layers.Dense(2, activation='softmax')])\n",
    "\n",
    "model.summary()"
   ]
  },
  {
   "cell_type": "code",
   "execution_count": null,
   "metadata": {
    "id": "pnenCqxsfUId"
   },
   "outputs": [],
   "source": [
    "model.compile(loss=tf.keras.losses.CategoricalCrossentropy(from_logits=True),\n",
    "              optimizer='adam',\n",
    "              metrics=['accuracy'])"
   ]
  },
  {
   "cell_type": "code",
   "execution_count": null,
   "metadata": {
    "colab": {
     "base_uri": "https://localhost:8080/"
    },
    "executionInfo": {
     "elapsed": 1298886,
     "status": "ok",
     "timestamp": 1643076946245,
     "user": {
      "displayName": "Rajashekar Chintalapati",
      "photoUrl": "https://lh3.googleusercontent.com/a-/AOh14GhvaKS4oQw2sBCyEe0cxq9rGBNCg4w2UoWOgVaD660=s64",
      "userId": "03596288833202137831"
     },
     "user_tz": 480
    },
    "id": "EF2kSLV1fkor",
    "outputId": "7b2b857e-cf51-46b0-835d-f1d9f95901d0"
   },
   "outputs": [
    {
     "name": "stdout",
     "output_type": "stream",
     "text": [
      "Epoch 1/10\n"
     ]
    },
    {
     "name": "stderr",
     "output_type": "stream",
     "text": [
      "/usr/local/lib/python3.7/dist-packages/tensorflow/python/util/dispatch.py:1096: UserWarning: \"`categorical_crossentropy` received `from_logits=True`, but the `output` argument was produced by a sigmoid or softmax activation and thus does not represent logits. Was this intended?\"\n",
      "  return dispatch_target(*args, **kwargs)\n"
     ]
    },
    {
     "name": "stdout",
     "output_type": "stream",
     "text": [
      "24437/24437 [==============================] - 133s 5ms/step - loss: 0.1045 - accuracy: 0.9626 - val_loss: 0.0793 - val_accuracy: 0.9735\n",
      "Epoch 2/10\n",
      "24437/24437 [==============================] - 130s 5ms/step - loss: 0.0750 - accuracy: 0.9739 - val_loss: 0.0766 - val_accuracy: 0.9752\n",
      "Epoch 3/10\n",
      "24437/24437 [==============================] - 129s 5ms/step - loss: 0.0714 - accuracy: 0.9754 - val_loss: 0.0753 - val_accuracy: 0.9755\n",
      "Epoch 4/10\n",
      "24437/24437 [==============================] - 129s 5ms/step - loss: 0.0692 - accuracy: 0.9763 - val_loss: 0.0748 - val_accuracy: 0.9757\n",
      "Epoch 5/10\n",
      "24437/24437 [==============================] - 130s 5ms/step - loss: 0.0678 - accuracy: 0.9769 - val_loss: 0.0744 - val_accuracy: 0.9759\n",
      "Epoch 6/10\n",
      "24437/24437 [==============================] - 130s 5ms/step - loss: 0.0667 - accuracy: 0.9772 - val_loss: 0.0742 - val_accuracy: 0.9760\n",
      "Epoch 7/10\n",
      "24437/24437 [==============================] - 130s 5ms/step - loss: 0.0658 - accuracy: 0.9776 - val_loss: 0.0740 - val_accuracy: 0.9761\n",
      "Epoch 8/10\n",
      "24437/24437 [==============================] - 129s 5ms/step - loss: 0.0650 - accuracy: 0.9780 - val_loss: 0.0740 - val_accuracy: 0.9762\n",
      "Epoch 9/10\n",
      "24437/24437 [==============================] - 129s 5ms/step - loss: 0.0645 - accuracy: 0.9783 - val_loss: 0.0739 - val_accuracy: 0.9762\n",
      "Epoch 10/10\n",
      "24437/24437 [==============================] - 129s 5ms/step - loss: 0.0640 - accuracy: 0.9786 - val_loss: 0.0737 - val_accuracy: 0.9763\n"
     ]
    }
   ],
   "source": [
    "epochs = 10\n",
    "history = model.fit(\n",
    "    train_ds,\n",
    "    validation_data=val_ds,\n",
    "    epochs=epochs)\n"
   ]
  },
  {
   "cell_type": "markdown",
   "metadata": {
    "id": "LtGA1l5kfw6p"
   },
   "source": [
    "# Evaluate"
   ]
  },
  {
   "cell_type": "code",
   "execution_count": null,
   "metadata": {
    "colab": {
     "base_uri": "https://localhost:8080/"
    },
    "executionInfo": {
     "elapsed": 9534,
     "status": "ok",
     "timestamp": 1643077026622,
     "user": {
      "displayName": "Rajashekar Chintalapati",
      "photoUrl": "https://lh3.googleusercontent.com/a-/AOh14GhvaKS4oQw2sBCyEe0cxq9rGBNCg4w2UoWOgVaD660=s64",
      "userId": "03596288833202137831"
     },
     "user_tz": 480
    },
    "id": "-lmuvq74fr50",
    "outputId": "b5d30a5a-3414-42e2-c0cf-c3d91122f65e"
   },
   "outputs": [
    {
     "name": "stdout",
     "output_type": "stream",
     "text": [
      "5237/5237 [==============================] - 9s 2ms/step - loss: 0.0724 - accuracy: 0.9764\n",
      "Loss:  0.07242037355899811\n",
      "Accuracy:  0.976388692855835\n"
     ]
    }
   ],
   "source": [
    "loss, accuracy = model.evaluate(test_ds)\n",
    "\n",
    "print(\"Loss: \", loss)\n",
    "print(\"Accuracy: \", accuracy)"
   ]
  },
  {
   "cell_type": "markdown",
   "metadata": {
    "id": "rTkraAB-f2-X"
   },
   "source": [
    "# Plot"
   ]
  },
  {
   "cell_type": "code",
   "execution_count": null,
   "metadata": {
    "colab": {
     "base_uri": "https://localhost:8080/",
     "height": 295
    },
    "executionInfo": {
     "elapsed": 550,
     "status": "ok",
     "timestamp": 1643077048508,
     "user": {
      "displayName": "Rajashekar Chintalapati",
      "photoUrl": "https://lh3.googleusercontent.com/a-/AOh14GhvaKS4oQw2sBCyEe0cxq9rGBNCg4w2UoWOgVaD660=s64",
      "userId": "03596288833202137831"
     },
     "user_tz": 480
    },
    "id": "gHHDsnYgf4C2",
    "outputId": "197bf682-1bd0-4763-a3a7-c508b9df8b89"
   },
   "outputs": [
    {
     "data": {
      "image/png": "[encoded data removed]",
      "text/plain": [
       "<Figure size 432x288 with 1 Axes>"
      ]
     },
     "metadata": {
      "needs_background": "light"
     },
     "output_type": "display_data"
    }
   ],
   "source": [
    "history_dict = history.history\n",
    "history_dict.keys()\n",
    "\n",
    "acc = history_dict['accuracy']\n",
    "val_acc = history_dict['val_accuracy']\n",
    "loss = history_dict['loss']\n",
    "val_loss = history_dict['val_loss']\n",
    "\n",
    "epochs = range(1, len(acc) + 1)\n",
    "\n",
    "# \"bo\" is for \"blue dot\"\n",
    "plt.plot(epochs, loss, 'bo', label='Training loss')\n",
    "# b is for \"solid blue line\"\n",
    "plt.plot(epochs, val_loss, 'b', label='Validation loss')\n",
    "plt.title('Training and validation loss')\n",
    "plt.xlabel('Epochs')\n",
    "plt.ylabel('Loss')\n",
    "plt.legend()\n",
    "\n",
    "plt.show()"
   ]
  },
  {
   "cell_type": "code",
   "execution_count": null,
   "metadata": {
    "colab": {
     "base_uri": "https://localhost:8080/",
     "height": 295
    },
    "executionInfo": {
     "elapsed": 555,
     "status": "ok",
     "timestamp": 1643077052520,
     "user": {
      "displayName": "Rajashekar Chintalapati",
      "photoUrl": "https://lh3.googleusercontent.com/a-/AOh14GhvaKS4oQw2sBCyEe0cxq9rGBNCg4w2UoWOgVaD660=s64",
      "userId": "03596288833202137831"
     },
     "user_tz": 480
    },
    "id": "8VUL_XWPf_wB",
    "outputId": "5047df41-8c40-44bc-bfe0-6216339994a3"
   },
   "outputs": [
    {
     "data": {
      "image/png": "[encoded data removed]",
      "text/plain": [
       "<Figure size 432x288 with 1 Axes>"
      ]
     },
     "metadata": {
      "needs_background": "light"
     },
     "output_type": "display_data"
    }
   ],
   "source": [
    "plt.plot(epochs, acc, 'bo', label='Training acc')\n",
    "plt.plot(epochs, val_acc, 'b', label='Validation acc')\n",
    "plt.title('Training and validation accuracy')\n",
    "plt.xlabel('Epochs')\n",
    "plt.ylabel('Accuracy')\n",
    "plt.legend(loc='lower right')\n",
    "\n",
    "plt.show()"
   ]
  },
  {
   "cell_type": "markdown",
   "metadata": {
    "id": "fbfijfcBgNIT"
   },
   "source": [
    "# Save Model"
   ]
  },
  {
   "cell_type": "code",
   "execution_count": null,
   "metadata": {
    "colab": {
     "base_uri": "https://localhost:8080/"
    },
    "executionInfo": {
     "elapsed": 12262,
     "status": "ok",
     "timestamp": 1643077075673,
     "user": {
      "displayName": "Rajashekar Chintalapati",
      "photoUrl": "https://lh3.googleusercontent.com/a-/AOh14GhvaKS4oQw2sBCyEe0cxq9rGBNCg4w2UoWOgVaD660=s64",
      "userId": "03596288833202137831"
     },
     "user_tz": 480
    },
    "id": "tSD9UlixgOet",
    "outputId": "6064c9fd-dacf-4f75-8d6a-7378e2dab70e"
   },
   "outputs": [
    {
     "name": "stdout",
     "output_type": "stream",
     "text": [
      "5237/5237 [==============================] - 12s 2ms/step - loss: 0.0724 - accuracy: 0.9764\n",
      "0.976388692855835\n"
     ]
    }
   ],
   "source": [
    "export_model = tf.keras.Sequential([\n",
    "  vectorize_layer,\n",
    "  model\n",
    "])\n",
    "\n",
    "export_model.compile(\n",
    "    loss=tf.keras.losses.CategoricalCrossentropy(from_logits=False), optimizer=\"adam\", metrics=['accuracy']\n",
    ")\n",
    "\n",
    "loss, accuracy = export_model.evaluate(test_dataset)\n",
    "print(accuracy)"
   ]
  },
  {
   "cell_type": "markdown",
   "metadata": {
    "id": "2kuCI6Fy58uW"
   },
   "source": [
    "# Inference"
   ]
  },
  {
   "cell_type": "code",
   "execution_count": null,
   "metadata": {
    "id": "bmG13_Lr6BDZ"
   },
   "outputs": [],
   "source": [
    "examples = [\n",
    "  \"Shah Rukh Khan\",\n",
    "  \"Amitabh Bachchan\",\n",
    "  \"Abdul Rashid Salim Salman Khan\"\n",
    "]\n",
    "\n",
    "results = export_model.predict(examples)"
   ]
  },
  {
   "cell_type": "code",
   "execution_count": null,
   "metadata": {
    "colab": {
     "base_uri": "https://localhost:8080/"
    },
    "executionInfo": {
     "elapsed": 481,
     "status": "ok",
     "timestamp": 1643077127394,
     "user": {
      "displayName": "Rajashekar Chintalapati",
      "photoUrl": "https://lh3.googleusercontent.com/a-/AOh14GhvaKS4oQw2sBCyEe0cxq9rGBNCg4w2UoWOgVaD660=s64",
      "userId": "03596288833202137831"
     },
     "user_tz": 480
    },
    "id": "tX2IlM4uBxHL",
    "outputId": "105967e1-4e38-4a1b-a0bf-5e8811a3b415"
   },
   "outputs": [
    {
     "data": {
      "text/plain": [
       "array([[4.6475761e-02, 9.5352429e-01],\n",
       "       [9.0414155e-01, 9.5858440e-02],\n",
       "       [9.6635245e-07, 9.9999905e-01]], dtype=float32)"
      ]
     },
     "execution_count": 77,
     "metadata": {},
     "output_type": "execute_result"
    }
   ],
   "source": [
    "results"
   ]
  },
  {
   "cell_type": "code",
   "execution_count": null,
   "metadata": {
    "id": "nrZpe2A2B9Ei"
   },
   "outputs": [],
   "source": [
    "probs = tf.nn.softmax(results)"
   ]
  },
  {
   "cell_type": "code",
   "execution_count": null,
   "metadata": {
    "colab": {
     "base_uri": "https://localhost:8080/"
    },
    "executionInfo": {
     "elapsed": 345,
     "status": "ok",
     "timestamp": 1643077258649,
     "user": {
      "displayName": "Rajashekar Chintalapati",
      "photoUrl": "https://lh3.googleusercontent.com/a-/AOh14GhvaKS4oQw2sBCyEe0cxq9rGBNCg4w2UoWOgVaD660=s64",
      "userId": "03596288833202137831"
     },
     "user_tz": 480
    },
    "id": "tyWhrX_4CRvu",
    "outputId": "a568451c-1ed9-4f31-f9e9-f3222d6a3ad5"
   },
   "outputs": [
    {
     "data": {
      "text/plain": [
       "<tf.Tensor: shape=(3, 2), dtype=float32, numpy=\n",
       "array([[0.28760418, 0.71239585],\n",
       "       [0.6917435 , 0.30825648],\n",
       "       [0.26894182, 0.73105824]], dtype=float32)>"
      ]
     },
     "execution_count": 79,
     "metadata": {},
     "output_type": "execute_result"
    }
   ],
   "source": [
    "probs"
   ]
  },
  {
   "cell_type": "code",
   "execution_count": null,
   "metadata": {
    "id": "TBnJn49nCbft"
   },
   "outputs": [],
   "source": [
    "res_args = tf.argmax(results, 1)"
   ]
  },
  {
   "cell_type": "code",
   "execution_count": null,
   "metadata": {
    "id": "U52Xx4qxD_jZ"
   },
   "outputs": [],
   "source": [
    "classes= ['not-muslim', 'muslim']"
   ]
  },
  {
   "cell_type": "code",
   "execution_count": null,
   "metadata": {
    "colab": {
     "base_uri": "https://localhost:8080/"
    },
    "executionInfo": {
     "elapsed": 5,
     "status": "ok",
     "timestamp": 1643077885013,
     "user": {
      "displayName": "Rajashekar Chintalapati",
      "photoUrl": "https://lh3.googleusercontent.com/a-/AOh14GhvaKS4oQw2sBCyEe0cxq9rGBNCg4w2UoWOgVaD660=s64",
      "userId": "03596288833202137831"
     },
     "user_tz": 480
    },
    "id": "tuzzOEpXDoZW",
    "outputId": "83f0c4ba-2b4e-4a53-f1ca-d2ccf8a638b1"
   },
   "outputs": [
    {
     "name": "stdout",
     "output_type": "stream",
     "text": [
      "Shah Rukh Khan is of muslim with muslim probability of 71.23958587646484%\n",
      "Amitabh Bachchan is of not-muslim with muslim probability of 30.825647354125977%\n",
      "Abdul Rashid Salim Salman Khan is of muslim with muslim probability of 73.10582733154297%\n"
     ]
    }
   ],
   "source": [
    "for i in range(0, len(examples)):\n",
    "  print(f\"{examples[i]} is of {classes[res_args[i]]} with muslim probability of {probs[i][1] * 100}%\")"
   ]
  },
  {
   "cell_type": "markdown",
   "metadata": {
    "id": "C5-l6uF7mLYZ"
   },
   "source": [
    "# Export model"
   ]
  },
  {
   "cell_type": "code",
   "execution_count": null,
   "metadata": {
    "colab": {
     "base_uri": "https://localhost:8080/"
    },
    "executionInfo": {
     "elapsed": 3252,
     "status": "ok",
     "timestamp": 1643077987404,
     "user": {
      "displayName": "Rajashekar Chintalapati",
      "photoUrl": "https://lh3.googleusercontent.com/a-/AOh14GhvaKS4oQw2sBCyEe0cxq9rGBNCg4w2UoWOgVaD660=s64",
      "userId": "03596288833202137831"
     },
     "user_tz": 480
    },
    "id": "ER40Rrkr-UvQ",
    "outputId": "c0955c91-50f6-43cb-9421-6d25c19a7eba"
   },
   "outputs": [
    {
     "name": "stdout",
     "output_type": "stream",
     "text": [
      "INFO:tensorflow:Assets written to: saved_model/eng_model_softmax/assets\n"
     ]
    }
   ],
   "source": [
    "export_model.save('saved_model/eng_model_softmax')"
   ]
  },
  {
   "cell_type": "markdown",
   "metadata": {
    "id": "Nv9Sjytxmbml"
   },
   "source": [
    "# Load Model"
   ]
  },
  {
   "cell_type": "code",
   "execution_count": null,
   "metadata": {
    "id": "osqLygrkmedK"
   },
   "outputs": [],
   "source": [
    "new_model = tf.keras.models.load_model('saved_model/eng_model_softmax')"
   ]
  },
  {
   "cell_type": "code",
   "execution_count": null,
   "metadata": {
    "id": "ORs5DAPjFXBh"
   },
   "outputs": [],
   "source": [
    "new_results = new_model.predict(examples)"
   ]
  },
  {
   "cell_type": "code",
   "execution_count": null,
   "metadata": {
    "id": "6P6cAVFHFcsc"
   },
   "outputs": [],
   "source": [
    "res_args = tf.argmax(new_results, 1)"
   ]
  },
  {
   "cell_type": "code",
   "execution_count": null,
   "metadata": {
    "colab": {
     "base_uri": "https://localhost:8080/"
    },
    "executionInfo": {
     "elapsed": 512,
     "status": "ok",
     "timestamp": 1643078123213,
     "user": {
      "displayName": "Rajashekar Chintalapati",
      "photoUrl": "https://lh3.googleusercontent.com/a-/AOh14GhvaKS4oQw2sBCyEe0cxq9rGBNCg4w2UoWOgVaD660=s64",
      "userId": "03596288833202137831"
     },
     "user_tz": 480
    },
    "id": "ONWvdEnCFl0S",
    "outputId": "92d41dd4-e19e-4a9d-b4fa-135d882066ee"
   },
   "outputs": [
    {
     "data": {
      "text/plain": [
       "<tf.Tensor: shape=(3,), dtype=int64, numpy=array([1, 0, 1])>"
      ]
     },
     "execution_count": 103,
     "metadata": {},
     "output_type": "execute_result"
    }
   ],
   "source": [
    "res_args"
   ]
  },
  {
   "cell_type": "code",
   "execution_count": null,
   "metadata": {
    "id": "6Sv7_DtuFwcv"
   },
   "outputs": [],
   "source": [
    "new_probs = tf.nn.softmax(new_results)"
   ]
  },
  {
   "cell_type": "code",
   "execution_count": null,
   "metadata": {
    "colab": {
     "base_uri": "https://localhost:8080/"
    },
    "executionInfo": {
     "elapsed": 614,
     "status": "ok",
     "timestamp": 1643078175625,
     "user": {
      "displayName": "Rajashekar Chintalapati",
      "photoUrl": "https://lh3.googleusercontent.com/a-/AOh14GhvaKS4oQw2sBCyEe0cxq9rGBNCg4w2UoWOgVaD660=s64",
      "userId": "03596288833202137831"
     },
     "user_tz": 480
    },
    "id": "IlhL8u6FFyy2",
    "outputId": "aef4491b-b2db-43b9-feb1-d8c80eec3c8b"
   },
   "outputs": [
    {
     "data": {
      "text/plain": [
       "<tf.Tensor: shape=(3, 2), dtype=float32, numpy=\n",
       "array([[0.26894143, 0.73105854],\n",
       "       [0.73105854, 0.26894143],\n",
       "       [0.26894143, 0.73105854]], dtype=float32)>"
      ]
     },
     "execution_count": 105,
     "metadata": {},
     "output_type": "execute_result"
    }
   ],
   "source": [
    "new_probs"
   ]
  },
  {
   "cell_type": "code",
   "execution_count": null,
   "metadata": {
    "colab": {
     "base_uri": "https://localhost:8080/"
    },
    "executionInfo": {
     "elapsed": 518,
     "status": "ok",
     "timestamp": 1643078194129,
     "user": {
      "displayName": "Rajashekar Chintalapati",
      "photoUrl": "https://lh3.googleusercontent.com/a-/AOh14GhvaKS4oQw2sBCyEe0cxq9rGBNCg4w2UoWOgVaD660=s64",
      "userId": "03596288833202137831"
     },
     "user_tz": 480
    },
    "id": "cgCb4Q4QminT",
    "outputId": "e02e0521-f1c2-4943-9b4a-b62b746b3720"
   },
   "outputs": [
    {
     "name": "stdout",
     "output_type": "stream",
     "text": [
      "Shah Rukh Khan is of muslim with muslim probability of 73.10585021972656%\n",
      "Amitabh Bachchan is of not-muslim with muslim probability of 26.89414405822754%\n",
      "Abdul Rashid Salim Salman Khan is of muslim with muslim probability of 73.10585021972656%\n"
     ]
    }
   ],
   "source": [
    "for i in range(0, len(examples)):\n",
    "  print(f\"{examples[i]} is of {classes[res_args[i]]} with muslim probability of {new_probs[i][1] * 100}%\")"
   ]
  }
 ],
 "metadata": {
  "accelerator": "GPU",
  "colab": {
   "authorship_tag": "ABX9TyNRlGvlh9wqOUss3WO403LD",
   "collapsed_sections": [],
   "machine_shape": "hm",
   "mount_file_id": "17IO-H4Bf4DHD17aEPg0t4wDGXZEFJBTD",
   "name": "train_english_softmax.ipynb",
   "provenance": []
  },
  "kernelspec": {
   "display_name": "Python 3",
   "name": "python3"
  },
  "language_info": {
   "name": "python"
  }
 },
 "nbformat": 4,
 "nbformat_minor": 0
}